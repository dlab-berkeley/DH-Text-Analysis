{
 "cells": [
  {
   "cell_type": "markdown",
   "id": "98d92482-218c-47e7-b735-176dae27cd99",
   "metadata": {},
   "source": [
    "# Text Analysis for Digital Humanities: Project\n",
    "\n",
    "This notebook is meant to help you with your own project. \n",
    "You are not expected to understand all the code in this notebook, but feel free to [submit a consulting request](https://dlab.berkeley.edu/consulting/submit-consulting-request) with me if you want to learn more.\n",
    "\n",
    "<div class=\"alert alert-warning\">\n",
    "<b>Yellow text</b> like this indicates there are inputs and code that you can alter, so that it points to the texts and words you want to analyze.</div>\n"
   ]
  },
  {
   "cell_type": "code",
   "execution_count": 4,
   "id": "28ab158c-7a87-4cc8-8a75-d06c40748b43",
   "metadata": {},
   "outputs": [
    {
     "name": "stdout",
     "output_type": "stream",
     "text": [
      "Requirement already satisfied: nltk in /Users/tomvannuenen/anaconda3/envs/dlab/lib/python3.10/site-packages (3.8.1)\n",
      "Requirement already satisfied: click in /Users/tomvannuenen/anaconda3/envs/dlab/lib/python3.10/site-packages (from nltk) (8.1.6)\n",
      "Requirement already satisfied: joblib in /Users/tomvannuenen/anaconda3/envs/dlab/lib/python3.10/site-packages (from nltk) (1.3.1)\n",
      "Requirement already satisfied: regex>=2021.8.3 in /Users/tomvannuenen/anaconda3/envs/dlab/lib/python3.10/site-packages (from nltk) (2023.6.3)\n",
      "Requirement already satisfied: tqdm in /Users/tomvannuenen/anaconda3/envs/dlab/lib/python3.10/site-packages (from nltk) (4.65.0)\n",
      "Note: you may need to restart the kernel to use updated packages.\n"
     ]
    },
    {
     "name": "stderr",
     "output_type": "stream",
     "text": [
      "[nltk_data] Downloading package punkt to\n",
      "[nltk_data]     /Users/tomvannuenen/nltk_data...\n",
      "[nltk_data]   Unzipping tokenizers/punkt.zip.\n",
      "[nltk_data] Downloading package wordnet to\n",
      "[nltk_data]     /Users/tomvannuenen/nltk_data...\n",
      "[nltk_data] Downloading package omw-1.4 to\n",
      "[nltk_data]     /Users/tomvannuenen/nltk_data...\n",
      "[nltk_data] Downloading package stopwords to\n",
      "[nltk_data]     /Users/tomvannuenen/nltk_data...\n",
      "[nltk_data]   Unzipping corpora/stopwords.zip.\n"
     ]
    },
    {
     "data": {
      "text/plain": [
       "True"
      ]
     },
     "execution_count": 4,
     "metadata": {},
     "output_type": "execute_result"
    }
   ],
   "source": [
    "%pip install nltk\n",
    "import nltk\n",
    "nltk.download('punkt')\n",
    "nltk.download('wordnet')\n",
    "nltk.download('omw-1.4')\n",
    "nltk.download('stopwords')"
   ]
  },
  {
   "cell_type": "markdown",
   "id": "be8eadf9-b2f0-4e2b-a229-860f47fe3df1",
   "metadata": {},
   "source": [
    "## Import Data\n",
    "\n",
    "<div class=\"alert alert-warning\">\n",
    "Change the <b>file_path</b> variable below to point to a text you are interested in exploring!\n",
    "</div>"
   ]
  },
  {
   "cell_type": "code",
   "execution_count": 3,
   "id": "273a942a-dfee-4225-bcf2-d419b8cb9c3a",
   "metadata": {},
   "outputs": [],
   "source": [
    "file_path = 'data/1895_wilde-oscar_the-importance-of-being-earnest.txt'\n",
    "\n",
    "with open(file_path, 'r', encoding='utf-8') as file:\n",
    "    text = file.read()"
   ]
  },
  {
   "cell_type": "markdown",
   "id": "c8f3e122-e615-4865-93e3-7702571fd5ba",
   "metadata": {
    "tags": []
   },
   "source": [
    "# NLTK Text objects\n",
    "\n",
    "<div class=\"alert alert-warning\">\n",
    "Change the inputs for the methods below (currently 'brother', 'sister' etc.) to explore words of interest."
   ]
  },
  {
   "cell_type": "code",
   "execution_count": 6,
   "id": "e12c0030-2644-4787-8bce-b3e4d704b4a0",
   "metadata": {},
   "outputs": [
    {
     "name": "stdout",
     "output_type": "stream",
     "text": [
      "Concordance for input word:\n",
      "Displaying 25 of 51 matches:\n",
      " always pretended to have a younger brother of the name of Ernest , who lives i\n",
      "have invented a very useful younger brother called Ernest , in order that you m\n",
      " accepts me , I am going to kill my brother , indeed I think I 'll kill him in \n",
      "en propose for practice . I know my brother Gerald does . All my girl-friends t\n",
      "nsense . Algernon : What about your brother ? What about the profligate Ernest \n",
      "! Jack : Very well , then . My poor brother Ernest was carried off suddenly , i\n",
      "le too much interested in your poor brother Ernest ? Wo n't she feel his loss a\n",
      "ts , that unfortunate young man his brother seems to be . But I must not distur\n",
      "4 , The Albany , W. ' Uncle Jack 's brother ! Did you tell him Mr. Worthing was\n",
      " from your card , are Uncle Jack 's brother , my cousin Ernest , my wicked cous\n",
      " some terrible calamity ? Jack : My brother . Miss Prism : More shameful debts \n",
      "ack : [ -- ] Dead ! Chasuble : Your brother Ernest dead ? Jack : Quite dead . M\n",
      "re interested , Mr. Worthing ? Your brother was , I believe , unmarried , was h\n",
      " think is in the dining-room ? Your brother ! Jack : Who ? Cecily : Your brothe\n",
      "rother ! Jack : Who ? Cecily : Your brother Ernest . He arrived about half an h\n",
      " : What nonsense ! I have n't got a brother . Cecily : Oh , do n't say that . H\n",
      " you in the past , he is still your brother . You could n't be so heartless as \n",
      " peculiarly distressing . Jack . My brother is in the dining-room ? I do n't kn\n",
      "otions Algernon away . ] Algernon . Brother John , I have come down from town t\n",
      "ou are not going to refuse your own brother 's hand ? Jack . Nothing will induc\n",
      " . But I must say that I think that Brother John 's coldness to me is peculiarl\n",
      "nfessed to us that he had a younger brother who was very wicked and bad , you o\n",
      "hing who is my guardian . It is his brother -- his elder brother . GWENDOLEN : \n",
      "an . It is his brother -- his elder brother . GWENDOLEN : [ Sitting down again \n",
      "never mentioned to me that he had a brother . CECILY : I am sorry to say they h\n",
      "\n",
      "Words similar to input word:\n",
      "name case man moment room music for but two way little pleasure county\n",
      "aunt well being doubt matter place hard\n",
      "\n",
      "Common contexts of input words:\n",
      "No common contexts were found\n",
      "\n",
      "Collocations in the text:\n",
      "Lady Bracknell; Miss Prism; Mr. Worthing; Aunt Augusta; Miss Fairfax;\n",
      "Miss Cardew; Uncle Jack; cigarette case; Dr. Chasuble; dear fellow;\n",
      "Good heavens; LADY BRACKNELL; n't think; severe chill; cucumber\n",
      "sandwiches; MISS PRISM; Lord Bracknell; need hardly; Mr. Bunbury;\n",
      "three months\n",
      "\n",
      "Dispersion plot for input words:\n"
     ]
    },
    {
     "data": {
      "image/png": "[encoded data removed]",
      "text/plain": [
       "<Figure size 432x288 with 1 Axes>"
      ]
     },
     "metadata": {
      "needs_background": "light"
     },
     "output_type": "display_data"
    }
   ],
   "source": [
    "from nltk.text import Text\n",
    "from nltk.tokenize import word_tokenize\n",
    "\n",
    "# Assuming 'text' is your corpus as a single string\n",
    "# Tokenize the corpus\n",
    "tokens = word_tokenize(text)\n",
    "# Create an NLTK Text object\n",
    "nltk_text = Text(tokens)\n",
    "\n",
    "# Example operations:\n",
    "# 1. Concordance\n",
    "print(\"Concordance for input word:\")\n",
    "nltk_text.concordance('brother')\n",
    "\n",
    "# 2. Similar\n",
    "print(\"\\nWords similar to input word:\")\n",
    "nltk_text.similar('brother')\n",
    "\n",
    "# 3. Common Contexts\n",
    "print(\"\\nCommon contexts of input words:\")\n",
    "nltk_text.common_contexts(['brother', 'sister'])\n",
    "\n",
    "# 4. Collocations\n",
    "print(\"\\nCollocations in the text:\")\n",
    "nltk_text.collocations()\n",
    "\n",
    "# 5. Dispersion Plot\n",
    "print(\"\\nDispersion plot for input words:\")\n",
    "nltk_text.dispersion_plot(['brother', 'mother', 'sister'])"
   ]
  },
  {
   "cell_type": "markdown",
   "id": "076778c7-5e78-4e7e-815b-d0934226113a",
   "metadata": {},
   "source": [
    "# Comparative stylometry using TF-IDF"
   ]
  },
  {
   "cell_type": "code",
   "execution_count": 5,
   "id": "2d510dfb-f764-4af2-92a3-41095cfc0fd3",
   "metadata": {},
   "outputs": [],
   "source": [
    "from nltk.corpus import gutenberg\n",
    "from sklearn.feature_extraction.text import TfidfVectorizer\n",
    "import pandas as pd\n",
    "from sklearn.decomposition import PCA\n",
    "from matplotlib import pyplot as plt\n",
    "%matplotlib inline\n",
    "import matplotlib.pyplot as plt\n",
    "plt.rcParams['figure.figsize'] = [10, 10]"
   ]
  },
  {
   "cell_type": "markdown",
   "id": "06c76194-ef28-4c58-9a5c-da1d83e71eb8",
   "metadata": {},
   "source": [
    "<div class=\"alert alert-warning\">\n",
    "Change the file paths for the <b>read_file</b> function calls below to point to texts you want to compare.\n",
    "</div>"
   ]
  },
  {
   "cell_type": "code",
   "execution_count": 127,
   "id": "bf560775-4660-46d6-ba0f-ef0adb1866d8",
   "metadata": {},
   "outputs": [],
   "source": [
    "def read_file(file_path):\n",
    "    with open(file_path, 'r', encoding='utf-8') as file:\n",
    "        return file.read()\n",
    "\n",
    "text1 = read_file('data/1853_boucicault-dion_grimaldi.txt')\n",
    "text2 = read_file('data/1856_boucicault-dion_the-phantom.txt')\n",
    "text3 = read_file('data/1919_yeats-wb_the-only-jealousy-of-emer.txt')\n",
    "text4 = read_file('data/1895_wilde-oscar_the-importance-of-being-earnest.txt')\n",
    "text5 = read_file('data/1895_shaw-george-bernard_you-never-can-tell.txt')"
   ]
  },
  {
   "cell_type": "markdown",
   "id": "949ae3d5-838f-40b6-8335-945d7a7d135d",
   "metadata": {},
   "source": [
    "<div class=\"alert alert-warning\">\n",
    "Change the list items for <b>texts</b> below to the texts you are comparing. Note that I am simply using author names.\n",
    "\n",
    "It is recommended to use at least 2 texts of the same author, so you can check if those texts are more similar.\n",
    "\n",
    "</div>"
   ]
  },
  {
   "cell_type": "code",
   "execution_count": 128,
   "id": "6ccca4d9-184c-482e-a290-052571428aa3",
   "metadata": {},
   "outputs": [],
   "source": [
    "texts = ['boucicault1','boucicault2','yeats','wilde','shaw']"
   ]
  },
  {
   "cell_type": "code",
   "execution_count": 169,
   "id": "d61ac4fa-24d0-4ad3-b76e-08b9005670fb",
   "metadata": {},
   "outputs": [],
   "source": [
    "tfidf = TfidfVectorizer(max_features=500)"
   ]
  },
  {
   "cell_type": "code",
   "execution_count": 170,
   "id": "75b047bd-edbe-47f8-8d3f-cbfbea92a0b2",
   "metadata": {},
   "outputs": [],
   "source": [
    "tfidf_matrix = tfidf.fit_transform([text1, text2, text3, text4, text5])"
   ]
  },
  {
   "cell_type": "code",
   "execution_count": 171,
   "id": "8b96ecde-0496-436b-a7db-35bf5cc7f7ff",
   "metadata": {},
   "outputs": [
    {
     "data": {
      "text/plain": [
       "<5x7215 sparse matrix of type '<class 'numpy.float64'>'\n",
       "\twith 11884 stored elements in Compressed Sparse Row format>"
      ]
     },
     "execution_count": 171,
     "metadata": {},
     "output_type": "execute_result"
    }
   ],
   "source": [
    "tfidf_matrix"
   ]
  },
  {
   "cell_type": "markdown",
   "id": "591ea306-4b5b-4084-b7a1-f303947aee91",
   "metadata": {},
   "source": [
    "**Sparse matrix**: Matrix (table) with some values missing    \n",
    "**Dense matrix**: That matrix filled in (think: fillna(0)). "
   ]
  },
  {
   "cell_type": "code",
   "execution_count": 172,
   "id": "96b94833-aaaa-497d-afbf-c72ce1a574ff",
   "metadata": {},
   "outputs": [],
   "source": [
    "tfidfDense = tfidf_matrix.todense()"
   ]
  },
  {
   "cell_type": "code",
   "execution_count": 173,
   "id": "947bc78b-a158-45fc-9028-59bf3c509713",
   "metadata": {},
   "outputs": [],
   "source": [
    "labels = tfidf.get_feature_names_out()"
   ]
  },
  {
   "cell_type": "code",
   "execution_count": 174,
   "id": "bb2ec057-6eef-4d3f-9945-94b92b8c49fb",
   "metadata": {},
   "outputs": [],
   "source": [
    "df = pd.DataFrame(tfidfDense, index=texts, columns=labels)"
   ]
  },
  {
   "cell_type": "code",
   "execution_count": 175,
   "id": "b9624e6c-97d1-4e00-9c2c-071411d3b145",
   "metadata": {},
   "outputs": [
    {
     "data": {
      "text/html": [
       "<div>\n",
       "<style scoped>\n",
       "    .dataframe tbody tr th:only-of-type {\n",
       "        vertical-align: middle;\n",
       "    }\n",
       "\n",
       "    .dataframe tbody tr th {\n",
       "        vertical-align: top;\n",
       "    }\n",
       "\n",
       "    .dataframe thead th {\n",
       "        text-align: right;\n",
       "    }\n",
       "</style>\n",
       "<table border=\"1\" class=\"dataframe\">\n",
       "  <thead>\n",
       "    <tr style=\"text-align: right;\">\n",
       "      <th></th>\n",
       "      <th>10</th>\n",
       "      <th>104</th>\n",
       "      <th>12</th>\n",
       "      <th>149</th>\n",
       "      <th>14th</th>\n",
       "      <th>1645</th>\n",
       "      <th>1750</th>\n",
       "      <th>1860</th>\n",
       "      <th>1896</th>\n",
       "      <th>1what</th>\n",
       "      <th>...</th>\n",
       "      <th>yours</th>\n",
       "      <th>yourself</th>\n",
       "      <th>yourselves</th>\n",
       "      <th>youth</th>\n",
       "      <th>yrs</th>\n",
       "      <th>ze</th>\n",
       "      <th>zem</th>\n",
       "      <th>zj</th>\n",
       "      <th>ça</th>\n",
       "      <th>émotion</th>\n",
       "    </tr>\n",
       "  </thead>\n",
       "  <tbody>\n",
       "    <tr>\n",
       "      <th>boucicault1</th>\n",
       "      <td>0.001649</td>\n",
       "      <td>0.00000</td>\n",
       "      <td>0.000000</td>\n",
       "      <td>0.00000</td>\n",
       "      <td>0.00000</td>\n",
       "      <td>0.000000</td>\n",
       "      <td>0.000000</td>\n",
       "      <td>0.000000</td>\n",
       "      <td>0.000000</td>\n",
       "      <td>0.001649</td>\n",
       "      <td>...</td>\n",
       "      <td>0.008364</td>\n",
       "      <td>0.007074</td>\n",
       "      <td>0.003299</td>\n",
       "      <td>0.000000</td>\n",
       "      <td>0.001649</td>\n",
       "      <td>0.001649</td>\n",
       "      <td>0.003299</td>\n",
       "      <td>0.001649</td>\n",
       "      <td>0.003299</td>\n",
       "      <td>0.001649</td>\n",
       "    </tr>\n",
       "    <tr>\n",
       "      <th>boucicault2</th>\n",
       "      <td>0.000000</td>\n",
       "      <td>0.00000</td>\n",
       "      <td>0.000000</td>\n",
       "      <td>0.00000</td>\n",
       "      <td>0.00000</td>\n",
       "      <td>0.002359</td>\n",
       "      <td>0.002359</td>\n",
       "      <td>0.000000</td>\n",
       "      <td>0.000000</td>\n",
       "      <td>0.000000</td>\n",
       "      <td>...</td>\n",
       "      <td>0.003987</td>\n",
       "      <td>0.001124</td>\n",
       "      <td>0.000000</td>\n",
       "      <td>0.001580</td>\n",
       "      <td>0.000000</td>\n",
       "      <td>0.000000</td>\n",
       "      <td>0.000000</td>\n",
       "      <td>0.000000</td>\n",
       "      <td>0.000000</td>\n",
       "      <td>0.000000</td>\n",
       "    </tr>\n",
       "    <tr>\n",
       "      <th>yeats</th>\n",
       "      <td>0.000000</td>\n",
       "      <td>0.00000</td>\n",
       "      <td>0.000000</td>\n",
       "      <td>0.00000</td>\n",
       "      <td>0.00000</td>\n",
       "      <td>0.000000</td>\n",
       "      <td>0.000000</td>\n",
       "      <td>0.000000</td>\n",
       "      <td>0.000000</td>\n",
       "      <td>0.000000</td>\n",
       "      <td>...</td>\n",
       "      <td>0.000000</td>\n",
       "      <td>0.002796</td>\n",
       "      <td>0.000000</td>\n",
       "      <td>0.007858</td>\n",
       "      <td>0.000000</td>\n",
       "      <td>0.000000</td>\n",
       "      <td>0.000000</td>\n",
       "      <td>0.000000</td>\n",
       "      <td>0.000000</td>\n",
       "      <td>0.000000</td>\n",
       "    </tr>\n",
       "    <tr>\n",
       "      <th>wilde</th>\n",
       "      <td>0.000000</td>\n",
       "      <td>0.00118</td>\n",
       "      <td>0.000000</td>\n",
       "      <td>0.00236</td>\n",
       "      <td>0.00236</td>\n",
       "      <td>0.000000</td>\n",
       "      <td>0.000000</td>\n",
       "      <td>0.000000</td>\n",
       "      <td>0.000000</td>\n",
       "      <td>0.000000</td>\n",
       "      <td>...</td>\n",
       "      <td>0.002660</td>\n",
       "      <td>0.001125</td>\n",
       "      <td>0.000000</td>\n",
       "      <td>0.000000</td>\n",
       "      <td>0.000000</td>\n",
       "      <td>0.000000</td>\n",
       "      <td>0.000000</td>\n",
       "      <td>0.000000</td>\n",
       "      <td>0.000000</td>\n",
       "      <td>0.000000</td>\n",
       "    </tr>\n",
       "    <tr>\n",
       "      <th>shaw</th>\n",
       "      <td>0.000000</td>\n",
       "      <td>0.00000</td>\n",
       "      <td>0.001306</td>\n",
       "      <td>0.00000</td>\n",
       "      <td>0.00000</td>\n",
       "      <td>0.000000</td>\n",
       "      <td>0.000000</td>\n",
       "      <td>0.000653</td>\n",
       "      <td>0.000653</td>\n",
       "      <td>0.000000</td>\n",
       "      <td>...</td>\n",
       "      <td>0.003678</td>\n",
       "      <td>0.004977</td>\n",
       "      <td>0.000000</td>\n",
       "      <td>0.001749</td>\n",
       "      <td>0.000000</td>\n",
       "      <td>0.000000</td>\n",
       "      <td>0.000000</td>\n",
       "      <td>0.000000</td>\n",
       "      <td>0.000000</td>\n",
       "      <td>0.000000</td>\n",
       "    </tr>\n",
       "  </tbody>\n",
       "</table>\n",
       "<p>5 rows × 7215 columns</p>\n",
       "</div>"
      ],
      "text/plain": [
       "                   10      104        12      149     14th      1645  \\\n",
       "boucicault1  0.001649  0.00000  0.000000  0.00000  0.00000  0.000000   \n",
       "boucicault2  0.000000  0.00000  0.000000  0.00000  0.00000  0.002359   \n",
       "yeats        0.000000  0.00000  0.000000  0.00000  0.00000  0.000000   \n",
       "wilde        0.000000  0.00118  0.000000  0.00236  0.00236  0.000000   \n",
       "shaw         0.000000  0.00000  0.001306  0.00000  0.00000  0.000000   \n",
       "\n",
       "                 1750      1860      1896     1what  ...     yours  yourself  \\\n",
       "boucicault1  0.000000  0.000000  0.000000  0.001649  ...  0.008364  0.007074   \n",
       "boucicault2  0.002359  0.000000  0.000000  0.000000  ...  0.003987  0.001124   \n",
       "yeats        0.000000  0.000000  0.000000  0.000000  ...  0.000000  0.002796   \n",
       "wilde        0.000000  0.000000  0.000000  0.000000  ...  0.002660  0.001125   \n",
       "shaw         0.000000  0.000653  0.000653  0.000000  ...  0.003678  0.004977   \n",
       "\n",
       "             yourselves     youth       yrs        ze       zem        zj  \\\n",
       "boucicault1    0.003299  0.000000  0.001649  0.001649  0.003299  0.001649   \n",
       "boucicault2    0.000000  0.001580  0.000000  0.000000  0.000000  0.000000   \n",
       "yeats          0.000000  0.007858  0.000000  0.000000  0.000000  0.000000   \n",
       "wilde          0.000000  0.000000  0.000000  0.000000  0.000000  0.000000   \n",
       "shaw           0.000000  0.001749  0.000000  0.000000  0.000000  0.000000   \n",
       "\n",
       "                   ça   émotion  \n",
       "boucicault1  0.003299  0.001649  \n",
       "boucicault2  0.000000  0.000000  \n",
       "yeats        0.000000  0.000000  \n",
       "wilde        0.000000  0.000000  \n",
       "shaw         0.000000  0.000000  \n",
       "\n",
       "[5 rows x 7215 columns]"
      ]
     },
     "execution_count": 175,
     "metadata": {},
     "output_type": "execute_result"
    }
   ],
   "source": [
    "df"
   ]
  },
  {
   "cell_type": "markdown",
   "id": "7970b7b1-9182-4352-a736-3c60078ad7de",
   "metadata": {},
   "source": [
    "## Stylometry?\n",
    "\n",
    "Stylometry is the \"measurement of style.\" It's a way to show how the style of writers is similar or different. Style, in this case, deals with the 800 most frequent words, which are function words, rather than content words."
   ]
  },
  {
   "cell_type": "code",
   "execution_count": 176,
   "id": "a56d9f11-5186-4adf-9ba2-b8c67de1e7fa",
   "metadata": {},
   "outputs": [],
   "source": [
    "pca = PCA(2)"
   ]
  },
  {
   "cell_type": "code",
   "execution_count": 177,
   "id": "4ad7ec7c-d452-4b81-920f-52127b934fda",
   "metadata": {},
   "outputs": [],
   "source": [
    "import numpy as np\n",
    "tfidfArray = np.asarray(tfidfDense)"
   ]
  },
  {
   "cell_type": "code",
   "execution_count": 178,
   "id": "c34cd9f2-bf29-4905-9af9-0dd42d12ab81",
   "metadata": {},
   "outputs": [],
   "source": [
    "pcaOut = pca.fit_transform(tfidfArray)"
   ]
  },
  {
   "cell_type": "code",
   "execution_count": 179,
   "id": "50628e1b-1b9c-4f73-bf2b-732d0de41a75",
   "metadata": {},
   "outputs": [
    {
     "data": {
      "text/plain": [
       "array([[ 0.02893628,  0.4640677 ],\n",
       "       [-0.21046529,  0.07160521],\n",
       "       [-0.32289931, -0.32358129],\n",
       "       [ 0.54142379, -0.19136394],\n",
       "       [-0.03699547, -0.02072767]])"
      ]
     },
     "execution_count": 179,
     "metadata": {},
     "output_type": "execute_result"
    }
   ],
   "source": [
    "pcaOut"
   ]
  },
  {
   "cell_type": "code",
   "execution_count": 180,
   "id": "84b472c4-0aff-4550-87a7-3abdf937e495",
   "metadata": {},
   "outputs": [
    {
     "data": {
      "image/png": "[encoded data removed]",
      "text/plain": [
       "<Figure size 720x720 with 1 Axes>"
      ]
     },
     "metadata": {
      "needs_background": "light"
     },
     "output_type": "display_data"
    }
   ],
   "source": [
    "xs, ys = pcaOut[:,0], pcaOut[:,1]\n",
    "for i in range(len(xs)): \n",
    "    plt.scatter(xs[i], ys[i])\n",
    "    plt.annotate(texts[i], (xs[i], ys[i]))"
   ]
  },
  {
   "cell_type": "markdown",
   "id": "1be494f6-98c4-431f-9427-eebfc1550d58",
   "metadata": {},
   "source": [
    "<a id='topic'></a>\n",
    "# Topic Modeling using Scikit-Learn"
   ]
  },
  {
   "cell_type": "code",
   "execution_count": 202,
   "id": "847b0f06-a792-4c8a-99ec-6a702565b4a6",
   "metadata": {},
   "outputs": [],
   "source": [
    "from sklearn.feature_extraction.text import CountVectorizer\n",
    "import pandas as pd\n",
    "from nltk import word_tokenize\n",
    "%matplotlib inline\n",
    "from matplotlib import pyplot as plt\n",
    "plt.rcParams['figure.figsize'] = [10, 5]"
   ]
  },
  {
   "cell_type": "markdown",
   "id": "4b3264e0-d51b-48ef-a22c-2a6a990f9359",
   "metadata": {},
   "source": [
    "<div class=\"alert alert-warning\">\n",
    "Change the input of <b>split_text_into_chunks</b> below to the play you want to explore using topic modeling.<br>\n",
    "It is recommended to use a longer play, as this will improve the topic model.\n",
    "</div>"
   ]
  },
  {
   "cell_type": "code",
   "execution_count": 82,
   "id": "a7f0ca78-baf4-4257-af06-6f23278b855e",
   "metadata": {},
   "outputs": [],
   "source": [
    "def split_text_into_chunks(text, chunk_size=2000):\n",
    "    # Split the text into words\n",
    "    words = text.split()\n",
    "    \n",
    "    # Calculate the number of chunks\n",
    "    num_chunks = len(words) // chunk_size + (1 if len(words) % chunk_size > 0 else 0)\n",
    "    \n",
    "    # Split the words into chunks of the specified size\n",
    "    chunks = [\" \".join(words[i*chunk_size:(i+1)*chunk_size]) for i in range(num_chunks)]\n",
    "    \n",
    "    return chunks\n",
    "\n",
    "author_chunks = split_text_into_chunks(author4)"
   ]
  },
  {
   "cell_type": "code",
   "execution_count": 83,
   "id": "d6a6dda5-7f34-4b63-9d0f-f20f4e95df1c",
   "metadata": {},
   "outputs": [
    {
     "data": {
      "text/plain": [
       "10"
      ]
     },
     "execution_count": 83,
     "metadata": {},
     "output_type": "execute_result"
    }
   ],
   "source": [
    "len(author_chunks)"
   ]
  },
  {
   "cell_type": "code",
   "execution_count": 84,
   "id": "033610be-7919-4c3a-ae83-d9817a4ee944",
   "metadata": {},
   "outputs": [],
   "source": [
    "from gensim.parsing.preprocessing import STOPWORDS\n",
    "from gensim import corpora\n",
    "from gensim.utils import simple_preprocess\n",
    "\n",
    "# Tokenize and preprocess documents\n",
    "def preprocess(text):\n",
    "    return [word for word in simple_preprocess(text) if word not in STOPWORDS]\n",
    "\n",
    "# Preprocess the documents\n",
    "processed_docs = [preprocess(doc) for doc in author_chunks]\n",
    "\n",
    "# Create a dictionary representation of the documents\n",
    "dictionary = corpora.Dictionary(processed_docs)\n",
    "\n",
    "# Create a bag-of-words model for each document\n",
    "bow_corpus = [dictionary.doc2bow(doc) for doc in processed_docs]\n"
   ]
  },
  {
   "cell_type": "code",
   "execution_count": 91,
   "id": "154b9107-6993-46dc-9711-c2bd048328c8",
   "metadata": {},
   "outputs": [],
   "source": [
    "from gensim.models import LdaModel\n",
    "\n",
    "# Number of topics\n",
    "num_topics = 3\n",
    "\n",
    "# Train the model on the bag-of-words corpus\n",
    "lda_model = LdaModel(bow_corpus, num_topics=num_topics, id2word=dictionary, passes=20)"
   ]
  },
  {
   "cell_type": "code",
   "execution_count": 92,
   "id": "fdf64d91-afe5-45b0-b099-fba9f84c644f",
   "metadata": {},
   "outputs": [],
   "source": [
    "import pandas as pd\n",
    "\n",
    "# Initialize an empty list to hold the topic distribution for each document\n",
    "topics_over_time = []\n",
    "\n",
    "for document_bow in bow_corpus:\n",
    "    # Get the topic distribution for the document\n",
    "    document_topics = lda_model.get_document_topics(document_bow, minimum_probability=0)\n",
    "    # Convert the topic distribution to a dictionary with topic ID as keys and probability as values\n",
    "    topic_prob_dict = {topic: prob for topic, prob in document_topics}\n",
    "    # Append the topic distribution dictionary to the list\n",
    "    topics_over_time.append(topic_prob_dict)\n",
    "\n",
    "# Create a DataFrame from the list of topic distribution dictionaries\n",
    "df_topics_over_time = pd.DataFrame(topics_over_time).fillna(0)  # Fill missing values with 0s"
   ]
  },
  {
   "cell_type": "code",
   "execution_count": 93,
   "id": "0f1ebfb7-07c3-4cc7-8af6-97652b1b7098",
   "metadata": {},
   "outputs": [
    {
     "data": {
      "text/plain": [
       "<Axes: >"
      ]
     },
     "execution_count": 93,
     "metadata": {},
     "output_type": "execute_result"
    },
    {
     "data": {
      "image/png": "[encoded data removed]",
      "text/plain": [
       "<Figure size 720x720 with 1 Axes>"
      ]
     },
     "metadata": {
      "needs_background": "light"
     },
     "output_type": "display_data"
    }
   ],
   "source": [
    "df_topics_over_time.plot()"
   ]
  },
  {
   "cell_type": "code",
   "execution_count": 94,
   "id": "ba5c59aa-10ed-4962-9f6e-e6d902065adf",
   "metadata": {},
   "outputs": [
    {
     "data": {
      "text/html": [
       "\n",
       "<link rel=\"stylesheet\" type=\"text/css\" href=\"https://cdn.jsdelivr.net/gh/bmabey/pyLDAvis@3.4.0/pyLDAvis/js/ldavis.v1.0.0.css\">\n",
       "\n",
       "\n",
       "<div id=\"ldavis_el2371111385951044320494038\" style=\"background-color:white;\"></div>\n",
       "<script type=\"text/javascript\">\n",
       "\n",
       "var ldavis_el2371111385951044320494038_data = {\"mdsDat\": {\"x\": [-0.03142096403970825, -0.06757896167882851, 0.09899992571853673], \"y\": [0.07442778356448564, -0.058272317139799926, -0.016155466424685634], \"topics\": [1, 2, 3], \"cluster\": [1, 1, 1], \"Freq\": [65.17798326913574, 34.78060260353595, 0.04141412732832516]}, \"tinfo\": {\"Term\": [\"bracknell\", \"lane\", \"lady\", \"algernon\", \"jack\", \"chasuble\", \"case\", \"sir\", \"bag\", \"prism\", \"uncle\", \"engaged\", \"cigarette\", \"town\", \"muffins\", \"years\", \"ernest\", \"aunt\", \"sweet\", \"diary\", \"dear\", \"miss\", \"perfectly\", \"hardly\", \"oh\", \"good\", \"cousin\", \"thirty\", \"goes\", \"rising\", \"bracknell\", \"bag\", \"engaged\", \"muffins\", \"years\", \"lady\", \"sweet\", \"diary\", \"thirty\", \"rising\", \"baby\", \"markby\", \"pause\", \"position\", \"social\", \"idea\", \"pardon\", \"cough\", \"mother\", \"cloak\", \"opportunity\", \"absolute\", \"relations\", \"advise\", \"waiting\", \"importance\", \"cake\", \"frankly\", \"moncrieff\", \"voice\", \"hardly\", \"gwendolen\", \"cardew\", \"moment\", \"question\", \"fairfax\", \"cecily\", \"mr\", \"hand\", \"tea\", \"worthing\", \"age\", \"guardian\", \"brother\", \"jack\", \"like\", \"bunbury\", \"algernon\", \"miss\", \"augusta\", \"people\", \"speak\", \"looks\", \"know\", \"ernest\", \"merriman\", \"yes\", \"think\", \"dear\", \"oh\", \"prism\", \"time\", \"course\", \"chasuble\", \"lane\", \"cigarette\", \"monday\", \"horrid\", \"shropshire\", \"lives\", \"saw\", \"lesson\", \"mourning\", \"clothes\", \"doctor\", \"australia\", \"card\", \"bread\", \"sandwiches\", \"cucumber\", \"night\", \"dining\", \"drawn\", \"albany\", \"sad\", \"charity\", \"dressed\", \"pleasures\", \"intellectual\", \"sensible\", \"buttonhole\", \"rose\", \"excessively\", \"expression\", \"happy\", \"delightful\", \"cousin\", \"case\", \"town\", \"uncle\", \"chasuble\", \"sir\", \"algernon\", \"jack\", \"prism\", \"earth\", \"miss\", \"ernest\", \"aunt\", \"cecily\", \"dear\", \"oh\", \"perfectly\", \"goes\", \"good\", \"think\", \"yes\", \"talk\", \"enter\", \"algy\", \"mr\", \"know\", \"little\", \"room\", \"gwendolen\", \"worthing\", \"life\", \"brother\", \"like\", \"retreating\", \"stiffly\", \"helping\", \"playing\", \"ungentlemanly\", \"reading\", \"natural\", \"cups\", \"eats\", \"profit\", \"size\", \"brand\", \"cards\", \"furnished\", \"deep\", \"interferes\", \"artistically\", \"consumed\", \"memories\", \"quality\", \"demoralising\", \"hallo\", \"apologies\", \"envelopes\", \"confirmations\", \"adopted\", \"account\", \"earnest\", \"invariably\", \"sentiment\", \"divorce\", \"algernon\", \"cecily\", \"jack\", \"gwendolen\", \"miss\", \"bracknell\", \"lady\", \"ernest\", \"dear\", \"oh\", \"think\", \"chasuble\", \"mr\", \"prism\", \"brother\", \"know\", \"yes\", \"worthing\", \"lane\", \"time\", \"sir\", \"like\", \"enter\", \"good\", \"goes\", \"case\", \"fact\", \"uncle\", \"way\", \"bunbury\"], \"Freq\": [102.0, 36.0, 107.0, 215.0, 230.0, 44.0, 17.0, 26.0, 17.0, 59.0, 19.0, 16.0, 10.0, 16.0, 12.0, 11.0, 60.0, 28.0, 8.0, 8.0, 49.0, 94.0, 26.0, 16.0, 47.0, 28.0, 8.0, 7.0, 20.0, 7.0, 101.7882655111279, 17.074164683315583, 16.187719666782606, 12.65996594685633, 10.885990661765467, 104.25612117402902, 8.242825247193565, 8.242709280262904, 7.360282796942137, 7.355647840579779, 6.4769515235046065, 6.476474632757664, 6.476477733477735, 6.4707060531372935, 5.5932469233705095, 5.5932208773219125, 5.593132816871892, 5.593116072983507, 5.593040415413771, 5.592081672767772, 5.587305943714184, 5.586764557989762, 5.5849909461090625, 5.574170053204759, 4.710400602552108, 4.710291147133597, 4.710203086683576, 4.709890534100404, 4.7099770441903885, 4.7099525485018265, 15.15225032276601, 117.40911773594277, 20.609790511358497, 14.291325472706632, 9.964185033541076, 14.11477047185528, 135.24613645461932, 49.281029029204554, 20.607290090693123, 12.414666741739524, 38.61767006854775, 11.698366917526814, 9.076231206621475, 32.43474246535802, 133.2298448571201, 28.915834479650723, 25.390318239327794, 120.18837499472552, 59.31951847824267, 15.227833475220393, 17.79841227321467, 13.330120854970167, 14.925835743170543, 27.19646535558889, 34.98330615084712, 19.723934631639036, 30.681143872286736, 30.674416550020364, 28.183255875064468, 27.369393754245028, 31.208390313185294, 19.94531736270304, 15.783460186786186, 17.074493359643128, 36.55681184258845, 9.73908278823292, 5.781957440402233, 5.001974014460009, 4.21137486591602, 4.193824292388645, 4.16261283028234, 3.422638490604529, 3.42262757010059, 3.4225233289266273, 3.4224932148097045, 3.4224789850621478, 3.4224621079196966, 3.421675169787367, 4.154101124772816, 4.143791176281341, 5.5934616002308974, 3.4028915720879738, 3.402927311919047, 3.4001154476169426, 2.6327425563293367, 2.632759433471788, 2.6326762059947986, 2.6326450991047907, 2.632694075910335, 2.632549296502053, 2.6326143231391446, 2.6325398651577423, 2.63252828280508, 2.6323798632288185, 3.3494350434579836, 3.3252414942920963, 7.372147614248689, 13.461597986077253, 12.395967269527707, 13.948251381428907, 27.914375325789205, 16.594169029374072, 95.27676657385837, 97.05249081483817, 27.91633704540588, 7.074116472174573, 35.16668861014758, 25.3296522108257, 14.837217465589728, 54.95561334149059, 21.139895640692142, 20.28769392942841, 13.467751855509045, 11.225463975332959, 13.875475819482151, 20.492704218950365, 20.487619897055872, 8.978102362841955, 10.865440110716557, 9.292171423185717, 19.65526967640702, 14.912710578395476, 11.105568755360073, 10.066203505405564, 21.142349775759154, 14.180490127438699, 10.06240846482459, 11.808434891728897, 10.217217528663454, 0.0015474041700242489, 0.0015473691989869942, 0.00154732053506473, 0.0015473192544351968, 0.0015472593603770251, 0.0015472588678272048, 0.00154725827676742, 0.0015472482287510823, 0.0015472526616994665, 0.0015472206459611348, 0.0015472382792447083, 0.0015472252759294474, 0.001547229807387796, 0.0015472248818895911, 0.001547202717147669, 0.0015471969050597873, 0.0015472012394982075, 0.0015472000573786384, 0.001547193555721008, 0.0015471866600235212, 0.0015471906989320491, 0.0015471824240950649, 0.0015471622295524247, 0.0015471578951140046, 0.0015471567129944355, 0.0015471655788912042, 0.0015471591757435378, 0.0015471567129944355, 0.0015471428230894976, 0.0015471327750731596, 0.0015471356318621184, 0.0017160443626628619, 0.0016730780597020505, 0.0016752393683143556, 0.0016101360047314575, 0.0016075261802526153, 0.001607509827598575, 0.0016038426956750714, 0.0015895240753735324, 0.001588218030269524, 0.0015873769521960574, 0.0015857899566744423, 0.0015848784439766457, 0.0015841685811753571, 0.0015838281307394351, 0.0015818648271549666, 0.0015818458147318958, 0.001580334573372672, 0.001579255495225945, 0.0015778572447955413, 0.001569497393712312, 0.0015681084032185336, 0.0015676992913376355, 0.001565279492579538, 0.0015650487822436209, 0.0015644979145243863, 0.0015644425519245632, 0.0015639922628786723, 0.0015631904902808807, 0.0015631225184056532, 0.001563046764243262], \"Total\": [102.0, 36.0, 107.0, 215.0, 230.0, 44.0, 17.0, 26.0, 17.0, 59.0, 19.0, 16.0, 10.0, 16.0, 12.0, 11.0, 60.0, 28.0, 8.0, 8.0, 49.0, 94.0, 26.0, 16.0, 47.0, 28.0, 8.0, 7.0, 20.0, 7.0, 102.9284584949937, 17.34342682247348, 16.45925997053843, 12.926508841675606, 11.158786342410481, 107.14040878687325, 8.508954666059568, 8.508988353507748, 7.625784233077227, 7.6253076517074945, 6.742378057678207, 6.742322173539481, 6.742458102797189, 6.741759230913205, 5.8587090975949225, 5.858828438287595, 5.858970362300976, 5.859051516865894, 5.859093393226304, 5.858828895423179, 5.858322708416854, 5.8582570964987655, 5.858021915198086, 5.856894997071788, 4.975655769338923, 4.9755723873036155, 4.975657584155908, 4.975448982418775, 4.975554510593421, 4.975554610263532, 16.349494498468363, 138.55307764770666, 23.246034098940676, 16.25812802092696, 11.060582153140617, 16.239299860769375, 190.2034228741696, 68.93788287419275, 25.61592108918669, 14.47989374502326, 52.79973945148168, 13.613919727456988, 10.177006969063463, 44.24475922191407, 230.2840109113266, 39.134619707605516, 34.02217354066243, 215.46685761294654, 94.4878146145705, 18.72703262919241, 22.948623430505783, 16.15647134281498, 18.694975567066884, 42.1107577797991, 60.31454788574819, 27.892743857122284, 51.17034410391598, 51.168706558927404, 49.32473973378688, 47.65867506062563, 59.126311186721914, 29.49496871073961, 22.736194471607067, 44.990453563876315, 36.902520287522904, 10.038707013511454, 6.089911753798367, 5.29887696655981, 4.5090130855184, 4.510958141985538, 4.514382832542903, 3.7189692978167113, 3.718970550200311, 3.718907496520601, 3.7189786118583097, 3.7190144525866415, 3.7191041086395136, 3.7189170439384283, 4.515428260673358, 4.516632285964162, 6.111742962888128, 3.721028109387228, 3.7210726597433035, 3.72132331625336, 2.928942358411928, 2.9289817492133006, 2.9289534105632833, 2.9289592289829076, 2.9290152448172293, 2.9288815106624435, 2.928999133233607, 2.928968601488053, 2.928964565767333, 2.929020685219995, 3.7270529249771682, 3.7299751411744406, 8.550941277819215, 17.547803922974182, 16.790753852393312, 19.257493238608852, 44.990453563876315, 26.01168013467403, 215.46685761294654, 230.2840109113266, 59.126311186721914, 10.353405111654252, 94.4878146145705, 60.31454788574819, 28.871042287955735, 190.2034228741696, 49.32473973378688, 47.65867506062563, 26.383148344582832, 20.462658396566635, 28.100683823257935, 51.168706558927404, 51.17034410391598, 15.428845047010766, 21.388575863740364, 18.042065281507178, 68.93788287419275, 42.1107577797991, 24.89460624959184, 23.250857936734214, 138.55307764770666, 52.79973945148168, 23.251222025700056, 44.24475922191407, 39.134619707605516, 1.3489035367281679, 1.3489029965553692, 1.3489184896479083, 1.348919095255605, 1.3489256637724523, 1.3489319662277404, 1.3489337404107826, 1.348930674798669, 1.3489353166666778, 1.3489160560283346, 1.348937948322461, 1.3489324096836497, 1.348937796578576, 1.3489359425202196, 1.3489204630980283, 1.3489342653889715, 1.3489399943481408, 1.3489403979843482, 1.348940408013822, 1.3489345457013864, 1.3489417322649795, 1.3489433697748263, 1.3489308837219571, 1.3489276819457663, 1.3489268536662795, 1.3489482254780871, 1.348948436997742, 1.3489490271407096, 1.3489459664076349, 1.3489486683654195, 1.3489547790183856, 215.46685761294654, 190.2034228741696, 230.2840109113266, 138.55307764770666, 94.4878146145705, 102.9284584949937, 107.14040878687325, 60.31454788574819, 49.32473973378688, 47.65867506062563, 51.168706558927404, 44.990453563876315, 68.93788287419275, 59.126311186721914, 44.24475922191407, 42.1107577797991, 51.17034410391598, 52.79973945148168, 36.902520287522904, 29.49496871073961, 26.01168013467403, 39.134619707605516, 21.388575863740364, 28.100683823257935, 20.462658396566635, 17.547803922974182, 23.43348919040993, 19.257493238608852, 20.153637779797403, 34.02217354066243], \"Category\": [\"Default\", \"Default\", \"Default\", \"Default\", \"Default\", \"Default\", \"Default\", \"Default\", \"Default\", \"Default\", \"Default\", \"Default\", \"Default\", \"Default\", \"Default\", \"Default\", \"Default\", \"Default\", \"Default\", \"Default\", \"Default\", \"Default\", \"Default\", \"Default\", \"Default\", \"Default\", \"Default\", \"Default\", \"Default\", \"Default\", \"Topic1\", \"Topic1\", \"Topic1\", \"Topic1\", \"Topic1\", \"Topic1\", \"Topic1\", \"Topic1\", \"Topic1\", \"Topic1\", \"Topic1\", \"Topic1\", \"Topic1\", \"Topic1\", \"Topic1\", \"Topic1\", \"Topic1\", \"Topic1\", \"Topic1\", \"Topic1\", \"Topic1\", \"Topic1\", \"Topic1\", \"Topic1\", \"Topic1\", \"Topic1\", \"Topic1\", \"Topic1\", \"Topic1\", \"Topic1\", \"Topic1\", \"Topic1\", \"Topic1\", \"Topic1\", \"Topic1\", \"Topic1\", \"Topic1\", \"Topic1\", \"Topic1\", \"Topic1\", \"Topic1\", \"Topic1\", \"Topic1\", \"Topic1\", \"Topic1\", \"Topic1\", \"Topic1\", \"Topic1\", \"Topic1\", \"Topic1\", \"Topic1\", \"Topic1\", \"Topic1\", \"Topic1\", \"Topic1\", \"Topic1\", \"Topic1\", \"Topic1\", \"Topic1\", \"Topic1\", \"Topic1\", \"Topic1\", \"Topic1\", \"Topic1\", \"Topic2\", \"Topic2\", \"Topic2\", \"Topic2\", \"Topic2\", \"Topic2\", \"Topic2\", \"Topic2\", \"Topic2\", \"Topic2\", \"Topic2\", \"Topic2\", \"Topic2\", \"Topic2\", \"Topic2\", \"Topic2\", \"Topic2\", \"Topic2\", \"Topic2\", \"Topic2\", \"Topic2\", \"Topic2\", \"Topic2\", \"Topic2\", \"Topic2\", \"Topic2\", \"Topic2\", \"Topic2\", \"Topic2\", \"Topic2\", \"Topic2\", \"Topic2\", \"Topic2\", \"Topic2\", \"Topic2\", \"Topic2\", \"Topic2\", \"Topic2\", \"Topic2\", \"Topic2\", \"Topic2\", \"Topic2\", \"Topic2\", \"Topic2\", \"Topic2\", \"Topic2\", \"Topic2\", \"Topic2\", \"Topic2\", \"Topic2\", \"Topic2\", \"Topic2\", \"Topic2\", \"Topic2\", \"Topic2\", \"Topic2\", \"Topic2\", \"Topic2\", \"Topic2\", \"Topic2\", \"Topic2\", \"Topic2\", \"Topic2\", \"Topic2\", \"Topic2\", \"Topic3\", \"Topic3\", \"Topic3\", \"Topic3\", \"Topic3\", \"Topic3\", \"Topic3\", \"Topic3\", \"Topic3\", \"Topic3\", \"Topic3\", \"Topic3\", \"Topic3\", \"Topic3\", \"Topic3\", \"Topic3\", \"Topic3\", \"Topic3\", \"Topic3\", \"Topic3\", \"Topic3\", \"Topic3\", \"Topic3\", \"Topic3\", \"Topic3\", \"Topic3\", \"Topic3\", \"Topic3\", \"Topic3\", \"Topic3\", \"Topic3\", \"Topic3\", \"Topic3\", \"Topic3\", \"Topic3\", \"Topic3\", \"Topic3\", \"Topic3\", \"Topic3\", \"Topic3\", \"Topic3\", \"Topic3\", \"Topic3\", \"Topic3\", \"Topic3\", \"Topic3\", \"Topic3\", \"Topic3\", \"Topic3\", \"Topic3\", \"Topic3\", \"Topic3\", \"Topic3\", \"Topic3\", \"Topic3\", \"Topic3\", \"Topic3\", \"Topic3\", \"Topic3\", \"Topic3\", \"Topic3\"], \"logprob\": [30.0, 29.0, 28.0, 27.0, 26.0, 25.0, 24.0, 23.0, 22.0, 21.0, 20.0, 19.0, 18.0, 17.0, 16.0, 15.0, 14.0, 13.0, 12.0, 11.0, 10.0, 9.0, 8.0, 7.0, 6.0, 5.0, 4.0, 3.0, 2.0, 1.0, -3.9576, -5.743, -5.7963, -6.0421, -6.1931, -3.9337, -6.4712, -6.4712, -6.5844, -6.5851, -6.7123, -6.7124, -6.7124, -6.7133, -6.859, -6.859, -6.859, -6.859, -6.859, -6.8592, -6.86, -6.8601, -6.8605, -6.8624, -7.0308, -7.0308, -7.0308, -7.0309, -7.0309, -7.0309, -5.8624, -3.8149, -5.5548, -5.9209, -6.2815, -5.9333, -3.6734, -4.683, -5.5549, -6.0617, -4.9268, -6.1211, -6.3749, -5.1013, -3.6885, -5.2162, -5.3462, -3.7915, -4.4976, -5.8574, -5.7014, -5.9905, -5.8774, -5.2775, -5.0257, -5.5987, -5.1569, -5.1571, -5.2418, -5.2711, -5.1399, -5.5875, -5.8216, -5.743, -4.3536, -5.6763, -6.1977, -6.3426, -6.5147, -6.5189, -6.5263, -6.7221, -6.7221, -6.7221, -6.7221, -6.7221, -6.7221, -6.7224, -6.5284, -6.5309, -6.2309, -6.7279, -6.7278, -6.7287, -6.9845, -6.9844, -6.9845, -6.9845, -6.9845, -6.9845, -6.9845, -6.9845, -6.9845, -6.9846, -6.7437, -6.7509, -5.9548, -5.3526, -5.4351, -5.3171, -4.6233, -5.1434, -3.3957, -3.3772, -4.6233, -5.996, -4.3924, -4.7205, -5.2553, -3.946, -4.9013, -4.9425, -5.3522, -5.5343, -5.3224, -4.9324, -4.9327, -5.7577, -5.5669, -5.7233, -4.9741, -5.2503, -5.545, -5.6433, -4.9012, -5.3006, -5.6437, -5.4837, -5.6284, -7.6905, -7.6905, -7.6905, -7.6905, -7.6906, -7.6906, -7.6906, -7.6906, -7.6906, -7.6906, -7.6906, -7.6906, -7.6906, -7.6906, -7.6906, -7.6906, -7.6906, -7.6906, -7.6906, -7.6906, -7.6906, -7.6906, -7.6906, -7.6906, -7.6906, -7.6906, -7.6906, -7.6906, -7.6906, -7.6906, -7.6906, -7.587, -7.6124, -7.6111, -7.6507, -7.6523, -7.6524, -7.6546, -7.6636, -7.6644, -7.665, -7.666, -7.6665, -7.667, -7.6672, -7.6684, -7.6685, -7.6694, -7.6701, -7.671, -7.6763, -7.6772, -7.6774, -7.679, -7.6791, -7.6795, -7.6795, -7.6798, -7.6803, -7.6804, -7.6804], \"loglift\": [30.0, 29.0, 28.0, 27.0, 26.0, 25.0, 24.0, 23.0, 22.0, 21.0, 20.0, 19.0, 18.0, 17.0, 16.0, 15.0, 14.0, 13.0, 12.0, 11.0, 10.0, 9.0, 8.0, 7.0, 6.0, 5.0, 4.0, 3.0, 2.0, 1.0, 0.4169, 0.4124, 0.4114, 0.4072, 0.4033, 0.4008, 0.3963, 0.3963, 0.3926, 0.392, 0.3879, 0.3878, 0.3878, 0.387, 0.3817, 0.3817, 0.3816, 0.3816, 0.3816, 0.3815, 0.3807, 0.3806, 0.3803, 0.3786, 0.3733, 0.3733, 0.3732, 0.3732, 0.3732, 0.3732, 0.352, 0.2625, 0.3077, 0.2991, 0.3237, 0.2878, 0.0871, 0.0924, 0.2105, 0.2742, 0.1153, 0.2764, 0.3136, 0.1175, -0.1192, 0.1254, 0.1354, -0.1557, -0.0375, 0.2212, 0.1739, 0.2358, 0.2029, -0.0092, -0.1167, 0.0815, -0.0835, -0.0837, -0.1316, -0.1266, -0.2109, 0.0368, 0.0631, -0.5408, 1.0467, 1.0258, 1.0042, 0.9984, 0.9878, 0.9832, 0.975, 0.9731, 0.9731, 0.9731, 0.973, 0.973, 0.973, 0.9728, 0.9727, 0.97, 0.9675, 0.9667, 0.9667, 0.9658, 0.9495, 0.9495, 0.9495, 0.9495, 0.9495, 0.9494, 0.9494, 0.9494, 0.9494, 0.9493, 0.9493, 0.9413, 0.9078, 0.791, 0.7527, 0.7336, 0.5788, 0.6066, 0.2401, 0.192, 0.3056, 0.6752, 0.0677, 0.1885, 0.3904, -0.1855, 0.2088, 0.2021, 0.3837, 0.4557, 0.3504, 0.1411, 0.1408, 0.5147, 0.3788, 0.3926, -0.1987, 0.018, 0.2489, 0.219, -0.8239, -0.2585, 0.2186, -0.2648, -0.2868, 1.0188, 1.0188, 1.0188, 1.0188, 1.0187, 1.0187, 1.0187, 1.0187, 1.0187, 1.0187, 1.0187, 1.0187, 1.0187, 1.0187, 1.0187, 1.0187, 1.0187, 1.0187, 1.0187, 1.0187, 1.0187, 1.0187, 1.0187, 1.0187, 1.0187, 1.0186, 1.0186, 1.0186, 1.0186, 1.0186, 1.0186, -3.9512, -3.8519, -4.0418, -3.5734, -3.1922, -3.2778, -3.3202, -2.7546, -2.5543, -2.5204, -2.5925, -2.4644, -2.8916, -2.7383, -2.4496, -2.4002, -2.596, -2.628, -2.2707, -2.0519, -1.9271, -2.3359, -1.7332, -2.0063, -1.6895, -1.5359, -1.8254, -1.6296, -1.6752, -2.1988]}, \"token.table\": {\"Topic\": [1, 2, 2, 1, 1, 2, 2, 1, 2, 1, 2, 2, 2, 1, 2, 1, 2, 2, 1, 1, 1, 2, 2, 2, 1, 2, 1, 2, 2, 1, 2, 1, 2, 2, 1, 2, 1, 2, 2, 1, 2, 2, 1, 2, 2, 2, 1, 1, 2, 1, 2, 2, 2, 1, 2, 2, 2, 2, 1, 2, 2, 2, 2, 2, 2, 1, 2, 2, 1, 1, 2, 2, 1, 2, 2, 2, 1, 2, 1, 2, 1, 2, 1, 2, 1, 2, 1, 2, 1, 2, 2, 1, 2, 2, 1, 2, 2, 2, 1, 1, 2, 2, 2, 1, 2, 1, 2, 1, 2, 2, 2, 1, 2, 1, 2, 1, 2, 2, 1, 2, 1, 2, 1, 2, 1, 2, 1, 2, 1, 2, 1, 2, 1, 2, 1, 2, 1, 2, 1, 2, 1, 1, 1, 1, 2, 1, 2, 2, 2, 1, 1, 2, 2, 2, 1, 2, 2, 1, 2, 1, 1, 2, 2, 2, 2, 2, 2, 2, 2, 1, 2, 2, 1, 1, 2, 2, 1, 1, 2, 1, 2, 1, 2, 1, 1, 2, 1, 2, 1, 2, 2, 1, 1, 1, 2, 1, 2, 1, 1, 2], \"Freq\": [1.0241954050780646, 0.7413181798302302, 0.741318296071434, 1.02443359544601, 0.8814507680545535, 0.14690846134242558, 0.8061648357446162, 0.5569301995184882, 0.4409030746188031, 0.4988342442827126, 0.4988342442827126, 0.7413278264048708, 0.7413228195396772, 0.8009811429824407, 0.16019622859648816, 0.4849149490470749, 0.5195517311218659, 0.806665324441922, 0.8898937361080208, 0.9801984448639373, 0.9909795744678439, 0.009715486024194548, 0.7413269877877121, 0.8066864532215872, 0.7232495003419672, 0.27121856262823774, 0.7348148985872593, 0.2645333634914134, 1.0242406581691297, 1.0048923012551358, 0.8066458782455086, 0.9033799017337315, 0.12905427167624736, 0.7413240273468382, 0.22794875173884657, 0.7408334431512514, 0.7097664067239746, 0.28916409162828594, 1.0242467372170463, 0.37785793770369147, 0.6223542503354919, 0.9961442232092882, 1.0240954475880157, 0.8066885241987846, 0.7413300411968795, 0.7413225977176221, 1.0240565358963598, 0.7037237484918939, 0.30787913996520355, 0.11694618960768194, 0.8186233272537736, 0.8856155973622996, 0.7413279412222221, 0.567666451989818, 0.42574983899236357, 0.7413335532795816, 0.8042949045111876, 0.7413218644521592, 0.9401822716918019, 0.8062287926371065, 0.7413146945724046, 0.8066730984776898, 0.8062191401032609, 1.0242566471629377, 0.741317855515744, 0.28975974258199044, 0.6761060660246443, 0.7413253902129839, 0.9720971677122489, 0.514293240937471, 0.514293240937471, 0.7413295859994109, 0.5802911772844475, 0.4144936980603196, 1.0242527461966946, 1.0242331217181806, 0.6401095405859873, 0.3840657243515924, 0.8621061326554454, 0.12315801895077792, 1.004934432584472, 0.7413250462669844, 0.43982555079500724, 0.5375645620827866, 0.49820851649213954, 0.49820851649213954, 0.8843464515017644, 0.09826071683352938, 0.8444417257730731, 0.15156646360029516, 0.7413209645464405, 0.8198026503472007, 0.195191107225524, 0.8049255163228941, 0.9174595582392602, 0.06116397054928401, 0.7413346378408808, 0.9435961679340802, 1.0240955274931496, 1.0049095080515194, 1.0242350241462128, 0.7413259679571156, 0.7413195375520418, 0.5775476963149349, 0.4212189965605164, 0.6411663295442319, 0.3562035164134622, 0.9706888481905996, 0.028000639851651913, 1.0026415462065352, 0.8066751187650849, 0.5591103979666459, 0.43008492151280453, 0.7410318591741437, 0.2555282273014289, 0.5623708147715547, 0.441862783034793, 0.8867295758677479, 0.802354619089422, 0.21396123175717918, 0.8899011120452305, 0.7413225922058325, 0.7170323616223613, 0.28681294464894447, 0.6244191406126764, 0.37041813426175724, 0.8611077475819868, 0.1230153925117124, 1.0049131185990492, 0.9852359512857822, 1.0240492167161217, 0.8066748471128425, 0.7107848102823505, 0.29011624909483696, 1.005685306003695, 0.7413262564664415, 0.16361944637924467, 0.981716678275468, 0.5665285483839794, 0.41965077658072547, 1.024183934316147, 1.0240707204471398, 0.8898831714669208, 0.7843607724231711, 0.21787799233976976, 0.4927387675727961, 0.4927387675727961, 0.7413343050129417, 1.0242546124623801, 0.8899754195445022, 0.5243012692285413, 0.47356243672255344, 0.7413359753047484, 0.7413258139074822, 0.904111543275372, 0.0904111543275372, 0.7413272314959507, 1.0242365233277064, 0.7413428557134258, 0.9179957478086183, 0.5591191531672988, 0.4300916562825375, 1.0242513349155944, 1.0242605121210373, 0.8858517440831858, 0.8860568871485901, 1.0242817912157434, 0.7413180526815332, 0.8871120850917028, 0.3459984112292247, 0.6535525545440911, 0.7413239439542788, 1.0241163881072504, 0.80463114278857, 0.18568410987428538, 0.7413431525866971, 0.9401859939282928, 0.3888819922501237, 0.5833229883751856, 0.828735363070216, 0.13812256051170266, 0.6058390388332267, 0.39086389602143656, 0.9179383767032305, 0.6780817500144581, 0.33904087500722907, 0.23822634976152962, 0.7146790492845888, 0.25963919280914655, 0.7269897398656103, 0.7413306951276806, 1.0049130984686696, 1.0048926677788064, 0.694663670795652, 0.29771300176956517, 0.738640008552269, 0.2651528235828658, 0.9857702856262252, 0.6058196508713262, 0.3908513876589201], \"Term\": [\"absolute\", \"account\", \"adopted\", \"advise\", \"age\", \"age\", \"albany\", \"algernon\", \"algernon\", \"algy\", \"algy\", \"apologies\", \"artistically\", \"augusta\", \"augusta\", \"aunt\", \"aunt\", \"australia\", \"baby\", \"bag\", \"bracknell\", \"bracknell\", \"brand\", \"bread\", \"brother\", \"brother\", \"bunbury\", \"bunbury\", \"buttonhole\", \"cake\", \"card\", \"cardew\", \"cardew\", \"cards\", \"case\", \"case\", \"cecily\", \"cecily\", \"charity\", \"chasuble\", \"chasuble\", \"cigarette\", \"cloak\", \"clothes\", \"confirmations\", \"consumed\", \"cough\", \"course\", \"course\", \"cousin\", \"cousin\", \"cucumber\", \"cups\", \"dear\", \"dear\", \"deep\", \"delightful\", \"demoralising\", \"diary\", \"dining\", \"divorce\", \"doctor\", \"drawn\", \"dressed\", \"earnest\", \"earth\", \"earth\", \"eats\", \"engaged\", \"enter\", \"enter\", \"envelopes\", \"ernest\", \"ernest\", \"excessively\", \"expression\", \"fact\", \"fact\", \"fairfax\", \"fairfax\", \"frankly\", \"furnished\", \"goes\", \"goes\", \"good\", \"good\", \"guardian\", \"guardian\", \"gwendolen\", \"gwendolen\", \"hallo\", \"hand\", \"hand\", \"happy\", \"hardly\", \"hardly\", \"helping\", \"horrid\", \"idea\", \"importance\", \"intellectual\", \"interferes\", \"invariably\", \"jack\", \"jack\", \"know\", \"know\", \"lady\", \"lady\", \"lane\", \"lesson\", \"life\", \"life\", \"like\", \"like\", \"little\", \"little\", \"lives\", \"looks\", \"looks\", \"markby\", \"memories\", \"merriman\", \"merriman\", \"miss\", \"miss\", \"moment\", \"moment\", \"moncrieff\", \"monday\", \"mother\", \"mourning\", \"mr\", \"mr\", \"muffins\", \"natural\", \"night\", \"night\", \"oh\", \"oh\", \"opportunity\", \"pardon\", \"pause\", \"people\", \"people\", \"perfectly\", \"perfectly\", \"playing\", \"pleasures\", \"position\", \"prism\", \"prism\", \"profit\", \"quality\", \"question\", \"question\", \"reading\", \"relations\", \"retreating\", \"rising\", \"room\", \"room\", \"rose\", \"sad\", \"sandwiches\", \"saw\", \"sensible\", \"sentiment\", \"shropshire\", \"sir\", \"sir\", \"size\", \"social\", \"speak\", \"speak\", \"stiffly\", \"sweet\", \"talk\", \"talk\", \"tea\", \"tea\", \"think\", \"think\", \"thirty\", \"time\", \"time\", \"town\", \"town\", \"uncle\", \"uncle\", \"ungentlemanly\", \"voice\", \"waiting\", \"way\", \"way\", \"worthing\", \"worthing\", \"years\", \"yes\", \"yes\"]}, \"R\": 30, \"lambda.step\": 0.01, \"plot.opts\": {\"xlab\": \"PC1\", \"ylab\": \"PC2\"}, \"topic.order\": [3, 1, 2]};\n",
       "\n",
       "function LDAvis_load_lib(url, callback){\n",
       "  var s = document.createElement('script');\n",
       "  s.src = url;\n",
       "  s.async = true;\n",
       "  s.onreadystatechange = s.onload = callback;\n",
       "  s.onerror = function(){console.warn(\"failed to load library \" + url);};\n",
       "  document.getElementsByTagName(\"head\")[0].appendChild(s);\n",
       "}\n",
       "\n",
       "if(typeof(LDAvis) !== \"undefined\"){\n",
       "   // already loaded: just create the visualization\n",
       "   !function(LDAvis){\n",
       "       new LDAvis(\"#\" + \"ldavis_el2371111385951044320494038\", ldavis_el2371111385951044320494038_data);\n",
       "   }(LDAvis);\n",
       "}else if(typeof define === \"function\" && define.amd){\n",
       "   // require.js is available: use it to load d3/LDAvis\n",
       "   require.config({paths: {d3: \"https://d3js.org/d3.v5\"}});\n",
       "   require([\"d3\"], function(d3){\n",
       "      window.d3 = d3;\n",
       "      LDAvis_load_lib(\"https://cdn.jsdelivr.net/gh/bmabey/pyLDAvis@3.4.0/pyLDAvis/js/ldavis.v3.0.0.js\", function(){\n",
       "        new LDAvis(\"#\" + \"ldavis_el2371111385951044320494038\", ldavis_el2371111385951044320494038_data);\n",
       "      });\n",
       "    });\n",
       "}else{\n",
       "    // require.js not available: dynamically load d3 & LDAvis\n",
       "    LDAvis_load_lib(\"https://d3js.org/d3.v5.js\", function(){\n",
       "         LDAvis_load_lib(\"https://cdn.jsdelivr.net/gh/bmabey/pyLDAvis@3.4.0/pyLDAvis/js/ldavis.v3.0.0.js\", function(){\n",
       "                 new LDAvis(\"#\" + \"ldavis_el2371111385951044320494038\", ldavis_el2371111385951044320494038_data);\n",
       "            })\n",
       "         });\n",
       "}\n",
       "</script>"
      ],
      "text/plain": [
       "PreparedData(topic_coordinates=              x         y  topics  cluster       Freq\n",
       "topic                                                \n",
       "2     -0.031421  0.074428       1        1  65.177983\n",
       "0     -0.067579 -0.058272       2        1  34.780603\n",
       "1      0.099000 -0.016155       3        1   0.041414, topic_info=          Term        Freq       Total Category  logprob  loglift\n",
       "47   bracknell  102.000000  102.000000  Default  30.0000  30.0000\n",
       "199       lane   36.000000   36.000000  Default  29.0000  29.0000\n",
       "198       lady  107.000000  107.000000  Default  28.0000  28.0000\n",
       "18    algernon  215.000000  215.000000  Default  27.0000  27.0000\n",
       "194       jack  230.000000  230.000000  Default  26.0000  26.0000\n",
       "..         ...         ...         ...      ...      ...      ...\n",
       "61        case    0.001564   17.547804   Topic3  -7.6795  -1.5359\n",
       "134       fact    0.001564   23.433489   Topic3  -7.6798  -1.8254\n",
       "376      uncle    0.001563   19.257493   Topic3  -7.6803  -1.6296\n",
       "387        way    0.001563   20.153638   Topic3  -7.6804  -1.6752\n",
       "426    bunbury    0.001563   34.022174   Topic3  -7.6804  -2.1988\n",
       "\n",
       "[220 rows x 6 columns], token_table=      Topic      Freq      Term\n",
       "term                           \n",
       "401       1  1.024195  absolute\n",
       "4         2  0.741318   account\n",
       "12        2  0.741318   adopted\n",
       "410       1  1.024434    advise\n",
       "411       1  0.881451       age\n",
       "...     ...       ...       ...\n",
       "394       1  0.738640  worthing\n",
       "394       2  0.265153  worthing\n",
       "695       1  0.985770     years\n",
       "398       1  0.605820       yes\n",
       "398       2  0.390851       yes\n",
       "\n",
       "[200 rows x 3 columns], R=30, lambda_step=0.01, plot_opts={'xlab': 'PC1', 'ylab': 'PC2'}, topic_order=[3, 1, 2])"
      ]
     },
     "execution_count": 94,
     "metadata": {},
     "output_type": "execute_result"
    }
   ],
   "source": [
    "import pyLDAvis.gensim_models as gensimvis\n",
    "import pyLDAvis\n",
    "\n",
    "# Prepare visualization\n",
    "pyLDAvis.enable_notebook()\n",
    "vis = gensimvis.prepare(lda_model, bow_corpus, dictionary)\n",
    "\n",
    "# Display the visualization\n",
    "vis"
   ]
  },
  {
   "cell_type": "markdown",
   "id": "d4ddff14-a43a-483d-a0e9-3cd734db5a06",
   "metadata": {},
   "source": [
    "<a id='ner'></a>\n",
    "# Named Entity Recognition Using SpaCy"
   ]
  },
  {
   "cell_type": "code",
   "execution_count": 96,
   "id": "1e3fd121-5857-446d-804d-645a9eaab2d2",
   "metadata": {
    "scrolled": true
   },
   "outputs": [
    {
     "name": "stdout",
     "output_type": "stream",
     "text": [
      "Collecting en-core-web-sm==3.6.0\n",
      "  Downloading https://github.com/explosion/spacy-models/releases/download/en_core_web_sm-3.6.0/en_core_web_sm-3.6.0-py3-none-any.whl (12.8 MB)\n",
      "\u001b[2K     \u001b[38;2;114;156;31m━━━━━━━━━━━━━━━━━━━━━━━━━━━━━━━━━━━━━━━━\u001b[0m \u001b[32m12.8/12.8 MB\u001b[0m \u001b[31m32.6 MB/s\u001b[0m eta \u001b[36m0:00:00\u001b[0mm eta \u001b[36m0:00:01\u001b[0m0:01\u001b[0m01\u001b[0m\n",
      "\u001b[?25hRequirement already satisfied: spacy<3.7.0,>=3.6.0 in /Users/tomvannuenen/anaconda3/envs/dlab/lib/python3.10/site-packages (from en-core-web-sm==3.6.0) (3.6.0)\n",
      "Requirement already satisfied: spacy-legacy<3.1.0,>=3.0.11 in /Users/tomvannuenen/anaconda3/envs/dlab/lib/python3.10/site-packages (from spacy<3.7.0,>=3.6.0->en-core-web-sm==3.6.0) (3.0.12)\n",
      "Requirement already satisfied: spacy-loggers<2.0.0,>=1.0.0 in /Users/tomvannuenen/anaconda3/envs/dlab/lib/python3.10/site-packages (from spacy<3.7.0,>=3.6.0->en-core-web-sm==3.6.0) (1.0.4)\n",
      "Requirement already satisfied: murmurhash<1.1.0,>=0.28.0 in /Users/tomvannuenen/anaconda3/envs/dlab/lib/python3.10/site-packages (from spacy<3.7.0,>=3.6.0->en-core-web-sm==3.6.0) (1.0.9)\n",
      "Requirement already satisfied: cymem<2.1.0,>=2.0.2 in /Users/tomvannuenen/anaconda3/envs/dlab/lib/python3.10/site-packages (from spacy<3.7.0,>=3.6.0->en-core-web-sm==3.6.0) (2.0.7)\n",
      "Requirement already satisfied: preshed<3.1.0,>=3.0.2 in /Users/tomvannuenen/anaconda3/envs/dlab/lib/python3.10/site-packages (from spacy<3.7.0,>=3.6.0->en-core-web-sm==3.6.0) (3.0.8)\n",
      "Requirement already satisfied: thinc<8.2.0,>=8.1.8 in /Users/tomvannuenen/anaconda3/envs/dlab/lib/python3.10/site-packages (from spacy<3.7.0,>=3.6.0->en-core-web-sm==3.6.0) (8.1.10)\n",
      "Requirement already satisfied: wasabi<1.2.0,>=0.9.1 in /Users/tomvannuenen/anaconda3/envs/dlab/lib/python3.10/site-packages (from spacy<3.7.0,>=3.6.0->en-core-web-sm==3.6.0) (1.1.2)\n",
      "Requirement already satisfied: srsly<3.0.0,>=2.4.3 in /Users/tomvannuenen/anaconda3/envs/dlab/lib/python3.10/site-packages (from spacy<3.7.0,>=3.6.0->en-core-web-sm==3.6.0) (2.4.7)\n",
      "Requirement already satisfied: catalogue<2.1.0,>=2.0.6 in /Users/tomvannuenen/anaconda3/envs/dlab/lib/python3.10/site-packages (from spacy<3.7.0,>=3.6.0->en-core-web-sm==3.6.0) (2.0.9)\n",
      "Requirement already satisfied: typer<0.10.0,>=0.3.0 in /Users/tomvannuenen/anaconda3/envs/dlab/lib/python3.10/site-packages (from spacy<3.7.0,>=3.6.0->en-core-web-sm==3.6.0) (0.9.0)\n",
      "Requirement already satisfied: pathy>=0.10.0 in /Users/tomvannuenen/anaconda3/envs/dlab/lib/python3.10/site-packages (from spacy<3.7.0,>=3.6.0->en-core-web-sm==3.6.0) (0.10.2)\n",
      "Requirement already satisfied: smart-open<7.0.0,>=5.2.1 in /Users/tomvannuenen/anaconda3/envs/dlab/lib/python3.10/site-packages (from spacy<3.7.0,>=3.6.0->en-core-web-sm==3.6.0) (6.3.0)\n",
      "Requirement already satisfied: tqdm<5.0.0,>=4.38.0 in /Users/tomvannuenen/anaconda3/envs/dlab/lib/python3.10/site-packages (from spacy<3.7.0,>=3.6.0->en-core-web-sm==3.6.0) (4.65.0)\n",
      "Requirement already satisfied: numpy>=1.15.0 in /Users/tomvannuenen/anaconda3/envs/dlab/lib/python3.10/site-packages (from spacy<3.7.0,>=3.6.0->en-core-web-sm==3.6.0) (1.25.0)\n",
      "Requirement already satisfied: requests<3.0.0,>=2.13.0 in /Users/tomvannuenen/anaconda3/envs/dlab/lib/python3.10/site-packages (from spacy<3.7.0,>=3.6.0->en-core-web-sm==3.6.0) (2.31.0)\n",
      "Requirement already satisfied: pydantic!=1.8,!=1.8.1,<1.11.0,>=1.7.4 in /Users/tomvannuenen/anaconda3/envs/dlab/lib/python3.10/site-packages (from spacy<3.7.0,>=3.6.0->en-core-web-sm==3.6.0) (1.10.12)\n",
      "Requirement already satisfied: jinja2 in /Users/tomvannuenen/anaconda3/envs/dlab/lib/python3.10/site-packages (from spacy<3.7.0,>=3.6.0->en-core-web-sm==3.6.0) (3.1.2)\n",
      "Requirement already satisfied: setuptools in /Users/tomvannuenen/anaconda3/envs/dlab/lib/python3.10/site-packages (from spacy<3.7.0,>=3.6.0->en-core-web-sm==3.6.0) (68.0.0)\n",
      "Requirement already satisfied: packaging>=20.0 in /Users/tomvannuenen/anaconda3/envs/dlab/lib/python3.10/site-packages (from spacy<3.7.0,>=3.6.0->en-core-web-sm==3.6.0) (23.1)\n",
      "Requirement already satisfied: langcodes<4.0.0,>=3.2.0 in /Users/tomvannuenen/anaconda3/envs/dlab/lib/python3.10/site-packages (from spacy<3.7.0,>=3.6.0->en-core-web-sm==3.6.0) (3.3.0)\n",
      "Requirement already satisfied: typing-extensions>=4.2.0 in /Users/tomvannuenen/anaconda3/envs/dlab/lib/python3.10/site-packages (from pydantic!=1.8,!=1.8.1,<1.11.0,>=1.7.4->spacy<3.7.0,>=3.6.0->en-core-web-sm==3.6.0) (4.9.0)\n",
      "Requirement already satisfied: charset-normalizer<4,>=2 in /Users/tomvannuenen/anaconda3/envs/dlab/lib/python3.10/site-packages (from requests<3.0.0,>=2.13.0->spacy<3.7.0,>=3.6.0->en-core-web-sm==3.6.0) (3.2.0)\n",
      "Requirement already satisfied: idna<4,>=2.5 in /Users/tomvannuenen/anaconda3/envs/dlab/lib/python3.10/site-packages (from requests<3.0.0,>=2.13.0->spacy<3.7.0,>=3.6.0->en-core-web-sm==3.6.0) (3.4)\n",
      "Requirement already satisfied: urllib3<3,>=1.21.1 in /Users/tomvannuenen/anaconda3/envs/dlab/lib/python3.10/site-packages (from requests<3.0.0,>=2.13.0->spacy<3.7.0,>=3.6.0->en-core-web-sm==3.6.0) (2.0.4)\n",
      "Requirement already satisfied: certifi>=2017.4.17 in /Users/tomvannuenen/anaconda3/envs/dlab/lib/python3.10/site-packages (from requests<3.0.0,>=2.13.0->spacy<3.7.0,>=3.6.0->en-core-web-sm==3.6.0) (2023.7.22)\n",
      "Requirement already satisfied: blis<0.8.0,>=0.7.8 in /Users/tomvannuenen/anaconda3/envs/dlab/lib/python3.10/site-packages (from thinc<8.2.0,>=8.1.8->spacy<3.7.0,>=3.6.0->en-core-web-sm==3.6.0) (0.7.10)\n",
      "Requirement already satisfied: confection<1.0.0,>=0.0.1 in /Users/tomvannuenen/anaconda3/envs/dlab/lib/python3.10/site-packages (from thinc<8.2.0,>=8.1.8->spacy<3.7.0,>=3.6.0->en-core-web-sm==3.6.0) (0.1.0)\n",
      "Requirement already satisfied: click<9.0.0,>=7.1.1 in /Users/tomvannuenen/anaconda3/envs/dlab/lib/python3.10/site-packages (from typer<0.10.0,>=0.3.0->spacy<3.7.0,>=3.6.0->en-core-web-sm==3.6.0) (8.1.6)\n",
      "Requirement already satisfied: MarkupSafe>=2.0 in /Users/tomvannuenen/anaconda3/envs/dlab/lib/python3.10/site-packages (from jinja2->spacy<3.7.0,>=3.6.0->en-core-web-sm==3.6.0) (2.1.3)\n",
      "\u001b[38;5;2m✔ Download and installation successful\u001b[0m\n",
      "You can now load the package via spacy.load('en_core_web_sm')\n"
     ]
    }
   ],
   "source": [
    "import spacy\n",
    "spacy.cli.download('en_core_web_sm')\n",
    "nlp = spacy.load('en_core_web_sm')"
   ]
  },
  {
   "cell_type": "markdown",
   "id": "e345949a-ccbf-4b29-903d-b4d671d193a7",
   "metadata": {},
   "source": [
    "<div class=\"alert alert-warning\">\n",
    "Change the input of <b>nlp</b> below to the play you want to explore using named entity recognition.<br>\n",
    "</div>"
   ]
  },
  {
   "cell_type": "code",
   "execution_count": 97,
   "id": "8893c6a7-6704-483a-adb6-41362e01d953",
   "metadata": {},
   "outputs": [],
   "source": [
    "doc = nlp(author4)"
   ]
  },
  {
   "cell_type": "markdown",
   "id": "b5bcdc69-0e80-4850-91a2-4b9e3d41c063",
   "metadata": {},
   "source": [
    "Here are some things that we can do with this object: "
   ]
  },
  {
   "cell_type": "code",
   "execution_count": 99,
   "id": "cd73ec3c-a3d8-4685-85d2-3d2ab5e041cb",
   "metadata": {},
   "outputs": [
    {
     "data": {
      "text/plain": [
       "['cats',\n",
       " 'char_span',\n",
       " 'copy',\n",
       " 'count_by',\n",
       " 'doc',\n",
       " 'ents',\n",
       " 'extend_tensor',\n",
       " 'from_array',\n",
       " 'from_bytes',\n",
       " 'from_dict',\n",
       " 'from_disk',\n",
       " 'from_docs',\n",
       " 'from_json',\n",
       " 'get_extension',\n",
       " 'get_lca_matrix',\n",
       " 'has_annotation',\n",
       " 'has_extension',\n",
       " 'has_unknown_spaces',\n",
       " 'has_vector',\n",
       " 'is_nered',\n",
       " 'is_parsed',\n",
       " 'is_sentenced',\n",
       " 'is_tagged',\n",
       " 'lang',\n",
       " 'lang_',\n",
       " 'mem',\n",
       " 'noun_chunks',\n",
       " 'noun_chunks_iterator',\n",
       " 'remove_extension',\n",
       " 'retokenize',\n",
       " 'sentiment',\n",
       " 'sents',\n",
       " 'set_ents',\n",
       " 'set_extension',\n",
       " 'similarity',\n",
       " 'spans',\n",
       " 'tensor',\n",
       " 'text',\n",
       " 'text_with_ws',\n",
       " 'to_array',\n",
       " 'to_bytes',\n",
       " 'to_dict',\n",
       " 'to_disk',\n",
       " 'to_json',\n",
       " 'to_utf8_array',\n",
       " 'user_data',\n",
       " 'user_hooks',\n",
       " 'user_span_hooks',\n",
       " 'user_token_hooks',\n",
       " 'vector',\n",
       " 'vector_norm',\n",
       " 'vocab']"
      ]
     },
     "execution_count": 99,
     "metadata": {},
     "output_type": "execute_result"
    }
   ],
   "source": [
    "[method for method in dir(doc) if not method.startswith('_')]"
   ]
  },
  {
   "cell_type": "markdown",
   "id": "128b2d75-312c-4ce3-a4a2-4a4863308f52",
   "metadata": {},
   "source": [
    "## Named Entity Recognition"
   ]
  },
  {
   "cell_type": "markdown",
   "id": "0495e489-79dd-4fbb-8e6e-9df8d0d7fd1d",
   "metadata": {},
   "source": [
    "Explore the types of entities in a subset of words of your text."
   ]
  },
  {
   "cell_type": "markdown",
   "id": "575a243a-d9b6-42b3-91ad-e19784f58418",
   "metadata": {},
   "source": [
    "<div class=\"alert alert-warning\">\n",
    "Play around with the slicing of <b>doc</b> below to see other subsets of words in your play. Does any type of Named Entity stand out? Which would you like to explore further?<br>\n",
    "</div>"
   ]
  },
  {
   "cell_type": "code",
   "execution_count": 254,
   "id": "82679e8b-486e-44b8-874b-c01c4909886d",
   "metadata": {},
   "outputs": [
    {
     "name": "stdout",
     "output_type": "stream",
     "text": [
      "Lane : PERSON\n",
      "Lane : PERSON\n",
      "Lane : PERSON\n",
      "Lady : PERSON\n",
      "Bracknell : PERSON\n",
      "Lane : PERSON\n",
      "two : CARDINAL\n",
      "Lane : PERSON\n",
      "Thursday : DATE\n",
      "night : TIME\n",
      "eight : CARDINAL\n",
      "Lane : PERSON\n",
      "eight : CARDINAL\n"
     ]
    }
   ],
   "source": [
    "for word in doc[50:250]: \n",
    "    if len(word.text.strip()) > 0 and len(word.ent_type_) > 0: \n",
    "        print(word.text.strip(), ':', word.ent_type_)"
   ]
  },
  {
   "cell_type": "markdown",
   "id": "df3e5f8e-8518-4ec3-9cc2-c18f70a17a0c",
   "metadata": {},
   "source": [
    "We can extract places like this: "
   ]
  },
  {
   "cell_type": "code",
   "execution_count": 107,
   "id": "b821bab0-2cf7-4d14-ae5c-8b44b564be09",
   "metadata": {},
   "outputs": [
    {
     "name": "stdout",
     "output_type": "stream",
     "text": [
      "Shropshire\n",
      "Shropshire\n",
      "Gwendolen\n",
      "Gwendolen\n",
      "Gwendolen\n",
      "Cecily\n",
      "Cecily\n"
     ]
    }
   ],
   "source": [
    "for word in doc[:2000]: \n",
    "    if len(word.ent_type_) > 0: \n",
    "        if word.ent_type_ == 'GPE': \n",
    "            print(word)"
   ]
  },
  {
   "cell_type": "markdown",
   "id": "7294b8f9-1d58-4c4d-a75f-a5f3a69b019a",
   "metadata": {},
   "source": [
    "And persons like this:"
   ]
  },
  {
   "cell_type": "code",
   "execution_count": 111,
   "id": "0ba661bb-4f2b-4d52-94e1-b249e97c4e21",
   "metadata": {},
   "outputs": [
    {
     "name": "stdout",
     "output_type": "stream",
     "text": [
      "Jack\n",
      "Algy\n",
      "Aunt\n",
      "Augusta\n",
      "Jack\n",
      "Gwendolen\n",
      "Jack\n",
      "Jack\n",
      "Jack\n",
      "Jack\n",
      "Gwendolen\n",
      "Algy\n",
      "Worthing\n",
      "Lane\n",
      "Jack\n",
      "Jack\n",
      "Algernon\n",
      "Lane\n",
      "Ernest\n",
      "Jack\n",
      "Jack\n",
      "Jack\n",
      "Jack\n",
      "Algy\n",
      "Jack\n"
     ]
    }
   ],
   "source": [
    "for word in doc[1000:2000]: \n",
    "    if len(word.ent_type_) > 0: \n",
    "        if word.ent_type_ == 'PERSON': \n",
    "            print(word)"
   ]
  },
  {
   "cell_type": "markdown",
   "id": "f3d54cbc-706d-43e3-aa64-9abe3ff09fff",
   "metadata": {},
   "source": [
    "And locations like this: "
   ]
  },
  {
   "cell_type": "code",
   "execution_count": 105,
   "id": "beb11bd3-734f-47cb-a63c-222e3ad09ce2",
   "metadata": {},
   "outputs": [
    {
     "name": "stdout",
     "output_type": "stream",
     "text": [
      "Algernon\n",
      "Half\n",
      "-\n",
      "Moon\n",
      "Street\n"
     ]
    }
   ],
   "source": [
    "for word in doc[:4000]: \n",
    "    if len(word.ent_type_) > 0: \n",
    "        if word.ent_type_ == 'LOC': \n",
    "            print(word)"
   ]
  },
  {
   "cell_type": "markdown",
   "id": "1b2707d9-5b71-42b7-9bf2-27ba740a6425",
   "metadata": {},
   "source": [
    "<div class=\"alert alert-warning\">\n",
    "You can change <b>GPE</b> below to <b>TIME</b>, <b>GPE</b> or <b>PERSON</b> depending on which Named Entities you want to explore.\n",
    "</div>"
   ]
  },
  {
   "cell_type": "code",
   "execution_count": 118,
   "id": "b06b82be-06d4-48ff-9897-c8c5f4e77de4",
   "metadata": {},
   "outputs": [
    {
     "name": "stdout",
     "output_type": "stream",
     "text": [
      "Shropshire\n",
      "Shropshire\n",
      "Gwendolen\n",
      "Gwendolen\n",
      "Gwendolen\n",
      "Cecily\n",
      "Cecily\n",
      "Albany\n",
      "Gwendolen\n",
      "Shropshire\n",
      "Shropshire\n",
      "Albany\n",
      "Willis\n",
      "London\n",
      "Gwendolen\n",
      "Gwendolen\n",
      "Willis\n",
      "Gwendolen\n"
     ]
    }
   ],
   "source": [
    "for word in doc[:4000]: \n",
    "    if len(word.ent_type_) > 0: \n",
    "        if word.ent_type_ == 'GPE': \n",
    "            print(word)"
   ]
  },
  {
   "cell_type": "code",
   "execution_count": 119,
   "id": "89bfd70d-ff94-414b-a4d8-4278bdabf2b3",
   "metadata": {},
   "outputs": [],
   "source": [
    "ents = [word.text for word in doc if word.ent_type_ == 'GPE']"
   ]
  },
  {
   "cell_type": "markdown",
   "id": "e31cb24d-b324-4d14-a431-4dc8c25c5fae",
   "metadata": {},
   "source": [
    "Let's see are all the unique Named Entities for the class you have chosen:"
   ]
  },
  {
   "cell_type": "code",
   "execution_count": 123,
   "id": "7d90d628-4bb5-4c25-9ffc-9000bc27832d",
   "metadata": {},
   "outputs": [
    {
     "data": {
      "text/plain": [
       "{'Albany',\n",
       " 'Australia',\n",
       " 'Cardew',\n",
       " 'Cecily',\n",
       " 'Egeria',\n",
       " 'Ernest',\n",
       " 'Evensong',\n",
       " 'Fairfax',\n",
       " 'Fifeshire',\n",
       " 'Gwendolen',\n",
       " 'Hertfordshire',\n",
       " 'Leamington',\n",
       " 'London',\n",
       " 'Metropolitan',\n",
       " 'Miss.',\n",
       " 'N.B.',\n",
       " 'Pagan',\n",
       " 'Paris',\n",
       " 'Shropshire',\n",
       " 'Sporran',\n",
       " 'Sussex',\n",
       " 'Willis',\n",
       " 'Woolton'}"
      ]
     },
     "execution_count": 123,
     "metadata": {},
     "output_type": "execute_result"
    }
   ],
   "source": [
    "set(ents)"
   ]
  },
  {
   "cell_type": "markdown",
   "id": "be7bbcf8-8184-460b-95e3-6ca684070764",
   "metadata": {},
   "source": [
    "We can count our list of times, put this into a Pandas Series, and plot them, to try to show what kinds of times occur most often in Betteredge's narrative: "
   ]
  },
  {
   "cell_type": "code",
   "execution_count": 125,
   "id": "673711b6-511e-41b8-9207-c9ea86765c67",
   "metadata": {
    "scrolled": true
   },
   "outputs": [
    {
     "data": {
      "text/plain": [
       "<Axes: >"
      ]
     },
     "execution_count": 125,
     "metadata": {},
     "output_type": "execute_result"
    },
    {
     "data": {
      "image/png": "[encoded data removed]",
      "text/plain": [
       "<Figure size 720x720 with 1 Axes>"
      ]
     },
     "metadata": {
      "needs_background": "light"
     },
     "output_type": "display_data"
    }
   ],
   "source": [
    "from collections import Counter\n",
    "\n",
    "pd.Series(Counter(ents))[list(set(ents))].plot(kind='bar')"
   ]
  },
  {
   "cell_type": "markdown",
   "id": "5b4e98f3-7fbd-4c77-89f5-630fc1bd938c",
   "metadata": {},
   "source": [
    "See how frequently places occur in narrative time. "
   ]
  },
  {
   "cell_type": "code",
   "execution_count": 126,
   "id": "0b7162c0-3b95-477b-b378-ce361c2bc26c",
   "metadata": {
    "scrolled": true
   },
   "outputs": [
    {
     "data": {
      "text/plain": [
       "<Axes: >"
      ]
     },
     "execution_count": 126,
     "metadata": {},
     "output_type": "execute_result"
    },
    {
     "data": {
      "image/png": "[encoded data removed]",
      "text/plain": [
       "<Figure size 720x720 with 1 Axes>"
      ]
     },
     "metadata": {
      "needs_background": "light"
     },
     "output_type": "display_data"
    }
   ],
   "source": [
    "times = pd.Series(np.histogram([word.i for word in doc if word.ent_type_ == 'GPE'], bins=50)[0])\n",
    "times.plot()"
   ]
  }
 ],
 "metadata": {
  "kernelspec": {
   "display_name": "dlab",
   "language": "python",
   "name": "dlab"
  },
  "language_info": {
   "codemirror_mode": {
    "name": "ipython",
    "version": 3
   },
   "file_extension": ".py",
   "mimetype": "text/x-python",
   "name": "python",
   "nbconvert_exporter": "python",
   "pygments_lexer": "ipython3",
   "version": "3.10.10"
  }
 },
 "nbformat": 4,
 "nbformat_minor": 5
}

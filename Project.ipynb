{
 "cells": [
  {
   "cell_type": "markdown",
   "id": "98d92482-218c-47e7-b735-176dae27cd99",
   "metadata": {},
   "source": [
    "# Text Analysis for Digital Humanities: Project\n",
    "\n",
    "This notebook is meant to help you with your own project. \n",
    "You are not expected to understand all the code in this notebook, but feel free to [submit a consulting request](https://dlab.berkeley.edu/consulting/submit-consulting-request) with me if you want to learn more.\n",
    "\n",
    "<div class=\"alert alert-warning\">\n",
    "<b>Yellow text</b> like this indicates there are inputs and code that you can alter, so that it points to the texts and words you want to analyze.</div>\n"
   ]
  },
  {
   "cell_type": "code",
   "execution_count": 1,
   "id": "28ab158c-7a87-4cc8-8a75-d06c40748b43",
   "metadata": {},
   "outputs": [
    {
     "name": "stdout",
     "output_type": "stream",
     "text": [
      "Requirement already satisfied: nltk in /Users/tomvannuenen/anaconda3/envs/dlab/lib/python3.10/site-packages (3.8.1)\n",
      "Requirement already satisfied: click in /Users/tomvannuenen/anaconda3/envs/dlab/lib/python3.10/site-packages (from nltk) (8.1.6)\n",
      "Requirement already satisfied: joblib in /Users/tomvannuenen/anaconda3/envs/dlab/lib/python3.10/site-packages (from nltk) (1.3.1)\n",
      "Requirement already satisfied: regex>=2021.8.3 in /Users/tomvannuenen/anaconda3/envs/dlab/lib/python3.10/site-packages (from nltk) (2023.6.3)\n",
      "Requirement already satisfied: tqdm in /Users/tomvannuenen/anaconda3/envs/dlab/lib/python3.10/site-packages (from nltk) (4.65.0)\n",
      "Note: you may need to restart the kernel to use updated packages.\n"
     ]
    },
    {
     "name": "stderr",
     "output_type": "stream",
     "text": [
      "[nltk_data] Downloading package punkt to\n",
      "[nltk_data]     /Users/tomvannuenen/nltk_data...\n",
      "[nltk_data]   Package punkt is already up-to-date!\n",
      "[nltk_data] Downloading package wordnet to\n",
      "[nltk_data]     /Users/tomvannuenen/nltk_data...\n",
      "[nltk_data]   Package wordnet is already up-to-date!\n",
      "[nltk_data] Downloading package omw-1.4 to\n",
      "[nltk_data]     /Users/tomvannuenen/nltk_data...\n",
      "[nltk_data]   Package omw-1.4 is already up-to-date!\n",
      "[nltk_data] Downloading package stopwords to\n",
      "[nltk_data]     /Users/tomvannuenen/nltk_data...\n",
      "[nltk_data]   Package stopwords is already up-to-date!\n"
     ]
    },
    {
     "data": {
      "text/plain": [
       "True"
      ]
     },
     "execution_count": 1,
     "metadata": {},
     "output_type": "execute_result"
    }
   ],
   "source": [
    "%pip install nltk\n",
    "import nltk\n",
    "nltk.download('punkt')\n",
    "nltk.download('wordnet')\n",
    "nltk.download('omw-1.4')\n",
    "nltk.download('stopwords')"
   ]
  },
  {
   "cell_type": "markdown",
   "id": "be8eadf9-b2f0-4e2b-a229-860f47fe3df1",
   "metadata": {},
   "source": [
    "## Import Data\n",
    "\n",
    "<div class=\"alert alert-warning\">\n",
    "Change the <b>file_path</b> variable below to point to a text you are interested in exploring!\n",
    "</div>"
   ]
  },
  {
   "cell_type": "code",
   "execution_count": 2,
   "id": "273a942a-dfee-4225-bcf2-d419b8cb9c3a",
   "metadata": {},
   "outputs": [],
   "source": [
    "file_path = 'data/1895_wilde-oscar_the-importance-of-being-earnest.txt'\n",
    "\n",
    "with open(file_path, 'r', encoding='utf-8') as file:\n",
    "    text = file.read()"
   ]
  },
  {
   "cell_type": "markdown",
   "id": "c8f3e122-e615-4865-93e3-7702571fd5ba",
   "metadata": {
    "tags": []
   },
   "source": [
    "# NLTK Text objects\n",
    "\n",
    "<div class=\"alert alert-warning\">\n",
    "Change the inputs for the methods below (currently 'brother', 'sister' etc.) to explore words of interest."
   ]
  },
  {
   "cell_type": "code",
   "execution_count": 3,
   "id": "e12c0030-2644-4787-8bce-b3e4d704b4a0",
   "metadata": {},
   "outputs": [
    {
     "name": "stdout",
     "output_type": "stream",
     "text": [
      "Concordance for input word:\n",
      "Displaying 25 of 51 matches:\n",
      " always pretended to have a younger brother of the name of Ernest , who lives i\n",
      "have invented a very useful younger brother called Ernest , in order that you m\n",
      " accepts me , I am going to kill my brother , indeed I think I 'll kill him in \n",
      "en propose for practice . I know my brother Gerald does . All my girl-friends t\n",
      "nsense . Algernon : What about your brother ? What about the profligate Ernest \n",
      "! Jack : Very well , then . My poor brother Ernest was carried off suddenly , i\n",
      "le too much interested in your poor brother Ernest ? Wo n't she feel his loss a\n",
      "ts , that unfortunate young man his brother seems to be . But I must not distur\n",
      "4 , The Albany , W. ' Uncle Jack 's brother ! Did you tell him Mr. Worthing was\n",
      " from your card , are Uncle Jack 's brother , my cousin Ernest , my wicked cous\n",
      " some terrible calamity ? Jack : My brother . Miss Prism : More shameful debts \n",
      "ack : [ -- ] Dead ! Chasuble : Your brother Ernest dead ? Jack : Quite dead . M\n",
      "re interested , Mr. Worthing ? Your brother was , I believe , unmarried , was h\n",
      " think is in the dining-room ? Your brother ! Jack : Who ? Cecily : Your brothe\n",
      "rother ! Jack : Who ? Cecily : Your brother Ernest . He arrived about half an h\n",
      " : What nonsense ! I have n't got a brother . Cecily : Oh , do n't say that . H\n",
      " you in the past , he is still your brother . You could n't be so heartless as \n",
      " peculiarly distressing . Jack . My brother is in the dining-room ? I do n't kn\n",
      "otions Algernon away . ] Algernon . Brother John , I have come down from town t\n",
      "ou are not going to refuse your own brother 's hand ? Jack . Nothing will induc\n",
      " . But I must say that I think that Brother John 's coldness to me is peculiarl\n",
      "nfessed to us that he had a younger brother who was very wicked and bad , you o\n",
      "hing who is my guardian . It is his brother -- his elder brother . GWENDOLEN : \n",
      "an . It is his brother -- his elder brother . GWENDOLEN : [ Sitting down again \n",
      "never mentioned to me that he had a brother . CECILY : I am sorry to say they h\n",
      "\n",
      "Words similar to input word:\n",
      "name case man moment room music for but two way little pleasure county\n",
      "aunt well being doubt matter place hard\n",
      "\n",
      "Common contexts of input words:\n",
      "No common contexts were found\n",
      "\n",
      "Collocations in the text:\n",
      "Lady Bracknell; Miss Prism; Mr. Worthing; Aunt Augusta; Miss Fairfax;\n",
      "Miss Cardew; Uncle Jack; cigarette case; Dr. Chasuble; dear fellow;\n",
      "Good heavens; LADY BRACKNELL; n't think; severe chill; cucumber\n",
      "sandwiches; MISS PRISM; Lord Bracknell; need hardly; Mr. Bunbury;\n",
      "three months\n",
      "\n",
      "Dispersion plot for input words:\n"
     ]
    },
    {
     "data": {
      "image/png": "[encoded data removed]",
      "text/plain": [
       "<Figure size 432x288 with 1 Axes>"
      ]
     },
     "metadata": {
      "needs_background": "light"
     },
     "output_type": "display_data"
    }
   ],
   "source": [
    "from nltk.text import Text\n",
    "from nltk.tokenize import word_tokenize\n",
    "\n",
    "# Assuming 'text' is your corpus as a single string\n",
    "# Tokenize the corpus\n",
    "tokens = word_tokenize(text)\n",
    "# Create an NLTK Text object\n",
    "nltk_text = Text(tokens)\n",
    "\n",
    "# Example operations:\n",
    "# 1. Concordance\n",
    "print(\"Concordance for input word:\")\n",
    "nltk_text.concordance('brother')\n",
    "\n",
    "# 2. Similar\n",
    "print(\"\\nWords similar to input word:\")\n",
    "nltk_text.similar('brother')\n",
    "\n",
    "# 3. Common Contexts\n",
    "print(\"\\nCommon contexts of input words:\")\n",
    "nltk_text.common_contexts(['brother', 'sister'])\n",
    "\n",
    "# 4. Collocations\n",
    "print(\"\\nCollocations in the text:\")\n",
    "nltk_text.collocations()\n",
    "\n",
    "# 5. Dispersion Plot\n",
    "print(\"\\nDispersion plot for input words:\")\n",
    "nltk_text.dispersion_plot(['brother', 'mother', 'sister'])"
   ]
  },
  {
   "cell_type": "markdown",
   "id": "076778c7-5e78-4e7e-815b-d0934226113a",
   "metadata": {},
   "source": [
    "# Comparative stylometry using TF-IDF"
   ]
  },
  {
   "cell_type": "code",
   "execution_count": 4,
   "id": "2d510dfb-f764-4af2-92a3-41095cfc0fd3",
   "metadata": {},
   "outputs": [],
   "source": [
    "from nltk.corpus import gutenberg\n",
    "from sklearn.feature_extraction.text import TfidfVectorizer\n",
    "import pandas as pd\n",
    "from sklearn.decomposition import PCA\n",
    "from matplotlib import pyplot as plt\n",
    "%matplotlib inline\n",
    "import matplotlib.pyplot as plt\n",
    "plt.rcParams['figure.figsize'] = [10, 10]"
   ]
  },
  {
   "cell_type": "markdown",
   "id": "06c76194-ef28-4c58-9a5c-da1d83e71eb8",
   "metadata": {},
   "source": [
    "<div class=\"alert alert-warning\">\n",
    "Change the file paths for the <b>read_file</b> function calls below to point to texts you want to compare.\n",
    "</div>"
   ]
  },
  {
   "cell_type": "code",
   "execution_count": 5,
   "id": "bf560775-4660-46d6-ba0f-ef0adb1866d8",
   "metadata": {},
   "outputs": [],
   "source": [
    "def read_file(file_path):\n",
    "    with open(file_path, 'r', encoding='utf-8') as file:\n",
    "        return file.read()\n",
    "\n",
    "text1 = read_file('data/1853_boucicault-dion_grimaldi.txt')\n",
    "text2 = read_file('data/1856_boucicault-dion_the-phantom.txt')\n",
    "text3 = read_file('data/1919_yeats-wb_the-only-jealousy-of-emer.txt')\n",
    "text4 = read_file('data/1895_wilde-oscar_the-importance-of-being-earnest.txt')\n",
    "text5 = read_file('data/1895_shaw-george-bernard_you-never-can-tell.txt')"
   ]
  },
  {
   "cell_type": "markdown",
   "id": "949ae3d5-838f-40b6-8335-945d7a7d135d",
   "metadata": {},
   "source": [
    "<div class=\"alert alert-warning\">\n",
    "Change the list items for <b>texts</b> below to the texts you are comparing. Note that I am simply using author names.\n",
    "\n",
    "It is recommended to use at least 2 texts of the same author, so you can check if those texts are more similar.\n",
    "\n",
    "</div>"
   ]
  },
  {
   "cell_type": "code",
   "execution_count": 6,
   "id": "6ccca4d9-184c-482e-a290-052571428aa3",
   "metadata": {},
   "outputs": [],
   "source": [
    "texts = ['boucicault1','boucicault2','yeats','wilde','shaw']"
   ]
  },
  {
   "cell_type": "code",
   "execution_count": 7,
   "id": "d61ac4fa-24d0-4ad3-b76e-08b9005670fb",
   "metadata": {},
   "outputs": [],
   "source": [
    "tfidf = TfidfVectorizer(max_features=500)"
   ]
  },
  {
   "cell_type": "code",
   "execution_count": 8,
   "id": "75b047bd-edbe-47f8-8d3f-cbfbea92a0b2",
   "metadata": {},
   "outputs": [],
   "source": [
    "tfidf_matrix = tfidf.fit_transform([text1, text2, text3, text4, text5])"
   ]
  },
  {
   "cell_type": "code",
   "execution_count": 9,
   "id": "8b96ecde-0496-436b-a7db-35bf5cc7f7ff",
   "metadata": {},
   "outputs": [
    {
     "data": {
      "text/plain": [
       "<5x500 sparse matrix of type '<class 'numpy.float64'>'\n",
       "\twith 1986 stored elements in Compressed Sparse Row format>"
      ]
     },
     "execution_count": 9,
     "metadata": {},
     "output_type": "execute_result"
    }
   ],
   "source": [
    "tfidf_matrix"
   ]
  },
  {
   "cell_type": "markdown",
   "id": "591ea306-4b5b-4084-b7a1-f303947aee91",
   "metadata": {},
   "source": [
    "**Sparse matrix**: Matrix (table) with some values missing    \n",
    "**Dense matrix**: That matrix filled in (think: fillna(0)). "
   ]
  },
  {
   "cell_type": "code",
   "execution_count": 10,
   "id": "96b94833-aaaa-497d-afbf-c72ce1a574ff",
   "metadata": {},
   "outputs": [],
   "source": [
    "tfidfDense = tfidf_matrix.todense()"
   ]
  },
  {
   "cell_type": "code",
   "execution_count": 11,
   "id": "947bc78b-a158-45fc-9028-59bf3c509713",
   "metadata": {},
   "outputs": [],
   "source": [
    "labels = tfidf.get_feature_names_out()"
   ]
  },
  {
   "cell_type": "code",
   "execution_count": 12,
   "id": "bb2ec057-6eef-4d3f-9945-94b92b8c49fb",
   "metadata": {},
   "outputs": [],
   "source": [
    "df = pd.DataFrame(tfidfDense, index=texts, columns=labels)"
   ]
  },
  {
   "cell_type": "code",
   "execution_count": 13,
   "id": "b9624e6c-97d1-4e00-9c2c-071411d3b145",
   "metadata": {},
   "outputs": [
    {
     "data": {
      "text/html": [
       "<div>\n",
       "<style scoped>\n",
       "    .dataframe tbody tr th:only-of-type {\n",
       "        vertical-align: middle;\n",
       "    }\n",
       "\n",
       "    .dataframe tbody tr th {\n",
       "        vertical-align: top;\n",
       "    }\n",
       "\n",
       "    .dataframe thead th {\n",
       "        text-align: right;\n",
       "    }\n",
       "</style>\n",
       "<table border=\"1\" class=\"dataframe\">\n",
       "  <thead>\n",
       "    <tr style=\"text-align: right;\">\n",
       "      <th></th>\n",
       "      <th>about</th>\n",
       "      <th>act</th>\n",
       "      <th>ada</th>\n",
       "      <th>afraid</th>\n",
       "      <th>after</th>\n",
       "      <th>afternoon</th>\n",
       "      <th>again</th>\n",
       "      <th>against</th>\n",
       "      <th>age</th>\n",
       "      <th>ago</th>\n",
       "      <th>...</th>\n",
       "      <th>worthing</th>\n",
       "      <th>would</th>\n",
       "      <th>years</th>\n",
       "      <th>yes</th>\n",
       "      <th>yet</th>\n",
       "      <th>you</th>\n",
       "      <th>young</th>\n",
       "      <th>your</th>\n",
       "      <th>yours</th>\n",
       "      <th>yourself</th>\n",
       "    </tr>\n",
       "  </thead>\n",
       "  <tbody>\n",
       "    <tr>\n",
       "      <th>boucicault1</th>\n",
       "      <td>0.007953</td>\n",
       "      <td>0.020688</td>\n",
       "      <td>0.000000</td>\n",
       "      <td>0.002821</td>\n",
       "      <td>0.003181</td>\n",
       "      <td>0.000000</td>\n",
       "      <td>0.003181</td>\n",
       "      <td>0.002386</td>\n",
       "      <td>0.000000</td>\n",
       "      <td>0.005567</td>\n",
       "      <td>...</td>\n",
       "      <td>0.000000</td>\n",
       "      <td>0.027042</td>\n",
       "      <td>0.004772</td>\n",
       "      <td>0.030091</td>\n",
       "      <td>0.006363</td>\n",
       "      <td>0.334045</td>\n",
       "      <td>0.009544</td>\n",
       "      <td>0.112939</td>\n",
       "      <td>0.008463</td>\n",
       "      <td>0.007158</td>\n",
       "    </tr>\n",
       "    <tr>\n",
       "      <th>boucicault2</th>\n",
       "      <td>0.004569</td>\n",
       "      <td>0.006752</td>\n",
       "      <td>0.167798</td>\n",
       "      <td>0.000000</td>\n",
       "      <td>0.011422</td>\n",
       "      <td>0.000000</td>\n",
       "      <td>0.003427</td>\n",
       "      <td>0.005711</td>\n",
       "      <td>0.000000</td>\n",
       "      <td>0.010280</td>\n",
       "      <td>...</td>\n",
       "      <td>0.000000</td>\n",
       "      <td>0.015991</td>\n",
       "      <td>0.009138</td>\n",
       "      <td>0.022958</td>\n",
       "      <td>0.006853</td>\n",
       "      <td>0.211314</td>\n",
       "      <td>0.007996</td>\n",
       "      <td>0.063965</td>\n",
       "      <td>0.004051</td>\n",
       "      <td>0.001142</td>\n",
       "    </tr>\n",
       "    <tr>\n",
       "      <th>yeats</th>\n",
       "      <td>0.011431</td>\n",
       "      <td>0.000000</td>\n",
       "      <td>0.000000</td>\n",
       "      <td>0.013515</td>\n",
       "      <td>0.011431</td>\n",
       "      <td>0.000000</td>\n",
       "      <td>0.025720</td>\n",
       "      <td>0.011431</td>\n",
       "      <td>0.000000</td>\n",
       "      <td>0.002858</td>\n",
       "      <td>...</td>\n",
       "      <td>0.000000</td>\n",
       "      <td>0.005716</td>\n",
       "      <td>0.002858</td>\n",
       "      <td>0.000000</td>\n",
       "      <td>0.014289</td>\n",
       "      <td>0.188616</td>\n",
       "      <td>0.008573</td>\n",
       "      <td>0.102881</td>\n",
       "      <td>0.000000</td>\n",
       "      <td>0.002858</td>\n",
       "    </tr>\n",
       "    <tr>\n",
       "      <th>wilde</th>\n",
       "      <td>0.035076</td>\n",
       "      <td>0.004013</td>\n",
       "      <td>0.000000</td>\n",
       "      <td>0.010033</td>\n",
       "      <td>0.015275</td>\n",
       "      <td>0.015326</td>\n",
       "      <td>0.003960</td>\n",
       "      <td>0.001131</td>\n",
       "      <td>0.014368</td>\n",
       "      <td>0.002829</td>\n",
       "      <td>...</td>\n",
       "      <td>0.072423</td>\n",
       "      <td>0.033944</td>\n",
       "      <td>0.006789</td>\n",
       "      <td>0.040133</td>\n",
       "      <td>0.002829</td>\n",
       "      <td>0.288527</td>\n",
       "      <td>0.010183</td>\n",
       "      <td>0.071283</td>\n",
       "      <td>0.002676</td>\n",
       "      <td>0.001131</td>\n",
       "    </tr>\n",
       "    <tr>\n",
       "      <th>shaw</th>\n",
       "      <td>0.018435</td>\n",
       "      <td>0.004064</td>\n",
       "      <td>0.000000</td>\n",
       "      <td>0.005541</td>\n",
       "      <td>0.011873</td>\n",
       "      <td>0.003174</td>\n",
       "      <td>0.015622</td>\n",
       "      <td>0.005937</td>\n",
       "      <td>0.006348</td>\n",
       "      <td>0.001250</td>\n",
       "      <td>...</td>\n",
       "      <td>0.000000</td>\n",
       "      <td>0.014998</td>\n",
       "      <td>0.004999</td>\n",
       "      <td>0.038419</td>\n",
       "      <td>0.006249</td>\n",
       "      <td>0.290891</td>\n",
       "      <td>0.023434</td>\n",
       "      <td>0.062177</td>\n",
       "      <td>0.003694</td>\n",
       "      <td>0.004999</td>\n",
       "    </tr>\n",
       "  </tbody>\n",
       "</table>\n",
       "<p>5 rows × 500 columns</p>\n",
       "</div>"
      ],
      "text/plain": [
       "                about       act       ada    afraid     after  afternoon  \\\n",
       "boucicault1  0.007953  0.020688  0.000000  0.002821  0.003181   0.000000   \n",
       "boucicault2  0.004569  0.006752  0.167798  0.000000  0.011422   0.000000   \n",
       "yeats        0.011431  0.000000  0.000000  0.013515  0.011431   0.000000   \n",
       "wilde        0.035076  0.004013  0.000000  0.010033  0.015275   0.015326   \n",
       "shaw         0.018435  0.004064  0.000000  0.005541  0.011873   0.003174   \n",
       "\n",
       "                again   against       age       ago  ...  worthing     would  \\\n",
       "boucicault1  0.003181  0.002386  0.000000  0.005567  ...  0.000000  0.027042   \n",
       "boucicault2  0.003427  0.005711  0.000000  0.010280  ...  0.000000  0.015991   \n",
       "yeats        0.025720  0.011431  0.000000  0.002858  ...  0.000000  0.005716   \n",
       "wilde        0.003960  0.001131  0.014368  0.002829  ...  0.072423  0.033944   \n",
       "shaw         0.015622  0.005937  0.006348  0.001250  ...  0.000000  0.014998   \n",
       "\n",
       "                years       yes       yet       you     young      your  \\\n",
       "boucicault1  0.004772  0.030091  0.006363  0.334045  0.009544  0.112939   \n",
       "boucicault2  0.009138  0.022958  0.006853  0.211314  0.007996  0.063965   \n",
       "yeats        0.002858  0.000000  0.014289  0.188616  0.008573  0.102881   \n",
       "wilde        0.006789  0.040133  0.002829  0.288527  0.010183  0.071283   \n",
       "shaw         0.004999  0.038419  0.006249  0.290891  0.023434  0.062177   \n",
       "\n",
       "                yours  yourself  \n",
       "boucicault1  0.008463  0.007158  \n",
       "boucicault2  0.004051  0.001142  \n",
       "yeats        0.000000  0.002858  \n",
       "wilde        0.002676  0.001131  \n",
       "shaw         0.003694  0.004999  \n",
       "\n",
       "[5 rows x 500 columns]"
      ]
     },
     "execution_count": 13,
     "metadata": {},
     "output_type": "execute_result"
    }
   ],
   "source": [
    "df"
   ]
  },
  {
   "cell_type": "markdown",
   "id": "7970b7b1-9182-4352-a736-3c60078ad7de",
   "metadata": {},
   "source": [
    "## Stylometry"
   ]
  },
  {
   "cell_type": "code",
   "execution_count": 14,
   "id": "a56d9f11-5186-4adf-9ba2-b8c67de1e7fa",
   "metadata": {},
   "outputs": [],
   "source": [
    "pca = PCA(2)"
   ]
  },
  {
   "cell_type": "code",
   "execution_count": 15,
   "id": "4ad7ec7c-d452-4b81-920f-52127b934fda",
   "metadata": {},
   "outputs": [],
   "source": [
    "import numpy as np\n",
    "tfidfArray = np.asarray(tfidfDense)"
   ]
  },
  {
   "cell_type": "code",
   "execution_count": 16,
   "id": "847f49e3-095e-4062-9b1a-15e3b4ee2f71",
   "metadata": {},
   "outputs": [],
   "source": [
    "from sklearn.preprocessing import StandardScaler\n",
    "\n",
    "# Normalize the TF-IDF array\n",
    "scaler = StandardScaler()\n",
    "tfidfArray_normalized = scaler.fit_transform(tfidfArray)"
   ]
  },
  {
   "cell_type": "code",
   "execution_count": 17,
   "id": "c34cd9f2-bf29-4905-9af9-0dd42d12ab81",
   "metadata": {},
   "outputs": [],
   "source": [
    "pcaOut = pca.fit_transform(tfidfArray_normalized)"
   ]
  },
  {
   "cell_type": "code",
   "execution_count": 18,
   "id": "50628e1b-1b9c-4f73-bf2b-732d0de41a75",
   "metadata": {},
   "outputs": [
    {
     "data": {
      "text/plain": [
       "array([[  1.32602958,  13.7136309 ],\n",
       "       [  3.90322138,  12.97606612],\n",
       "       [ 22.28991201, -13.04196864],\n",
       "       [-17.67417626, -11.177337  ],\n",
       "       [ -9.84498671,  -2.47039138]])"
      ]
     },
     "execution_count": 18,
     "metadata": {},
     "output_type": "execute_result"
    }
   ],
   "source": [
    "pcaOut"
   ]
  },
  {
   "cell_type": "code",
   "execution_count": 19,
   "id": "84b472c4-0aff-4550-87a7-3abdf937e495",
   "metadata": {},
   "outputs": [
    {
     "data": {
      "image/png": "[encoded data removed]",
      "text/plain": [
       "<Figure size 720x720 with 1 Axes>"
      ]
     },
     "metadata": {
      "needs_background": "light"
     },
     "output_type": "display_data"
    }
   ],
   "source": [
    "xs, ys = pcaOut[:,0], pcaOut[:,1]\n",
    "for i in range(len(xs)): \n",
    "    plt.scatter(xs[i], ys[i])\n",
    "    plt.annotate(texts[i], (xs[i], ys[i]))"
   ]
  },
  {
   "cell_type": "markdown",
   "id": "d4ddff14-a43a-483d-a0e9-3cd734db5a06",
   "metadata": {},
   "source": [
    "<a id='ner'></a>\n",
    "# Named Entity Recognition "
   ]
  },
  {
   "cell_type": "code",
   "execution_count": 20,
   "id": "1e3fd121-5857-446d-804d-645a9eaab2d2",
   "metadata": {
    "scrolled": true
   },
   "outputs": [
    {
     "name": "stdout",
     "output_type": "stream",
     "text": [
      "Collecting en-core-web-sm==3.6.0\n",
      "  Using cached https://github.com/explosion/spacy-models/releases/download/en_core_web_sm-3.6.0/en_core_web_sm-3.6.0-py3-none-any.whl (12.8 MB)\n",
      "Requirement already satisfied: spacy<3.7.0,>=3.6.0 in /Users/tomvannuenen/anaconda3/envs/dlab/lib/python3.10/site-packages (from en-core-web-sm==3.6.0) (3.6.0)\n",
      "Requirement already satisfied: spacy-legacy<3.1.0,>=3.0.11 in /Users/tomvannuenen/anaconda3/envs/dlab/lib/python3.10/site-packages (from spacy<3.7.0,>=3.6.0->en-core-web-sm==3.6.0) (3.0.12)\n",
      "Requirement already satisfied: spacy-loggers<2.0.0,>=1.0.0 in /Users/tomvannuenen/anaconda3/envs/dlab/lib/python3.10/site-packages (from spacy<3.7.0,>=3.6.0->en-core-web-sm==3.6.0) (1.0.4)\n",
      "Requirement already satisfied: murmurhash<1.1.0,>=0.28.0 in /Users/tomvannuenen/anaconda3/envs/dlab/lib/python3.10/site-packages (from spacy<3.7.0,>=3.6.0->en-core-web-sm==3.6.0) (1.0.9)\n",
      "Requirement already satisfied: cymem<2.1.0,>=2.0.2 in /Users/tomvannuenen/anaconda3/envs/dlab/lib/python3.10/site-packages (from spacy<3.7.0,>=3.6.0->en-core-web-sm==3.6.0) (2.0.7)\n",
      "Requirement already satisfied: preshed<3.1.0,>=3.0.2 in /Users/tomvannuenen/anaconda3/envs/dlab/lib/python3.10/site-packages (from spacy<3.7.0,>=3.6.0->en-core-web-sm==3.6.0) (3.0.8)\n",
      "Requirement already satisfied: thinc<8.2.0,>=8.1.8 in /Users/tomvannuenen/anaconda3/envs/dlab/lib/python3.10/site-packages (from spacy<3.7.0,>=3.6.0->en-core-web-sm==3.6.0) (8.1.10)\n",
      "Requirement already satisfied: wasabi<1.2.0,>=0.9.1 in /Users/tomvannuenen/anaconda3/envs/dlab/lib/python3.10/site-packages (from spacy<3.7.0,>=3.6.0->en-core-web-sm==3.6.0) (1.1.2)\n",
      "Requirement already satisfied: srsly<3.0.0,>=2.4.3 in /Users/tomvannuenen/anaconda3/envs/dlab/lib/python3.10/site-packages (from spacy<3.7.0,>=3.6.0->en-core-web-sm==3.6.0) (2.4.7)\n",
      "Requirement already satisfied: catalogue<2.1.0,>=2.0.6 in /Users/tomvannuenen/anaconda3/envs/dlab/lib/python3.10/site-packages (from spacy<3.7.0,>=3.6.0->en-core-web-sm==3.6.0) (2.0.9)\n",
      "Requirement already satisfied: typer<0.10.0,>=0.3.0 in /Users/tomvannuenen/anaconda3/envs/dlab/lib/python3.10/site-packages (from spacy<3.7.0,>=3.6.0->en-core-web-sm==3.6.0) (0.9.0)\n",
      "Requirement already satisfied: pathy>=0.10.0 in /Users/tomvannuenen/anaconda3/envs/dlab/lib/python3.10/site-packages (from spacy<3.7.0,>=3.6.0->en-core-web-sm==3.6.0) (0.10.2)\n",
      "Requirement already satisfied: smart-open<7.0.0,>=5.2.1 in /Users/tomvannuenen/anaconda3/envs/dlab/lib/python3.10/site-packages (from spacy<3.7.0,>=3.6.0->en-core-web-sm==3.6.0) (6.3.0)\n",
      "Requirement already satisfied: tqdm<5.0.0,>=4.38.0 in /Users/tomvannuenen/anaconda3/envs/dlab/lib/python3.10/site-packages (from spacy<3.7.0,>=3.6.0->en-core-web-sm==3.6.0) (4.65.0)\n",
      "Requirement already satisfied: numpy>=1.15.0 in /Users/tomvannuenen/anaconda3/envs/dlab/lib/python3.10/site-packages (from spacy<3.7.0,>=3.6.0->en-core-web-sm==3.6.0) (1.25.0)\n",
      "Requirement already satisfied: requests<3.0.0,>=2.13.0 in /Users/tomvannuenen/anaconda3/envs/dlab/lib/python3.10/site-packages (from spacy<3.7.0,>=3.6.0->en-core-web-sm==3.6.0) (2.31.0)\n",
      "Requirement already satisfied: pydantic!=1.8,!=1.8.1,<1.11.0,>=1.7.4 in /Users/tomvannuenen/anaconda3/envs/dlab/lib/python3.10/site-packages (from spacy<3.7.0,>=3.6.0->en-core-web-sm==3.6.0) (1.10.12)\n",
      "Requirement already satisfied: jinja2 in /Users/tomvannuenen/anaconda3/envs/dlab/lib/python3.10/site-packages (from spacy<3.7.0,>=3.6.0->en-core-web-sm==3.6.0) (3.1.2)\n",
      "Requirement already satisfied: setuptools in /Users/tomvannuenen/anaconda3/envs/dlab/lib/python3.10/site-packages (from spacy<3.7.0,>=3.6.0->en-core-web-sm==3.6.0) (68.0.0)\n",
      "Requirement already satisfied: packaging>=20.0 in /Users/tomvannuenen/anaconda3/envs/dlab/lib/python3.10/site-packages (from spacy<3.7.0,>=3.6.0->en-core-web-sm==3.6.0) (23.1)\n",
      "Requirement already satisfied: langcodes<4.0.0,>=3.2.0 in /Users/tomvannuenen/anaconda3/envs/dlab/lib/python3.10/site-packages (from spacy<3.7.0,>=3.6.0->en-core-web-sm==3.6.0) (3.3.0)\n",
      "Requirement already satisfied: typing-extensions>=4.2.0 in /Users/tomvannuenen/anaconda3/envs/dlab/lib/python3.10/site-packages (from pydantic!=1.8,!=1.8.1,<1.11.0,>=1.7.4->spacy<3.7.0,>=3.6.0->en-core-web-sm==3.6.0) (4.9.0)\n",
      "Requirement already satisfied: charset-normalizer<4,>=2 in /Users/tomvannuenen/anaconda3/envs/dlab/lib/python3.10/site-packages (from requests<3.0.0,>=2.13.0->spacy<3.7.0,>=3.6.0->en-core-web-sm==3.6.0) (3.2.0)\n",
      "Requirement already satisfied: idna<4,>=2.5 in /Users/tomvannuenen/anaconda3/envs/dlab/lib/python3.10/site-packages (from requests<3.0.0,>=2.13.0->spacy<3.7.0,>=3.6.0->en-core-web-sm==3.6.0) (3.4)\n",
      "Requirement already satisfied: urllib3<3,>=1.21.1 in /Users/tomvannuenen/anaconda3/envs/dlab/lib/python3.10/site-packages (from requests<3.0.0,>=2.13.0->spacy<3.7.0,>=3.6.0->en-core-web-sm==3.6.0) (2.0.4)\n",
      "Requirement already satisfied: certifi>=2017.4.17 in /Users/tomvannuenen/anaconda3/envs/dlab/lib/python3.10/site-packages (from requests<3.0.0,>=2.13.0->spacy<3.7.0,>=3.6.0->en-core-web-sm==3.6.0) (2023.7.22)\n",
      "Requirement already satisfied: blis<0.8.0,>=0.7.8 in /Users/tomvannuenen/anaconda3/envs/dlab/lib/python3.10/site-packages (from thinc<8.2.0,>=8.1.8->spacy<3.7.0,>=3.6.0->en-core-web-sm==3.6.0) (0.7.10)\n",
      "Requirement already satisfied: confection<1.0.0,>=0.0.1 in /Users/tomvannuenen/anaconda3/envs/dlab/lib/python3.10/site-packages (from thinc<8.2.0,>=8.1.8->spacy<3.7.0,>=3.6.0->en-core-web-sm==3.6.0) (0.1.0)\n",
      "Requirement already satisfied: click<9.0.0,>=7.1.1 in /Users/tomvannuenen/anaconda3/envs/dlab/lib/python3.10/site-packages (from typer<0.10.0,>=0.3.0->spacy<3.7.0,>=3.6.0->en-core-web-sm==3.6.0) (8.1.6)\n",
      "Requirement already satisfied: MarkupSafe>=2.0 in /Users/tomvannuenen/anaconda3/envs/dlab/lib/python3.10/site-packages (from jinja2->spacy<3.7.0,>=3.6.0->en-core-web-sm==3.6.0) (2.1.3)\n",
      "\u001b[38;5;2m✔ Download and installation successful\u001b[0m\n",
      "You can now load the package via spacy.load('en_core_web_sm')\n"
     ]
    }
   ],
   "source": [
    "import spacy\n",
    "spacy.cli.download('en_core_web_sm')\n",
    "nlp = spacy.load('en_core_web_sm')"
   ]
  },
  {
   "cell_type": "markdown",
   "id": "e345949a-ccbf-4b29-903d-b4d671d193a7",
   "metadata": {},
   "source": [
    "<div class=\"alert alert-warning\">\n",
    "Change the input of <b>nlp</b> below to the play you want to explore using named entity recognition.<br>\n",
    "</div>"
   ]
  },
  {
   "cell_type": "code",
   "execution_count": 21,
   "id": "8893c6a7-6704-483a-adb6-41362e01d953",
   "metadata": {},
   "outputs": [],
   "source": [
    "doc = nlp(text4)"
   ]
  },
  {
   "cell_type": "markdown",
   "id": "b5bcdc69-0e80-4850-91a2-4b9e3d41c063",
   "metadata": {},
   "source": [
    "Here are some things that we can do with this object: "
   ]
  },
  {
   "cell_type": "code",
   "execution_count": 22,
   "id": "cd73ec3c-a3d8-4685-85d2-3d2ab5e041cb",
   "metadata": {},
   "outputs": [
    {
     "data": {
      "text/plain": [
       "['cats',\n",
       " 'char_span',\n",
       " 'copy',\n",
       " 'count_by',\n",
       " 'doc',\n",
       " 'ents',\n",
       " 'extend_tensor',\n",
       " 'from_array',\n",
       " 'from_bytes',\n",
       " 'from_dict',\n",
       " 'from_disk',\n",
       " 'from_docs',\n",
       " 'from_json',\n",
       " 'get_extension',\n",
       " 'get_lca_matrix',\n",
       " 'has_annotation',\n",
       " 'has_extension',\n",
       " 'has_unknown_spaces',\n",
       " 'has_vector',\n",
       " 'is_nered',\n",
       " 'is_parsed',\n",
       " 'is_sentenced',\n",
       " 'is_tagged',\n",
       " 'lang',\n",
       " 'lang_',\n",
       " 'mem',\n",
       " 'noun_chunks',\n",
       " 'noun_chunks_iterator',\n",
       " 'remove_extension',\n",
       " 'retokenize',\n",
       " 'sentiment',\n",
       " 'sents',\n",
       " 'set_ents',\n",
       " 'set_extension',\n",
       " 'similarity',\n",
       " 'spans',\n",
       " 'tensor',\n",
       " 'text',\n",
       " 'text_with_ws',\n",
       " 'to_array',\n",
       " 'to_bytes',\n",
       " 'to_dict',\n",
       " 'to_disk',\n",
       " 'to_json',\n",
       " 'to_utf8_array',\n",
       " 'user_data',\n",
       " 'user_hooks',\n",
       " 'user_span_hooks',\n",
       " 'user_token_hooks',\n",
       " 'vector',\n",
       " 'vector_norm',\n",
       " 'vocab']"
      ]
     },
     "execution_count": 22,
     "metadata": {},
     "output_type": "execute_result"
    }
   ],
   "source": [
    "[method for method in dir(doc) if not method.startswith('_')]"
   ]
  },
  {
   "cell_type": "markdown",
   "id": "128b2d75-312c-4ce3-a4a2-4a4863308f52",
   "metadata": {},
   "source": [
    "## Named Entity Recognition"
   ]
  },
  {
   "cell_type": "markdown",
   "id": "0495e489-79dd-4fbb-8e6e-9df8d0d7fd1d",
   "metadata": {},
   "source": [
    "Explore the types of entities in a subset of words of your text."
   ]
  },
  {
   "cell_type": "markdown",
   "id": "575a243a-d9b6-42b3-91ad-e19784f58418",
   "metadata": {},
   "source": [
    "<div class=\"alert alert-warning\">\n",
    "Play around with the slicing of <b>doc</b> below to see other subsets of words in your play. Does any type of Named Entity stand out? Which would you like to explore further?<br>\n",
    "</div>"
   ]
  },
  {
   "cell_type": "code",
   "execution_count": 23,
   "id": "82679e8b-486e-44b8-874b-c01c4909886d",
   "metadata": {},
   "outputs": [
    {
     "name": "stdout",
     "output_type": "stream",
     "text": [
      "Lane : PERSON\n",
      "Lane : PERSON\n",
      "Lane : PERSON\n",
      "Lady : PERSON\n",
      "Bracknell : PERSON\n",
      "Lane : PERSON\n",
      "two : CARDINAL\n",
      "Lane : PERSON\n",
      "Thursday : DATE\n",
      "night : TIME\n",
      "eight : CARDINAL\n",
      "Lane : PERSON\n",
      "eight : CARDINAL\n"
     ]
    }
   ],
   "source": [
    "for word in doc[50:250]: \n",
    "    if len(word.text.strip()) > 0 and len(word.ent_type_) > 0: \n",
    "        print(word.text.strip(), ':', word.ent_type_)"
   ]
  },
  {
   "cell_type": "markdown",
   "id": "df3e5f8e-8518-4ec3-9cc2-c18f70a17a0c",
   "metadata": {},
   "source": [
    "We can extract places like this: "
   ]
  },
  {
   "cell_type": "code",
   "execution_count": 24,
   "id": "b821bab0-2cf7-4d14-ae5c-8b44b564be09",
   "metadata": {},
   "outputs": [
    {
     "name": "stdout",
     "output_type": "stream",
     "text": [
      "Shropshire\n",
      "Shropshire\n",
      "Gwendolen\n",
      "Gwendolen\n",
      "Gwendolen\n",
      "Cecily\n",
      "Cecily\n"
     ]
    }
   ],
   "source": [
    "for word in doc[:2000]: \n",
    "    if len(word.ent_type_) > 0: \n",
    "        if word.ent_type_ == 'GPE': \n",
    "            print(word)"
   ]
  },
  {
   "cell_type": "markdown",
   "id": "7294b8f9-1d58-4c4d-a75f-a5f3a69b019a",
   "metadata": {},
   "source": [
    "And persons like this:"
   ]
  },
  {
   "cell_type": "code",
   "execution_count": 25,
   "id": "0ba661bb-4f2b-4d52-94e1-b249e97c4e21",
   "metadata": {},
   "outputs": [
    {
     "name": "stdout",
     "output_type": "stream",
     "text": [
      "Jack\n",
      "Algy\n",
      "Aunt\n",
      "Augusta\n",
      "Jack\n",
      "Gwendolen\n",
      "Jack\n",
      "Jack\n",
      "Jack\n",
      "Jack\n",
      "Gwendolen\n",
      "Algy\n",
      "Worthing\n",
      "Lane\n",
      "Jack\n",
      "Jack\n",
      "Algernon\n",
      "Lane\n",
      "Ernest\n",
      "Jack\n",
      "Jack\n",
      "Jack\n",
      "Jack\n",
      "Algy\n",
      "Jack\n"
     ]
    }
   ],
   "source": [
    "for word in doc[1000:2000]: \n",
    "    if len(word.ent_type_) > 0: \n",
    "        if word.ent_type_ == 'PERSON': \n",
    "            print(word)"
   ]
  },
  {
   "cell_type": "markdown",
   "id": "f3d54cbc-706d-43e3-aa64-9abe3ff09fff",
   "metadata": {},
   "source": [
    "And locations like this: "
   ]
  },
  {
   "cell_type": "code",
   "execution_count": 26,
   "id": "beb11bd3-734f-47cb-a63c-222e3ad09ce2",
   "metadata": {},
   "outputs": [
    {
     "name": "stdout",
     "output_type": "stream",
     "text": [
      "Algernon\n",
      "Half\n",
      "-\n",
      "Moon\n",
      "Street\n"
     ]
    }
   ],
   "source": [
    "for word in doc[:4000]: \n",
    "    if len(word.ent_type_) > 0: \n",
    "        if word.ent_type_ == 'LOC': \n",
    "            print(word)"
   ]
  },
  {
   "cell_type": "markdown",
   "id": "1b2707d9-5b71-42b7-9bf2-27ba740a6425",
   "metadata": {},
   "source": [
    "<div class=\"alert alert-warning\">\n",
    "You can change <b>GPE</b> below to <b>TIME</b>, <b>GPE</b> or <b>PERSON</b> depending on which Named Entities you want to explore.\n",
    "</div>"
   ]
  },
  {
   "cell_type": "code",
   "execution_count": 27,
   "id": "b06b82be-06d4-48ff-9897-c8c5f4e77de4",
   "metadata": {},
   "outputs": [
    {
     "name": "stdout",
     "output_type": "stream",
     "text": [
      "Shropshire\n",
      "Shropshire\n",
      "Gwendolen\n",
      "Gwendolen\n",
      "Gwendolen\n",
      "Cecily\n",
      "Cecily\n",
      "Albany\n",
      "Gwendolen\n",
      "Shropshire\n",
      "Shropshire\n",
      "Albany\n",
      "Willis\n",
      "London\n",
      "Gwendolen\n",
      "Gwendolen\n",
      "Willis\n",
      "Gwendolen\n"
     ]
    }
   ],
   "source": [
    "for word in doc[:4000]: \n",
    "    if len(word.ent_type_) > 0: \n",
    "        if word.ent_type_ == 'GPE': \n",
    "            print(word)"
   ]
  },
  {
   "cell_type": "code",
   "execution_count": 28,
   "id": "89bfd70d-ff94-414b-a4d8-4278bdabf2b3",
   "metadata": {},
   "outputs": [],
   "source": [
    "ents = [word.text for word in doc if word.ent_type_ == 'GPE']"
   ]
  },
  {
   "cell_type": "markdown",
   "id": "e31cb24d-b324-4d14-a431-4dc8c25c5fae",
   "metadata": {},
   "source": [
    "Let's see are all the unique Named Entities for the class you have chosen:"
   ]
  },
  {
   "cell_type": "code",
   "execution_count": 29,
   "id": "7d90d628-4bb5-4c25-9ffc-9000bc27832d",
   "metadata": {},
   "outputs": [
    {
     "data": {
      "text/plain": [
       "{'Albany',\n",
       " 'Australia',\n",
       " 'Cardew',\n",
       " 'Cecily',\n",
       " 'Egeria',\n",
       " 'Ernest',\n",
       " 'Evensong',\n",
       " 'Fairfax',\n",
       " 'Fifeshire',\n",
       " 'Gwendolen',\n",
       " 'Hertfordshire',\n",
       " 'Leamington',\n",
       " 'London',\n",
       " 'Metropolitan',\n",
       " 'Miss.',\n",
       " 'N.B.',\n",
       " 'Pagan',\n",
       " 'Paris',\n",
       " 'Shropshire',\n",
       " 'Sporran',\n",
       " 'Sussex',\n",
       " 'Willis',\n",
       " 'Woolton'}"
      ]
     },
     "execution_count": 29,
     "metadata": {},
     "output_type": "execute_result"
    }
   ],
   "source": [
    "set(ents)"
   ]
  },
  {
   "cell_type": "markdown",
   "id": "be7bbcf8-8184-460b-95e3-6ca684070764",
   "metadata": {},
   "source": [
    "We can count our list of times, put this into a Pandas Series, and plot them, to try to show what kinds of times occur most often in Betteredge's narrative: "
   ]
  },
  {
   "cell_type": "code",
   "execution_count": 30,
   "id": "673711b6-511e-41b8-9207-c9ea86765c67",
   "metadata": {
    "scrolled": true
   },
   "outputs": [
    {
     "data": {
      "text/plain": [
       "<Axes: >"
      ]
     },
     "execution_count": 30,
     "metadata": {},
     "output_type": "execute_result"
    },
    {
     "data": {
      "image/png": "[encoded data removed]",
      "text/plain": [
       "<Figure size 720x720 with 1 Axes>"
      ]
     },
     "metadata": {
      "needs_background": "light"
     },
     "output_type": "display_data"
    }
   ],
   "source": [
    "from collections import Counter\n",
    "\n",
    "pd.Series(Counter(ents))[list(set(ents))].plot(kind='bar')"
   ]
  },
  {
   "cell_type": "markdown",
   "id": "5b4e98f3-7fbd-4c77-89f5-630fc1bd938c",
   "metadata": {},
   "source": [
    "See how frequently places occur in narrative time. "
   ]
  },
  {
   "cell_type": "code",
   "execution_count": 31,
   "id": "0b7162c0-3b95-477b-b378-ce361c2bc26c",
   "metadata": {},
   "outputs": [
    {
     "data": {
      "text/plain": [
       "<Axes: >"
      ]
     },
     "execution_count": 31,
     "metadata": {},
     "output_type": "execute_result"
    },
    {
     "data": {
      "image/png": "[encoded data removed]",
      "text/plain": [
       "<Figure size 720x720 with 1 Axes>"
      ]
     },
     "metadata": {
      "needs_background": "light"
     },
     "output_type": "display_data"
    }
   ],
   "source": [
    "times = pd.Series(np.histogram([word.i for word in doc if word.ent_type_ == 'GPE'], bins=50)[0])\n",
    "times.plot()"
   ]
  },
  {
   "cell_type": "markdown",
   "id": "b7660ca7-5f61-4264-901b-c897aa5f7a86",
   "metadata": {},
   "source": [
    "<a id='topic'></a>\n",
    "# Topic Modeling "
   ]
  },
  {
   "cell_type": "code",
   "execution_count": 32,
   "id": "847b0f06-a792-4c8a-99ec-6a702565b4a6",
   "metadata": {},
   "outputs": [],
   "source": [
    "from sklearn.feature_extraction.text import CountVectorizer\n",
    "import pandas as pd\n",
    "from nltk import word_tokenize\n",
    "%matplotlib inline\n",
    "from matplotlib import pyplot as plt\n",
    "plt.rcParams['figure.figsize'] = [10, 5]"
   ]
  },
  {
   "cell_type": "markdown",
   "id": "f2a15cc0-faf9-4f44-acf3-9bcfffe1cf33",
   "metadata": {},
   "source": [
    "<div class=\"alert alert-warning\">\n",
    "Change the input of <b>split_text_into_chunks</b> below to the play you want to explore using topic modeling.<br>\n",
    "It is recommended to use a longer play, as this will improve the topic model.\n",
    "</div>"
   ]
  },
  {
   "cell_type": "code",
   "execution_count": 33,
   "id": "a7f0ca78-baf4-4257-af06-6f23278b855e",
   "metadata": {},
   "outputs": [],
   "source": [
    "def split_text_into_chunks(text, chunk_size=2000):\n",
    "    # Split the text into words\n",
    "    words = text.split()\n",
    "    \n",
    "    # Calculate the number of chunks\n",
    "    num_chunks = len(words) // chunk_size + (1 if len(words) % chunk_size > 0 else 0)\n",
    "    \n",
    "    # Split the words into chunks of the specified size\n",
    "    chunks = [\" \".join(words[i*chunk_size:(i+1)*chunk_size]) for i in range(num_chunks)]\n",
    "    \n",
    "    return chunks\n",
    "\n",
    "chunks = split_text_into_chunks(text4)"
   ]
  },
  {
   "cell_type": "code",
   "execution_count": 34,
   "id": "d6a6dda5-7f34-4b63-9d0f-f20f4e95df1c",
   "metadata": {},
   "outputs": [
    {
     "data": {
      "text/plain": [
       "10"
      ]
     },
     "execution_count": 34,
     "metadata": {},
     "output_type": "execute_result"
    }
   ],
   "source": [
    "len(chunks)"
   ]
  },
  {
   "cell_type": "code",
   "execution_count": 35,
   "id": "033610be-7919-4c3a-ae83-d9817a4ee944",
   "metadata": {},
   "outputs": [],
   "source": [
    "from gensim.parsing.preprocessing import STOPWORDS\n",
    "from gensim import corpora\n",
    "from gensim.utils import simple_preprocess\n",
    "\n",
    "# Tokenize and preprocess documents\n",
    "def preprocess(text):\n",
    "    return [word for word in simple_preprocess(text) if word not in STOPWORDS]\n",
    "\n",
    "# Preprocess the documents\n",
    "processed_docs = [preprocess(doc) for doc in chunks]\n",
    "\n",
    "# Create a dictionary representation of the documents\n",
    "dictionary = corpora.Dictionary(processed_docs)\n",
    "\n",
    "# Create a bag-of-words model for each document\n",
    "bow_corpus = [dictionary.doc2bow(doc) for doc in processed_docs]\n"
   ]
  },
  {
   "cell_type": "markdown",
   "id": "d18a0610-f567-4fd7-93d0-328c5fb7c1e1",
   "metadata": {},
   "source": [
    "<div class=\"alert alert-warning\">\n",
    "Change the <b>number of topics (num_topics)</b> below (for smaller corpora like the ones you are probably using, anything between 3 and 10 topics should be as good as it gets).\n",
    "</div>"
   ]
  },
  {
   "cell_type": "code",
   "execution_count": 36,
   "id": "154b9107-6993-46dc-9711-c2bd048328c8",
   "metadata": {},
   "outputs": [],
   "source": [
    "from gensim.models import LdaModel\n",
    "\n",
    "# Number of topics\n",
    "num_topics = 3\n",
    "\n",
    "# Train the model on the bag-of-words corpus\n",
    "lda_model = LdaModel(bow_corpus, num_topics=num_topics, id2word=dictionary, passes=20)"
   ]
  },
  {
   "cell_type": "code",
   "execution_count": 37,
   "id": "d0eab7a9-8970-4849-9713-42b10f9bebe4",
   "metadata": {},
   "outputs": [
    {
     "name": "stdout",
     "output_type": "stream",
     "text": [
      "Topic: 0 nWords: 0.033*\"jack\" + 0.018*\"chasuble\" + 0.016*\"miss\" + 0.015*\"prism\" + 0.012*\"cecily\" + 0.011*\"brother\" + 0.009*\"algernon\" + 0.007*\"mr\" + 0.006*\"think\" + 0.005*\"lady\"\n",
      "n\n",
      "Topic: 1 nWords: 0.032*\"algernon\" + 0.031*\"cecily\" + 0.028*\"jack\" + 0.020*\"gwendolen\" + 0.010*\"ernest\" + 0.009*\"miss\" + 0.009*\"oh\" + 0.008*\"lane\" + 0.007*\"yes\" + 0.007*\"worthing\"\n",
      "n\n",
      "Topic: 2 nWords: 0.024*\"algernon\" + 0.023*\"lady\" + 0.022*\"bracknell\" + 0.020*\"jack\" + 0.016*\"gwendolen\" + 0.014*\"cecily\" + 0.010*\"miss\" + 0.009*\"mr\" + 0.007*\"bunbury\" + 0.006*\"prism\"\n",
      "n\n"
     ]
    }
   ],
   "source": [
    "for idx, topic in lda_model.print_topics(-1):\n",
    "    print(\"Topic: {} nWords: {}\".format(idx, topic ))\n",
    "    print(\"n\")"
   ]
  },
  {
   "cell_type": "code",
   "execution_count": 38,
   "id": "fdf64d91-afe5-45b0-b099-fba9f84c644f",
   "metadata": {},
   "outputs": [],
   "source": [
    "import pandas as pd\n",
    "\n",
    "# Initialize an empty list to hold the topic distribution for each document\n",
    "topics_over_time = []\n",
    "\n",
    "for document_bow in bow_corpus:\n",
    "    # Get the topic distribution for the document\n",
    "    document_topics = lda_model.get_document_topics(document_bow, minimum_probability=0)\n",
    "    # Convert the topic distribution to a dictionary with topic ID as keys and probability as values\n",
    "    topic_prob_dict = {topic: prob for topic, prob in document_topics}\n",
    "    # Append the topic distribution dictionary to the list\n",
    "    topics_over_time.append(topic_prob_dict)\n",
    "\n",
    "# Create a DataFrame from the list of topic distribution dictionaries\n",
    "df_topics_over_time = pd.DataFrame(topics_over_time).fillna(0)  # Fill missing values with 0s"
   ]
  },
  {
   "cell_type": "code",
   "execution_count": 39,
   "id": "0f1ebfb7-07c3-4cc7-8af6-97652b1b7098",
   "metadata": {},
   "outputs": [
    {
     "data": {
      "text/plain": [
       "<Axes: >"
      ]
     },
     "execution_count": 39,
     "metadata": {},
     "output_type": "execute_result"
    },
    {
     "data": {
      "image/png": "[encoded data removed]",
      "text/plain": [
       "<Figure size 720x360 with 1 Axes>"
      ]
     },
     "metadata": {
      "needs_background": "light"
     },
     "output_type": "display_data"
    }
   ],
   "source": [
    "df_topics_over_time.plot()"
   ]
  },
  {
   "cell_type": "code",
   "execution_count": 40,
   "id": "ba5c59aa-10ed-4962-9f6e-e6d902065adf",
   "metadata": {
    "scrolled": true
   },
   "outputs": [
    {
     "data": {
      "text/html": [
       "\n",
       "<link rel=\"stylesheet\" type=\"text/css\" href=\"https://cdn.jsdelivr.net/gh/bmabey/pyLDAvis@3.4.0/pyLDAvis/js/ldavis.v1.0.0.css\">\n",
       "\n",
       "\n",
       "<div id=\"ldavis_el69102114576905607961645602\" style=\"background-color:white;\"></div>\n",
       "<script type=\"text/javascript\">\n",
       "\n",
       "var ldavis_el69102114576905607961645602_data = {\"mdsDat\": {\"x\": [-0.0497600586326256, -0.02856820656142437, 0.07832826519404996], \"y\": [0.05551353973255247, -0.06651890504200904, 0.011005365309456608], \"topics\": [1, 2, 3], \"cluster\": [1, 1, 1], \"Freq\": [52.90922983122338, 32.34268978900271, 14.74808037977391]}, \"tinfo\": {\"Term\": [\"jack\", \"chasuble\", \"prism\", \"bracknell\", \"lady\", \"miss\", \"brother\", \"hand\", \"bunbury\", \"christened\", \"augusta\", \"man\", \"dr\", \"mr\", \"uncle\", \"lane\", \"perfectly\", \"think\", \"thirty\", \"oh\", \"house\", \"age\", \"got\", \"mourning\", \"change\", \"child\", \"markby\", \"poor\", \"merriman\", \"peculiarly\", \"cigarette\", \"cousin\", \"diary\", \"business\", \"read\", \"letters\", \"wicked\", \"puts\", \"romantic\", \"exactly\", \"isn\", \"country\", \"shropshire\", \"butter\", \"begins\", \"liked\", \"salver\", \"flowers\", \"clever\", \"lost\", \"boy\", \"bread\", \"play\", \"short\", \"accounts\", \"friends\", \"card\", \"brought\", \"picks\", \"ordinary\", \"lane\", \"engagement\", \"oh\", \"cecily\", \"ernest\", \"world\", \"sure\", \"merriman\", \"algernon\", \"gwendolen\", \"good\", \"like\", \"little\", \"love\", \"jack\", \"afraid\", \"yes\", \"worthing\", \"think\", \"sir\", \"case\", \"dear\", \"algy\", \"miss\", \"mr\", \"life\", \"know\", \"fact\", \"goes\", \"lady\", \"brother\", \"bracknell\", \"prism\", \"time\", \"aunt\", \"thirty\", \"markby\", \"cake\", \"muffin\", \"profile\", \"dreadful\", \"cucumbers\", \"invaluable\", \"bows\", \"manuscript\", \"approaches\", \"connected\", \"shame\", \"perambulator\", \"contained\", \"possibilities\", \"completely\", \"dine\", \"baby\", \"cynical\", \"bore\", \"kill\", \"plays\", \"farquhar\", \"programme\", \"pure\", \"english\", \"unhappy\", \"invitations\", \"harbury\", \"augusta\", \"nephew\", \"bracknell\", \"lady\", \"high\", \"moncrieff\", \"age\", \"bunbury\", \"consent\", \"christened\", \"aware\", \"moment\", \"tea\", \"muffins\", \"algernon\", \"aunt\", \"gwendolen\", \"mr\", \"thank\", \"jack\", \"cardew\", \"want\", \"miss\", \"left\", \"know\", \"hear\", \"prism\", \"cecily\", \"dear\", \"ask\", \"looks\", \"mean\", \"people\", \"time\", \"yes\", \"worthing\", \"chasuble\", \"thing\", \"think\", \"ernest\", \"perfectly\", \"mourning\", \"change\", \"unmarried\", \"days\", \"dressed\", \"charity\", \"sad\", \"noise\", \"son\", \"restored\", \"shakes\", \"scoundrel\", \"behaved\", \"blow\", \"occurred\", \"stay\", \"admirably\", \"brothers\", \"immersion\", \"sermon\", \"primitive\", \"trust\", \"reconciliation\", \"childish\", \"guest\", \"ridiculous\", \"faults\", \"shake\", \"past\", \"distressing\", \"chasuble\", \"prism\", \"brother\", \"jack\", \"miss\", \"dr\", \"clothes\", \"hand\", \"man\", \"christened\", \"mr\", \"uncle\", \"perfectly\", \"cecily\", \"think\", \"child\", \"forgive\", \"dead\", \"house\", \"practice\", \"algernon\", \"worthing\", \"poor\", \"got\", \"room\", \"yes\", \"lady\", \"ernest\", \"bracknell\", \"oh\", \"dear\", \"time\", \"bag\", \"like\", \"know\", \"gwendolen\", \"merriman\"], \"Freq\": [214.0, 38.0, 52.0, 92.0, 96.0, 86.0, 38.0, 22.0, 31.0, 13.0, 17.0, 16.0, 10.0, 63.0, 18.0, 39.0, 24.0, 48.0, 7.0, 46.0, 16.0, 12.0, 14.0, 3.0, 3.0, 7.0, 6.0, 13.0, 26.0, 4.0, 10.572914016447863, 8.852310072930155, 7.9998391696397135, 7.999512455610657, 7.143613823778082, 6.28580575232731, 6.283694444718894, 5.428344027952024, 5.428313823265208, 5.428294190218778, 13.997072364598722, 13.142410614691249, 4.571982257588275, 4.571570970436135, 4.571492438250414, 4.571309196483733, 4.5707982338651005, 4.5706240535044635, 4.565034676209223, 4.563886898110226, 8.857100536259122, 3.7146071199818604, 3.7140198905290194, 3.7138587988660023, 3.713709537371988, 3.713120294273359, 3.7128663231983836, 3.7127044764181965, 3.712590453725467, 3.711201038131946, 33.71940284219337, 7.9983500785797, 37.12822526402501, 132.296818217661, 44.84383933755209, 7.1342025467777646, 9.70787292932763, 20.857000749335278, 136.46332520826394, 85.82209896560008, 20.843203248397877, 26.826065053369987, 18.274079174625218, 14.846208670464714, 120.79032263877077, 10.567044238976683, 31.967359846992114, 31.912224211678776, 31.102968160638415, 18.27914752107289, 13.142062253969975, 27.697272930715087, 13.134664119345922, 40.55168487708753, 31.862752961966272, 14.84372987250004, 20.743040479625517, 13.979452963956243, 13.125555392625207, 29.338911754667674, 18.260698498365873, 27.58760172653315, 17.42218820132164, 13.983229556631096, 13.993150789427153, 6.511451675058732, 5.730370160824527, 4.167383343043622, 3.38605226096017, 3.385440188886, 2.604551928177476, 2.604515923937819, 2.6045230016943326, 2.6044189894464345, 2.60439375570582, 2.604341441853327, 2.604380831106969, 2.604318054483977, 2.604279280687423, 2.6042611247033225, 2.6041491115132787, 2.6040694098203625, 5.840006455594281, 4.948680574987225, 1.8231636085848257, 1.8231554537784078, 1.8231319125447858, 1.823116987710398, 1.8231062172113555, 1.8231197572672948, 1.8230957544408568, 1.8231268350238086, 1.8231265272952646, 1.8230883689557988, 1.8230943696624085, 13.548208283999513, 4.167625217679267, 59.00708126559084, 60.538284340696705, 3.386334448035089, 3.386205817503665, 8.887530853414415, 19.805802989364043, 4.948816591003707, 8.195899256915569, 3.3863898391730234, 8.91143028306165, 8.076155925844134, 7.29460358693749, 62.149216188830515, 13.558657514442208, 41.10260985866402, 23.065729013791522, 7.295152574660125, 53.7885566075875, 10.457663435717343, 6.53167374860424, 26.87114204093583, 4.982823364681168, 15.220518436620845, 4.949753008963335, 16.689731442893557, 36.251862661915276, 15.134540312319768, 7.3217920192638255, 8.107992290100215, 8.11127636912261, 8.92201799134918, 9.660441559346275, 12.024138356545368, 12.075723507846167, 10.429721683915107, 8.120957509119288, 10.46797849651482, 8.88597497789556, 7.331847357170101, 2.7010956467388127, 2.700983950072737, 2.078024140169451, 2.0777432146349235, 2.0775446583755053, 2.0775429745061675, 2.0775203825925517, 1.454775967642062, 1.454701596746308, 1.4546955628811808, 1.454606458128721, 1.4545775517050883, 1.454451682472086, 1.454418285730219, 1.4544170228282156, 1.4543465809609166, 1.4543235680799664, 1.4542842777954172, 1.4542880665014273, 1.4542788052200692, 1.454260422979798, 1.454237971388627, 1.4542362875192891, 1.4542385326784064, 1.4542285697848243, 1.4542136956056735, 1.4542061181936532, 1.4541835262800373, 1.454177632737355, 1.4541696343580004, 21.407673007269274, 18.29194782961704, 13.303406335743114, 40.11423998393882, 18.91615931572811, 4.573059363785786, 2.077776471054346, 6.444036052755906, 5.1959930737143365, 3.9496087059705243, 8.93825123200472, 4.5729642251681994, 5.196592531198602, 13.929964013131551, 7.068916034994091, 2.7020663974120684, 2.0783341124500554, 2.077713746921512, 3.948136162234597, 2.078350530176099, 11.441378009079083, 5.821195797575605, 3.3260093063637544, 3.324906652592369, 3.949428251306488, 5.198571638960325, 6.445801309111725, 5.197385633656717, 5.822929060414006, 4.571889355240888, 4.575261022944992, 3.9494495803181002, 3.327113363359588, 3.949461367403465, 3.9516358040083754, 4.570743482156499, 3.3264527252893816], \"Total\": [214.0, 38.0, 52.0, 92.0, 96.0, 86.0, 38.0, 22.0, 31.0, 13.0, 17.0, 16.0, 10.0, 63.0, 18.0, 39.0, 24.0, 48.0, 7.0, 46.0, 16.0, 12.0, 14.0, 3.0, 3.0, 7.0, 6.0, 13.0, 26.0, 4.0, 11.043114473062895, 9.327706978432296, 8.470663467821769, 8.470625744627696, 7.613335045999033, 6.755818758191377, 6.75562624324972, 5.898350381515608, 5.898350746575513, 5.8983681133103065, 15.253767171148821, 14.396585165616019, 5.040999383136475, 5.04095605627661, 5.0409554441593185, 5.040969751686969, 5.040904458388038, 5.040876063321918, 5.040363024040033, 5.040243339531866, 9.951770620522371, 4.183539537865346, 4.183477381528456, 4.183439919084628, 4.183451198022914, 4.183395522602467, 4.183383519587359, 4.183366061707319, 4.183344831023871, 4.183216633602977, 39.66553199794618, 9.251751533696199, 46.67850546199817, 182.47864489270785, 58.92719994910436, 8.393741346201688, 11.747878420387368, 26.795397657887964, 210.05391940617352, 131.4954523064206, 27.734031906384033, 37.32697357470594, 24.3802212415913, 19.237008163293336, 214.6931192302971, 13.071260372877092, 49.190069842497806, 49.809143517100544, 48.639862692147325, 25.944035763469973, 17.831069919035432, 47.40707426597985, 17.83033914030077, 86.33898623375147, 63.86673320776251, 22.355484540361644, 39.91519472025474, 22.595021252693357, 20.174405707635067, 96.32299740447611, 38.89010965714123, 92.417612052538, 52.403867473832236, 27.59312069629547, 28.383701849436456, 7.007105951524042, 6.225582152369338, 4.6623051119905154, 3.8805733694077986, 3.8804788876682514, 3.0988930078518315, 3.0988642986658155, 3.098892467911644, 3.0988769013064297, 3.098862719945747, 3.0988534907253467, 3.098931485843085, 3.098869700436666, 3.098845104996664, 3.098862624090253, 3.0988137506104856, 3.098825526629305, 7.071335543128894, 6.067448419228238, 2.317224792614745, 2.3172268647027674, 2.31722966499662, 2.317219790105736, 2.3172091788288953, 2.3172284891131683, 2.3172124023945546, 2.3172590128895, 2.31725865329603, 2.317221116294686, 2.317233823494938, 17.23768543584145, 5.51899211305035, 92.417612052538, 96.32299740447611, 4.504174178094363, 4.504257438532884, 12.777981709529396, 31.13006620298304, 7.1580223042378, 13.157532921855271, 4.737341417548482, 14.881288506121697, 13.714684388598762, 12.075628171041258, 210.05391940617352, 28.383701849436456, 131.4954523064206, 63.86673320776251, 12.932723625488393, 214.6931192302971, 21.824484415026063, 11.29183104345517, 86.33898623375147, 7.778680808131549, 39.91519472025474, 8.015489557999881, 52.403867473832236, 182.47864489270785, 47.40707426597985, 14.645079819256337, 17.53149869231083, 17.764905360211717, 21.973182437372945, 27.59312069629547, 49.190069842497806, 49.809143517100544, 38.1233474396542, 20.102706364794223, 48.639862692147325, 58.92719994910436, 24.779016851911322, 3.249238292487518, 3.249280506074549, 2.6253798539488757, 2.6254634319308354, 2.6255209957238543, 2.6255247973398426, 2.625537346707163, 2.0015689055464687, 2.0015937670176758, 2.001593814275614, 2.0016160766860756, 2.001633110485015, 2.0016616796136684, 2.0016823856433925, 2.0016852823491145, 2.0017059754203586, 2.0017058745286986, 2.0017084516452375, 2.001718371921285, 2.0017173409657136, 2.0017188366715284, 2.001723954608816, 2.001728682652919, 2.0017340797379006, 2.0017330351259384, 2.0017424896339993, 2.001752397655265, 2.001751595410599, 2.001752604563954, 2.0017546197909484, 38.1233474396542, 52.403867473832236, 38.89010965714123, 214.6931192302971, 86.33898623375147, 10.742293633394556, 3.4822090220705526, 22.896758569214356, 16.661239442912247, 13.157532921855271, 63.86673320776251, 18.68686280312322, 24.779016851911322, 182.47864489270785, 48.639862692147325, 7.232198872822956, 4.1883158688523, 4.188517746895892, 16.118813299320806, 4.339487009000784, 210.05391940617352, 49.809143517100544, 13.780312987690692, 14.008424568590701, 22.043754900529997, 49.190069842497806, 96.32299740447611, 58.92719994910436, 92.417612052538, 46.67850546199817, 47.40707426597985, 27.59312069629547, 15.566151196351996, 37.32697357470594, 39.91519472025474, 131.4954523064206, 26.795397657887964], \"Category\": [\"Default\", \"Default\", \"Default\", \"Default\", \"Default\", \"Default\", \"Default\", \"Default\", \"Default\", \"Default\", \"Default\", \"Default\", \"Default\", \"Default\", \"Default\", \"Default\", \"Default\", \"Default\", \"Default\", \"Default\", \"Default\", \"Default\", \"Default\", \"Default\", \"Default\", \"Default\", \"Default\", \"Default\", \"Default\", \"Default\", \"Topic1\", \"Topic1\", \"Topic1\", \"Topic1\", \"Topic1\", \"Topic1\", \"Topic1\", \"Topic1\", \"Topic1\", \"Topic1\", \"Topic1\", \"Topic1\", \"Topic1\", \"Topic1\", \"Topic1\", \"Topic1\", \"Topic1\", \"Topic1\", \"Topic1\", \"Topic1\", \"Topic1\", \"Topic1\", \"Topic1\", \"Topic1\", \"Topic1\", \"Topic1\", \"Topic1\", \"Topic1\", \"Topic1\", \"Topic1\", \"Topic1\", \"Topic1\", \"Topic1\", \"Topic1\", \"Topic1\", \"Topic1\", \"Topic1\", \"Topic1\", \"Topic1\", \"Topic1\", \"Topic1\", \"Topic1\", \"Topic1\", \"Topic1\", \"Topic1\", \"Topic1\", \"Topic1\", \"Topic1\", \"Topic1\", \"Topic1\", \"Topic1\", \"Topic1\", \"Topic1\", \"Topic1\", \"Topic1\", \"Topic1\", \"Topic1\", \"Topic1\", \"Topic1\", \"Topic1\", \"Topic1\", \"Topic1\", \"Topic1\", \"Topic1\", \"Topic1\", \"Topic2\", \"Topic2\", \"Topic2\", \"Topic2\", \"Topic2\", \"Topic2\", \"Topic2\", \"Topic2\", \"Topic2\", \"Topic2\", \"Topic2\", \"Topic2\", \"Topic2\", \"Topic2\", \"Topic2\", \"Topic2\", \"Topic2\", \"Topic2\", \"Topic2\", \"Topic2\", \"Topic2\", \"Topic2\", \"Topic2\", \"Topic2\", \"Topic2\", \"Topic2\", \"Topic2\", \"Topic2\", \"Topic2\", \"Topic2\", \"Topic2\", \"Topic2\", \"Topic2\", \"Topic2\", \"Topic2\", \"Topic2\", \"Topic2\", \"Topic2\", \"Topic2\", \"Topic2\", \"Topic2\", \"Topic2\", \"Topic2\", \"Topic2\", \"Topic2\", \"Topic2\", \"Topic2\", \"Topic2\", \"Topic2\", \"Topic2\", \"Topic2\", \"Topic2\", \"Topic2\", \"Topic2\", \"Topic2\", \"Topic2\", \"Topic2\", \"Topic2\", \"Topic2\", \"Topic2\", \"Topic2\", \"Topic2\", \"Topic2\", \"Topic2\", \"Topic2\", \"Topic2\", \"Topic2\", \"Topic2\", \"Topic2\", \"Topic2\", \"Topic2\", \"Topic3\", \"Topic3\", \"Topic3\", \"Topic3\", \"Topic3\", \"Topic3\", \"Topic3\", \"Topic3\", \"Topic3\", \"Topic3\", \"Topic3\", \"Topic3\", \"Topic3\", \"Topic3\", \"Topic3\", \"Topic3\", \"Topic3\", \"Topic3\", \"Topic3\", \"Topic3\", \"Topic3\", \"Topic3\", \"Topic3\", \"Topic3\", \"Topic3\", \"Topic3\", \"Topic3\", \"Topic3\", \"Topic3\", \"Topic3\", \"Topic3\", \"Topic3\", \"Topic3\", \"Topic3\", \"Topic3\", \"Topic3\", \"Topic3\", \"Topic3\", \"Topic3\", \"Topic3\", \"Topic3\", \"Topic3\", \"Topic3\", \"Topic3\", \"Topic3\", \"Topic3\", \"Topic3\", \"Topic3\", \"Topic3\", \"Topic3\", \"Topic3\", \"Topic3\", \"Topic3\", \"Topic3\", \"Topic3\", \"Topic3\", \"Topic3\", \"Topic3\", \"Topic3\", \"Topic3\", \"Topic3\", \"Topic3\", \"Topic3\", \"Topic3\", \"Topic3\", \"Topic3\", \"Topic3\"], \"logprob\": [30.0, 29.0, 28.0, 27.0, 26.0, 25.0, 24.0, 23.0, 22.0, 21.0, 20.0, 19.0, 18.0, 17.0, 16.0, 15.0, 14.0, 13.0, 12.0, 11.0, 10.0, 9.0, 8.0, 7.0, 6.0, 5.0, 4.0, 3.0, 2.0, 1.0, -6.0137, -6.1913, -6.2926, -6.2926, -6.4058, -6.5337, -6.534, -6.6804, -6.6804, -6.6804, -5.7332, -5.7962, -6.8521, -6.8521, -6.8522, -6.8522, -6.8523, -6.8523, -6.8536, -6.8538, -6.1908, -7.0597, -7.0599, -7.0599, -7.06, -7.0601, -7.0602, -7.0602, -7.0603, -7.0606, -4.8539, -6.2928, -4.7576, -3.487, -4.5688, -6.4071, -6.0991, -5.3343, -3.4559, -3.9197, -5.335, -5.0826, -5.4665, -5.6743, -3.5779, -6.0143, -4.9073, -4.909, -4.9347, -5.4662, -5.7962, -5.0507, -5.7967, -4.6694, -4.9106, -5.6744, -5.3398, -5.7344, -5.7974, -4.9931, -5.4672, -5.0546, -5.5143, -5.7341, -5.7334, -6.0062, -6.134, -6.4525, -6.6601, -6.6603, -6.9225, -6.9226, -6.9226, -6.9226, -6.9226, -6.9226, -6.9226, -6.9226, -6.9227, -6.9227, -6.9227, -6.9227, -6.1151, -6.2807, -7.2792, -7.2792, -7.2793, -7.2793, -7.2793, -7.2793, -7.2793, -7.2793, -7.2793, -7.2793, -7.2793, -5.2736, -6.4525, -3.8022, -3.7765, -6.6601, -6.6601, -5.6952, -4.8938, -6.2807, -5.7762, -6.66, -5.6925, -5.7909, -5.8927, -3.7503, -5.2728, -4.1637, -4.7415, -5.8926, -3.8947, -5.5325, -6.0031, -4.5888, -6.2738, -5.1572, -6.2805, -5.065, -4.2893, -5.1628, -5.889, -5.787, -5.7866, -5.6913, -5.6118, -5.3929, -5.3886, -5.5351, -5.7854, -5.5315, -5.6953, -5.8876, -6.1009, -6.1009, -6.3631, -6.3633, -6.3633, -6.3633, -6.3634, -6.7197, -6.7197, -6.7197, -6.7198, -6.7198, -6.7199, -6.7199, -6.7199, -6.72, -6.72, -6.72, -6.72, -6.72, -6.72, -6.7201, -6.7201, -6.7201, -6.7201, -6.7201, -6.7201, -6.7201, -6.7201, -6.7201, -4.0308, -4.1881, -4.5065, -3.4028, -4.1545, -5.5744, -6.3632, -5.2314, -5.4466, -5.7209, -4.9042, -5.5744, -5.4465, -4.4605, -5.1388, -6.1005, -6.363, -6.3633, -5.7213, -6.363, -4.6573, -5.333, -5.8928, -5.8931, -5.721, -5.4462, -5.2311, -5.4464, -5.3327, -5.5746, -5.5739, -5.721, -5.8924, -5.721, -5.7204, -5.5749, -5.8926], \"loglift\": [30.0, 29.0, 28.0, 27.0, 26.0, 25.0, 24.0, 23.0, 22.0, 21.0, 20.0, 19.0, 18.0, 17.0, 16.0, 15.0, 14.0, 13.0, 12.0, 11.0, 10.0, 9.0, 8.0, 7.0, 6.0, 5.0, 4.0, 3.0, 2.0, 1.0, 0.5931, 0.5843, 0.5794, 0.5794, 0.5729, 0.5645, 0.5642, 0.5536, 0.5535, 0.5535, 0.5506, 0.5454, 0.5389, 0.5389, 0.5388, 0.5388, 0.5387, 0.5387, 0.5375, 0.5373, 0.5201, 0.5177, 0.5176, 0.5175, 0.5175, 0.5173, 0.5173, 0.5172, 0.5172, 0.5169, 0.4742, 0.491, 0.4077, 0.315, 0.3635, 0.474, 0.4459, 0.3861, 0.2053, 0.2099, 0.351, 0.3063, 0.3483, 0.3775, 0.0614, 0.4239, 0.2056, 0.1914, 0.1895, 0.2864, 0.3315, 0.0992, 0.3309, -0.1191, -0.0588, 0.2271, -0.018, 0.1565, 0.2067, -0.5522, -0.1194, -0.5724, -0.4646, -0.0431, -0.0707, 1.0554, 1.0459, 1.0166, 0.9925, 0.9923, 0.955, 0.955, 0.955, 0.955, 0.9549, 0.9549, 0.9549, 0.9549, 0.9549, 0.9549, 0.9549, 0.9548, 0.9375, 0.925, 0.889, 0.889, 0.889, 0.889, 0.889, 0.889, 0.889, 0.889, 0.889, 0.8889, 0.8889, 0.8879, 0.8479, 0.6801, 0.6644, 0.8435, 0.8435, 0.7657, 0.6766, 0.7597, 0.6554, 0.7931, 0.616, 0.5992, 0.6247, -0.089, 0.39, -0.0341, 0.1103, 0.5562, -0.2554, 0.3931, 0.5814, -0.0384, 0.6834, 0.1647, 0.6467, -0.0154, -0.4874, -0.013, 0.4355, 0.3576, 0.3448, 0.2275, 0.0793, -0.28, -0.2882, -0.1674, 0.2224, -0.4073, -0.763, -0.089, 1.7293, 1.7292, 1.6802, 1.6801, 1.68, 1.68, 1.6799, 1.595, 1.5949, 1.5949, 1.5948, 1.5948, 1.5947, 1.5947, 1.5947, 1.5946, 1.5946, 1.5946, 1.5946, 1.5946, 1.5945, 1.5945, 1.5945, 1.5945, 1.5945, 1.5945, 1.5945, 1.5945, 1.5945, 1.5945, 1.337, 0.8615, 0.8413, 0.2366, 0.3958, 1.0601, 1.3977, 0.6462, 0.7489, 0.7107, -0.0524, 0.5064, 0.3521, -0.6585, -0.0147, 0.9295, 1.2133, 1.213, 0.5073, 1.1779, -0.9961, -0.2326, 0.4926, 0.4758, 0.1946, -0.3333, -0.7902, -0.5141, -0.8505, -0.4093, -0.4241, -0.0299, 0.3711, -0.3321, -0.3986, -1.4452, -0.1723]}, \"token.table\": {\"Topic\": [1, 3, 1, 2, 3, 1, 2, 1, 2, 3, 1, 2, 3, 2, 1, 2, 1, 2, 3, 1, 2, 3, 1, 2, 2, 3, 1, 2, 3, 1, 3, 3, 2, 2, 1, 3, 1, 2, 3, 1, 1, 2, 3, 3, 1, 1, 2, 3, 1, 1, 2, 1, 1, 2, 3, 1, 2, 3, 1, 2, 3, 3, 3, 1, 2, 3, 1, 2, 3, 3, 1, 2, 3, 1, 1, 1, 3, 2, 2, 1, 2, 2, 1, 2, 1, 2, 2, 3, 2, 3, 1, 2, 3, 1, 1, 2, 3, 1, 2, 3, 2, 3, 1, 2, 2, 1, 2, 3, 1, 1, 2, 3, 2, 3, 1, 2, 3, 1, 1, 2, 3, 1, 2, 3, 1, 2, 3, 3, 1, 2, 3, 1, 2, 3, 2, 1, 2, 2, 3, 1, 2, 3, 3, 2, 2, 1, 2, 1, 2, 3, 2, 1, 2, 3, 1, 2, 3, 1, 2, 1, 2, 3, 1, 1, 2, 3, 1, 2, 3, 1, 1, 2, 3, 1, 2, 3, 1, 1, 2, 1, 2, 3, 2, 2, 1, 2, 3, 1, 2, 3, 1, 2, 3, 1, 2, 3, 2, 3, 3, 1, 2, 3, 2, 1, 2, 1, 2, 3, 3, 1, 2, 3, 1, 3, 2, 3, 1, 2, 3, 2, 1, 2, 3, 1, 1, 2, 1, 2, 3, 2, 1, 3, 3, 1, 2, 3, 2, 2, 2, 1, 1, 3, 3, 3, 1, 1, 2, 3, 3, 1, 3, 3, 3, 3, 2, 1, 1, 1, 2, 3, 3, 3, 1, 2, 1, 2, 1, 2, 1, 2, 3, 1, 2, 3, 2, 1, 2, 3, 3, 1, 2, 3, 2, 3, 1, 2, 1, 1, 2, 1, 2, 3, 1, 2, 3], \"Freq\": [0.9561483594909359, 0.4995738948088214, 0.8415408832973014, 0.07650371666339104, 0.07650371666339104, 0.3130384822054435, 0.7043365849622478, 0.6474528082335936, 0.295162309635903, 0.05236750654830537, 0.7290943765964012, 0.16825254844532334, 0.11216836563021557, 0.9680999792274116, 0.4779762272647998, 0.4779762272647998, 0.1740372865699389, 0.8121740039930481, 0.05801242885664629, 0.49324080679342264, 0.49324080679342264, 0.03523148619953019, 0.21108886015597503, 0.633266580467925, 0.8240696343053521, 0.1648139268610704, 0.5781776038581197, 0.19272586795270658, 0.19272586795270658, 0.9918754599970188, 0.4995849249574511, 0.4995797570944674, 0.8631006443370152, 0.9680926656800258, 0.9043616802662587, 0.10048463114069542, 0.3029725544529589, 0.6384064540258777, 0.06492269023991976, 0.9561281694115417, 0.4628426136796643, 0.1799943497643139, 0.33427522099086865, 0.4995732516281696, 0.9561678182108493, 0.25698628290207104, 0.6424657072551776, 0.09636985608827664, 0.9444402622880393, 0.9918753395547628, 0.8579447084475018, 0.9561638279806945, 0.504021070592923, 0.45820097326629367, 0.045820097326629367, 0.7290644957946097, 0.16824565287567916, 0.11216376858378611, 0.7233723161283457, 0.1972833589440943, 0.07672130625603667, 0.9232813216315066, 0.761752470220956, 0.1573838711172322, 0.26230645186205365, 0.5508435489103127, 0.1382705339807212, 0.4148116019421636, 0.4148116019421636, 0.4995668556189722, 0.07600208990083192, 0.6080167192066553, 0.30400835960332767, 0.9960958049318367, 0.9919920402860822, 0.28717403052542523, 0.5743480610508505, 0.9681087154536251, 0.9680756137091007, 0.2794067851417465, 0.6985169628543662, 0.9680971259191342, 0.9029919144331849, 0.06946091649486039, 0.9648673592352304, 0.9680966027752875, 0.8631014161311514, 0.7617702747926476, 0.47749588777132407, 0.47749588777132407, 0.59062915047034, 0.3164084734662536, 0.10546949115541787, 0.9444360563243106, 0.14141600181477518, 0.8484960108886511, 0.4995617295512645, 0.18617997871354047, 0.37235995742708095, 0.4654499467838512, 0.9680876340030905, 0.7617535731983744, 0.8647011293875391, 0.10808764117344238, 0.8630886702242686, 0.7636541366103712, 0.15273082732207424, 0.08485045962337458, 0.847692091091595, 0.6196055247494481, 0.30980276237472404, 0.08851507496420688, 0.8631072318688073, 0.4995622841123314, 0.9918910794853025, 0.4775189032120561, 0.4775189032120561, 0.9561610845516281, 0.6443808153952267, 0.24783877515201028, 0.09913551006080411, 0.7571924655919235, 0.14422713630322354, 0.10817035222741764, 0.6424705330661914, 0.14277122957026475, 0.21415684435539714, 0.499567116319827, 0.6540150133830965, 0.3117978552175228, 0.03802412868506375, 0.5240916509524846, 0.17469721698416152, 0.2620458254762423, 0.8630980523940074, 0.37427533007086783, 0.6237922167847797, 0.6660488430021698, 0.2220162810007233, 0.49631445264876256, 0.24815722632438128, 0.24815722632438128, 0.4995707758030827, 0.9680878026792947, 0.8631027854597092, 0.9178060634411536, 0.0655575759600824, 0.5635951465692092, 0.2515218009482421, 0.18631244514684603, 0.8630996013090128, 0.526115434164315, 0.3757967386887965, 0.10021246365034574, 0.30107036514057206, 0.6332859404680999, 0.06229042037391146, 0.8571673764960588, 0.1512648311463633, 0.2571130053195232, 0.642782513298808, 0.1285565026597616, 0.8881232926394077, 0.6709762865089457, 0.17892700973571884, 0.13419525730178913, 0.7233375067486356, 0.18753194619409072, 0.10716111211090898, 0.9918726448074284, 0.7383033903438498, 0.1230505650573083, 0.1230505650573083, 0.4563215125189915, 0.4563215125189915, 0.05704018906487394, 0.9920155959105729, 0.7797470309661724, 0.20793254159097932, 0.540175899328344, 0.180058633109448, 0.30009772184908, 0.9680970959734938, 0.9637652918476892, 0.5066168278136406, 0.45032606916768053, 0.056290758645960066, 0.7837166765770341, 0.1119595252252906, 0.1119595252252906, 0.4748723813944014, 0.3127208365280204, 0.22006281089008844, 0.3359924107340004, 0.6047863393212006, 0.06719848214680008, 0.666036531201723, 0.222012177067241, 0.9232933167555684, 0.5010433193115105, 0.36012488575514817, 0.14091843355636233, 0.7730816336704954, 0.41405713468311106, 0.5796799885563555, 0.18119250390580816, 0.7247700156232326, 0.49960808105528587, 0.49957903413589155, 0.7926560551541733, 0.10711568312894233, 0.10711568312894233, 0.9562019733495911, 0.499562232475692, 0.6036103225373907, 0.4024068816915938, 0.5461202551884281, 0.40959019139132113, 0.04551002126570235, 0.9681025989852531, 0.4842807150790724, 0.28249708379612554, 0.20178363128294682, 0.9561726708101667, 0.9561423751593414, 0.8631032794298459, 0.43540375355476457, 0.29026916903650973, 0.21770187677738229, 0.9681123944312501, 0.4608839698912989, 0.4608839698912989, 0.4995706598149452, 0.32440353774440245, 0.32440353774440245, 0.34348609878819086, 0.7731004566301547, 0.8631000392910863, 0.8631060311662606, 0.8476946394485346, 0.9194393728512771, 0.49956820255714474, 0.4996018637087489, 0.49956475679488677, 0.8476945869831357, 0.5897361887147203, 0.2268216110441232, 0.18145728883529857, 0.761748829247588, 0.9918854922314639, 0.4995920554879762, 0.49957103309978695, 0.49956248432257655, 0.4995963070278814, 0.9680949152451508, 0.9561509373547389, 0.9918668144904701, 0.693801078756782, 0.1927225218768839, 0.11563351312613034, 0.49960187550442603, 0.49957386962887984, 0.851217525595593, 0.17024350511911862, 0.36457273520319433, 0.583316376325111, 0.38661616414239114, 0.5412626297993476, 0.5471900051857819, 0.39795636740784135, 0.04974454592598017, 0.6373373254814884, 0.20559268563918978, 0.14391487994743285, 0.9989858935239168, 0.5073728395599552, 0.3624091711142537, 0.1449636684457015, 0.49956938253028177, 0.6421623643533352, 0.10702706072555587, 0.2675676518138897, 0.8630888041588424, 0.7617945254633413, 0.4427979820773211, 0.6199171749082495, 0.8881486014705523, 0.8339546944900346, 0.11913638492714779, 0.6424523238190939, 0.2409196214321602, 0.1204598107160801, 0.6505378037165048, 0.2439516763936893, 0.10164653183070388], \"Term\": [\"accounts\", \"admirably\", \"afraid\", \"afraid\", \"afraid\", \"age\", \"age\", \"algernon\", \"algernon\", \"algernon\", \"algy\", \"algy\", \"algy\", \"approaches\", \"ask\", \"ask\", \"augusta\", \"augusta\", \"augusta\", \"aunt\", \"aunt\", \"aunt\", \"aware\", \"aware\", \"baby\", \"baby\", \"bag\", \"bag\", \"bag\", \"begins\", \"behaved\", \"blow\", \"bore\", \"bows\", \"boy\", \"boy\", \"bracknell\", \"bracknell\", \"bracknell\", \"bread\", \"brother\", \"brother\", \"brother\", \"brothers\", \"brought\", \"bunbury\", \"bunbury\", \"bunbury\", \"business\", \"butter\", \"cake\", \"card\", \"cardew\", \"cardew\", \"cardew\", \"case\", \"case\", \"case\", \"cecily\", \"cecily\", \"cecily\", \"change\", \"charity\", \"chasuble\", \"chasuble\", \"chasuble\", \"child\", \"child\", \"child\", \"childish\", \"christened\", \"christened\", \"christened\", \"cigarette\", \"clever\", \"clothes\", \"clothes\", \"completely\", \"connected\", \"consent\", \"consent\", \"contained\", \"country\", \"country\", \"cousin\", \"cucumbers\", \"cynical\", \"days\", \"dead\", \"dead\", \"dear\", \"dear\", \"dear\", \"diary\", \"dine\", \"dine\", \"distressing\", \"dr\", \"dr\", \"dr\", \"dreadful\", \"dressed\", \"engagement\", \"engagement\", \"english\", \"ernest\", \"ernest\", \"ernest\", \"exactly\", \"fact\", \"fact\", \"fact\", \"farquhar\", \"faults\", \"flowers\", \"forgive\", \"forgive\", \"friends\", \"goes\", \"goes\", \"goes\", \"good\", \"good\", \"good\", \"got\", \"got\", \"got\", \"guest\", \"gwendolen\", \"gwendolen\", \"gwendolen\", \"hand\", \"hand\", \"hand\", \"harbury\", \"hear\", \"hear\", \"high\", \"high\", \"house\", \"house\", \"house\", \"immersion\", \"invaluable\", \"invitations\", \"isn\", \"isn\", \"jack\", \"jack\", \"jack\", \"kill\", \"know\", \"know\", \"know\", \"lady\", \"lady\", \"lady\", \"lane\", \"lane\", \"left\", \"left\", \"left\", \"letters\", \"life\", \"life\", \"life\", \"like\", \"like\", \"like\", \"liked\", \"little\", \"little\", \"little\", \"looks\", \"looks\", \"looks\", \"lost\", \"love\", \"love\", \"man\", \"man\", \"man\", \"manuscript\", \"markby\", \"mean\", \"mean\", \"mean\", \"merriman\", \"merriman\", \"merriman\", \"miss\", \"miss\", \"miss\", \"moment\", \"moment\", \"moment\", \"moncrieff\", \"moncrieff\", \"mourning\", \"mr\", \"mr\", \"mr\", \"muffin\", \"muffins\", \"muffins\", \"nephew\", \"nephew\", \"noise\", \"occurred\", \"oh\", \"oh\", \"oh\", \"ordinary\", \"past\", \"peculiarly\", \"peculiarly\", \"people\", \"people\", \"people\", \"perambulator\", \"perfectly\", \"perfectly\", \"perfectly\", \"picks\", \"play\", \"plays\", \"poor\", \"poor\", \"poor\", \"possibilities\", \"practice\", \"practice\", \"primitive\", \"prism\", \"prism\", \"prism\", \"profile\", \"programme\", \"pure\", \"puts\", \"read\", \"reconciliation\", \"restored\", \"ridiculous\", \"romantic\", \"room\", \"room\", \"room\", \"sad\", \"salver\", \"scoundrel\", \"sermon\", \"shake\", \"shakes\", \"shame\", \"short\", \"shropshire\", \"sir\", \"sir\", \"sir\", \"son\", \"stay\", \"sure\", \"sure\", \"tea\", \"tea\", \"thank\", \"thank\", \"thing\", \"thing\", \"thing\", \"think\", \"think\", \"think\", \"thirty\", \"time\", \"time\", \"time\", \"trust\", \"uncle\", \"uncle\", \"uncle\", \"unhappy\", \"unmarried\", \"want\", \"want\", \"wicked\", \"world\", \"world\", \"worthing\", \"worthing\", \"worthing\", \"yes\", \"yes\", \"yes\"]}, \"R\": 30, \"lambda.step\": 0.01, \"plot.opts\": {\"xlab\": \"PC1\", \"ylab\": \"PC2\"}, \"topic.order\": [2, 3, 1]};\n",
       "\n",
       "function LDAvis_load_lib(url, callback){\n",
       "  var s = document.createElement('script');\n",
       "  s.src = url;\n",
       "  s.async = true;\n",
       "  s.onreadystatechange = s.onload = callback;\n",
       "  s.onerror = function(){console.warn(\"failed to load library \" + url);};\n",
       "  document.getElementsByTagName(\"head\")[0].appendChild(s);\n",
       "}\n",
       "\n",
       "if(typeof(LDAvis) !== \"undefined\"){\n",
       "   // already loaded: just create the visualization\n",
       "   !function(LDAvis){\n",
       "       new LDAvis(\"#\" + \"ldavis_el69102114576905607961645602\", ldavis_el69102114576905607961645602_data);\n",
       "   }(LDAvis);\n",
       "}else if(typeof define === \"function\" && define.amd){\n",
       "   // require.js is available: use it to load d3/LDAvis\n",
       "   require.config({paths: {d3: \"https://d3js.org/d3.v5\"}});\n",
       "   require([\"d3\"], function(d3){\n",
       "      window.d3 = d3;\n",
       "      LDAvis_load_lib(\"https://cdn.jsdelivr.net/gh/bmabey/pyLDAvis@3.4.0/pyLDAvis/js/ldavis.v3.0.0.js\", function(){\n",
       "        new LDAvis(\"#\" + \"ldavis_el69102114576905607961645602\", ldavis_el69102114576905607961645602_data);\n",
       "      });\n",
       "    });\n",
       "}else{\n",
       "    // require.js not available: dynamically load d3 & LDAvis\n",
       "    LDAvis_load_lib(\"https://d3js.org/d3.v5.js\", function(){\n",
       "         LDAvis_load_lib(\"https://cdn.jsdelivr.net/gh/bmabey/pyLDAvis@3.4.0/pyLDAvis/js/ldavis.v3.0.0.js\", function(){\n",
       "                 new LDAvis(\"#\" + \"ldavis_el69102114576905607961645602\", ldavis_el69102114576905607961645602_data);\n",
       "            })\n",
       "         });\n",
       "}\n",
       "</script>"
      ],
      "text/plain": [
       "PreparedData(topic_coordinates=              x         y  topics  cluster      Freq\n",
       "topic                                               \n",
       "1     -0.049760  0.055514       1        1  52.90923\n",
       "2     -0.028568 -0.066519       2        1  32.34269\n",
       "0      0.078328  0.011005       3        1  14.74808, topic_info=           Term        Freq       Total Category  logprob  loglift\n",
       "194        jack  214.000000  214.000000  Default  30.0000  30.0000\n",
       "993    chasuble   38.000000   38.000000  Default  29.0000  29.0000\n",
       "275       prism   52.000000   52.000000  Default  28.0000  28.0000\n",
       "47    bracknell   92.000000   92.000000  Default  27.0000  27.0000\n",
       "198        lady   96.000000   96.000000  Default  26.0000  26.0000\n",
       "...         ...         ...         ...      ...      ...      ...\n",
       "715         bag    3.327113   15.566151   Topic3  -5.8924   0.3711\n",
       "207        like    3.949461   37.326974   Topic3  -5.7210  -0.3321\n",
       "197        know    3.951636   39.915195   Topic3  -5.7204  -0.3986\n",
       "161   gwendolen    4.570743  131.495452   Topic3  -5.5749  -1.4452\n",
       "1091   merriman    3.326453   26.795398   Topic3  -5.8926  -0.1723\n",
       "\n",
       "[233 rows x 6 columns], token_table=      Topic      Freq       Term\n",
       "term                            \n",
       "5         1  0.956148   accounts\n",
       "1209      3  0.499574  admirably\n",
       "14        1  0.841541     afraid\n",
       "14        2  0.076504     afraid\n",
       "14        3  0.076504     afraid\n",
       "...     ...       ...        ...\n",
       "394       2  0.240920   worthing\n",
       "394       3  0.120460   worthing\n",
       "398       1  0.650538        yes\n",
       "398       2  0.243952        yes\n",
       "398       3  0.101647        yes\n",
       "\n",
       "[295 rows x 3 columns], R=30, lambda_step=0.01, plot_opts={'xlab': 'PC1', 'ylab': 'PC2'}, topic_order=[2, 3, 1])"
      ]
     },
     "execution_count": 40,
     "metadata": {},
     "output_type": "execute_result"
    }
   ],
   "source": [
    "import pyLDAvis.gensim_models as gensimvis\n",
    "import pyLDAvis\n",
    "\n",
    "# Prepare visualization\n",
    "pyLDAvis.enable_notebook()\n",
    "vis = gensimvis.prepare(lda_model, bow_corpus, dictionary)\n",
    "\n",
    "# Display the visualization\n",
    "vis"
   ]
  }
 ],
 "metadata": {
  "kernelspec": {
   "display_name": "dlab",
   "language": "python",
   "name": "dlab"
  },
  "language_info": {
   "codemirror_mode": {
    "name": "ipython",
    "version": 3
   },
   "file_extension": ".py",
   "mimetype": "text/x-python",
   "name": "python",
   "nbconvert_exporter": "python",
   "pygments_lexer": "ipython3",
   "version": "3.10.12"
  }
 },
 "nbformat": 4,
 "nbformat_minor": 5
}

{
 "cells": [
  {
   "cell_type": "markdown",
   "id": "8b367c9e-244d-4112-9c5f-61eab7bc882c",
   "metadata": {},
   "source": [
    "Q: I would love a refresh in file paths. It was a bit confusing to me. "
   ]
  },
  {
   "cell_type": "code",
   "execution_count": 1,
   "id": "036ed1f2-044b-4298-b5c5-71f6457386e5",
   "metadata": {},
   "outputs": [
    {
     "name": "stdout",
     "output_type": "stream",
     "text": [
      "DH-text-analysis.ipynb  count_characters.ipynb\n",
      "Untitled.ipynb          \u001b[1m\u001b[36mdata\u001b[m\u001b[m/\n"
     ]
    }
   ],
   "source": [
    "# where are we currently?\n",
    "%ls"
   ]
  },
  {
   "cell_type": "markdown",
   "id": "e0cc1f30-e732-43ea-b7ec-5fc152519226",
   "metadata": {},
   "source": [
    "How to open a file depends on the kind of file!"
   ]
  },
  {
   "cell_type": "code",
   "execution_count": 5,
   "id": "8267bf52-6b6a-4d84-8dd3-7e90df00f952",
   "metadata": {},
   "outputs": [],
   "source": [
    "# a CSV file\n",
    "import pandas as pd\n",
    "\n",
    "df = pd.read_csv('data/gapminder-FiveYearData.csv')"
   ]
  },
  {
   "cell_type": "code",
   "execution_count": 7,
   "id": "6f31b0cc-b333-45a2-8e3b-54ee76d19046",
   "metadata": {},
   "outputs": [
    {
     "name": "stdout",
     "output_type": "stream",
     "text": [
      "FIRST ACT\n",
      "\n",
      "SCENE\n",
      "\n",
      "Morning-room in Algernon's flat in Half-Moon Street. The room is luxuriously and artistically furnished. The sound of a piano is heard in the adjoining room.\n",
      "\n",
      "[Lane is arranging afternoon tea on the table, and after the music has ceased, Algernon enters.]\n",
      "\n",
      "Algernon: Did you hear what I was playing, Lane?\n",
      "\n",
      "Lane: I didn't think it polite to listen, sir.\n",
      "\n",
      "Algernon: I'm sorry for that, for your sake. I don't play accurately--any one can play accurately--but I play with wonderful expression. As far as the piano is concerned, sentiment is my forte. I keep science for Life.\n",
      "\n",
      "Lane: Yes, sir.\n",
      "\n",
      "Algernon: And, speaking of the science of Life, have you got the cucumber sandwiches cut for Lady Bracknell?\n",
      "\n",
      "Lane: Yes, sir. [Hands them on a salver.]\n",
      "\n",
      "Algernon: [Inspects them, takes two, and sits down on the sofa.] Oh! ... by the way, Lane, I see from your book that on Thursday night, when Lord Shoreman and Mr. Worthing were dining with me, eight bottles of champagne are entered as ha\n"
     ]
    }
   ],
   "source": [
    "# a text file\n",
    "with open('data/1895_wilde-oscar_the-importance-of-being-earnest.txt', 'r') as file:\n",
    "    content = file.read()\n",
    "\n",
    "print(content[:1000])"
   ]
  },
  {
   "cell_type": "code",
   "execution_count": null,
   "id": "0f29fd6a-2893-4f4d-80da-7c579f916e55",
   "metadata": {},
   "outputs": [],
   "source": []
  }
 ],
 "metadata": {
  "kernelspec": {
   "display_name": "dlab",
   "language": "python",
   "name": "dlab"
  },
  "language_info": {
   "codemirror_mode": {
    "name": "ipython",
    "version": 3
   },
   "file_extension": ".py",
   "mimetype": "text/x-python",
   "name": "python",
   "nbconvert_exporter": "python",
   "pygments_lexer": "ipython3",
   "version": "3.10.10"
  }
 },
 "nbformat": 4,
 "nbformat_minor": 5
}

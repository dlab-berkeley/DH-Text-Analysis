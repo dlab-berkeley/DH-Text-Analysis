{
 "cells": [
  {
   "cell_type": "markdown",
   "id": "8b367c9e-244d-4112-9c5f-61eab7bc882c",
   "metadata": {},
   "source": [
    "Q: I would love a refresh in file paths. It was a bit confusing to me. "
   ]
  },
  {
   "cell_type": "markdown",
   "id": "00885aa2-ec34-4309-bfe6-e118571f2ed9",
   "metadata": {},
   "source": [
    "A: First, let's use a **magic command** to figure out where the current working directory is."
   ]
  },
  {
   "cell_type": "code",
   "execution_count": 11,
   "id": "f33781a0-c0da-447c-95d7-19c664e6f6bb",
   "metadata": {},
   "outputs": [
    {
     "data": {
      "text/plain": [
       "'/Users/tomvannuenen/Library/CloudStorage/Dropbox/GitHub/DEV/DH-Text-Analysis/Q&A'"
      ]
     },
     "execution_count": 11,
     "metadata": {},
     "output_type": "execute_result"
    }
   ],
   "source": [
    "# where are we currently?\n",
    "%pwd"
   ]
  },
  {
   "cell_type": "code",
   "execution_count": 1,
   "id": "036ed1f2-044b-4298-b5c5-71f6457386e5",
   "metadata": {},
   "outputs": [
    {
     "name": "stdout",
     "output_type": "stream",
     "text": [
      "DH-text-analysis.ipynb  count_characters.ipynb\n",
      "Untitled.ipynb          \u001b[1m\u001b[36mdata\u001b[m\u001b[m/\n"
     ]
    }
   ],
   "source": [
    "# which files are in this directory?\n",
    "%ls"
   ]
  },
  {
   "cell_type": "markdown",
   "id": "e0cc1f30-e732-43ea-b7ec-5fc152519226",
   "metadata": {},
   "source": [
    "How to open a file depends on the kind of file!"
   ]
  },
  {
   "cell_type": "code",
   "execution_count": 1,
   "id": "8267bf52-6b6a-4d84-8dd3-7e90df00f952",
   "metadata": {},
   "outputs": [],
   "source": [
    "# a CSV file\n",
    "import pandas as pd\n",
    "\n",
    "df = pd.read_csv('../data/gapminder-FiveYearData.csv')"
   ]
  },
  {
   "cell_type": "markdown",
   "id": "3c0d34b1-499a-4ee1-9a9a-df4139aa7a40",
   "metadata": {},
   "source": [
    "In the above line, we move up one folder (`../`), then go into the data folder (`/data`), then open `gapminder-FiveYearData.csv`"
   ]
  },
  {
   "cell_type": "markdown",
   "id": "de53bb22-085a-4e38-9494-49ae2de5652e",
   "metadata": {},
   "source": [
    "Opening a text file works a bit differently. We don't need Pandas but can use Python's own \n",
    "`open()` and `read()` functions. We `open()` a file, then `read()` the contents of that opened file. Finally, we assign that read file to a new variable, called `content`."
   ]
  },
  {
   "cell_type": "code",
   "execution_count": 5,
   "id": "6f31b0cc-b333-45a2-8e3b-54ee76d19046",
   "metadata": {},
   "outputs": [
    {
     "name": "stdout",
     "output_type": "stream",
     "text": [
      "FIRST ACT\n",
      "\n",
      "SCENE\n",
      "\n",
      "Morning-room in Algernon's flat in Half-Moon Street. The room is luxuriously and artistically furnished. The sound of a piano is heard in the adjoining room.\n",
      "\n",
      "[Lane is arranging afternoon tea on the table, and after the music has ceased, Algernon enters.]\n",
      "\n",
      "Algernon: Did you hear what I was playing, Lane?\n",
      "\n",
      "Lane: I didn't think it polite to listen, sir.\n",
      "\n",
      "Algernon: I'm sorry for that, for your sake. I don't play accurately--any one can play accurately--but I play with wonderful expression. As far as the piano is concerned, sentiment is my forte. I keep science for Life.\n",
      "\n",
      "Lane: Yes, sir.\n",
      "\n",
      "Algernon: And, speaking of the science of Life, have you got the cucumber sandwiches cut for Lady Bracknell?\n",
      "\n",
      "Lane: Yes, sir. [Hands them on a salver.]\n",
      "\n",
      "Algernon: [Inspects them, takes two, and sits down on the sofa.] Oh! ... by the way, Lane, I see from your book that on Thursday night, when Lord Shoreman and Mr. Worthing were dining with me, eight bottles of champagne are entered as ha\n"
     ]
    }
   ],
   "source": [
    "# a text file\n",
    "with open('../data/1895_wilde-oscar_the-importance-of-being-earnest.txt', 'r') as file:\n",
    "    content = file.read()\n",
    "\n",
    "# print the first 1000 characters\n",
    "print(content[:1000])"
   ]
  },
  {
   "cell_type": "markdown",
   "id": "000fd8d2-1135-45e9-991c-2f22cff8e756",
   "metadata": {},
   "source": [
    "Let's say we want to turn our whole text into lowercase. Pretty easy:"
   ]
  },
  {
   "cell_type": "code",
   "execution_count": 7,
   "id": "8926dcb8-acb5-410f-9b3f-3ab53e1f8a4b",
   "metadata": {},
   "outputs": [],
   "source": [
    "content = content.lower()"
   ]
  },
  {
   "cell_type": "markdown",
   "id": "52812c3a-4e21-4242-aa14-9824ac716cc6",
   "metadata": {},
   "source": [
    "Saving our lowercased text to disk works like so:"
   ]
  },
  {
   "cell_type": "code",
   "execution_count": 8,
   "id": "9e64ddcd-689f-41fe-9f75-be914d27839a",
   "metadata": {},
   "outputs": [],
   "source": [
    "with open(\"demofile.txt\", \"w\") as f:    # note the `w` as we want to write, not read, to this new file\n",
    "    f.write(content)"
   ]
  },
  {
   "cell_type": "markdown",
   "id": "1e4b0876-45d4-4d0a-a30d-80ae260d1a57",
   "metadata": {},
   "source": [
    "Open `demofile.txt` to see the text file we just saved to disk--a lowercased version of the play by Wilde."
   ]
  }
 ],
 "metadata": {
  "kernelspec": {
   "display_name": "dlab",
   "language": "python",
   "name": "dlab"
  },
  "language_info": {
   "codemirror_mode": {
    "name": "ipython",
    "version": 3
   },
   "file_extension": ".py",
   "mimetype": "text/x-python",
   "name": "python",
   "nbconvert_exporter": "python",
   "pygments_lexer": "ipython3",
   "version": "3.10.12"
  }
 },
 "nbformat": 4,
 "nbformat_minor": 5
}

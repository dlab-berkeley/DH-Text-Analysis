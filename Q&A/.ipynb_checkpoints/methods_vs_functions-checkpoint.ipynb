{
 "cells": [
  {
   "cell_type": "markdown",
   "id": "004b82d9-6ac2-4d40-96fa-4a9a94a539df",
   "metadata": {},
   "source": [
    "Q: What is the difference between functions vs methods vs attributes?"
   ]
  },
  {
   "cell_type": "markdown",
   "id": "e194a48d-98c4-4256-b258-32d5f0aea1d7",
   "metadata": {},
   "source": [
    "A: a function or method **does** something with the object you run it on."
   ]
  },
  {
   "cell_type": "code",
   "execution_count": 1,
   "id": "a5fd1de0-325d-40d8-828a-f893488110de",
   "metadata": {},
   "outputs": [
    {
     "data": {
      "text/plain": [
       "str"
      ]
     },
     "execution_count": 1,
     "metadata": {},
     "output_type": "execute_result"
    }
   ],
   "source": [
    "text = \"hello, this is some text\"\n",
    "\n",
    "# functions can be recognized by their trailing parentheses\n",
    "type(text)"
   ]
  },
  {
   "cell_type": "code",
   "execution_count": 2,
   "id": "bc6ff206-682f-4b67-abf0-629ef147f8c0",
   "metadata": {},
   "outputs": [
    {
     "data": {
      "text/plain": [
       "'HELLO, THIS IS SOME TEXT'"
      ]
     },
     "execution_count": 2,
     "metadata": {},
     "output_type": "execute_result"
    }
   ],
   "source": [
    "# methods are accessed through dot notation\n",
    "text.upper()"
   ]
  },
  {
   "cell_type": "markdown",
   "id": "2e24b85e-45f0-4704-8873-233343e39eb4",
   "metadata": {},
   "source": [
    "Pandas has a lot of methods, such as `head()`"
   ]
  },
  {
   "cell_type": "code",
   "execution_count": 2,
   "id": "cb14ae03-8597-41cf-ac31-91ef94fdad02",
   "metadata": {},
   "outputs": [],
   "source": [
    "# a CSV file\n",
    "import pandas as pd\n",
    "\n",
    "df = pd.read_csv('data/gapminder-FiveYearData.csv')"
   ]
  },
  {
   "cell_type": "code",
   "execution_count": 12,
   "id": "09f233b5-4efa-448b-93b1-7813fe9f8069",
   "metadata": {},
   "outputs": [
    {
     "data": {
      "text/html": [
       "<div>\n",
       "<style scoped>\n",
       "    .dataframe tbody tr th:only-of-type {\n",
       "        vertical-align: middle;\n",
       "    }\n",
       "\n",
       "    .dataframe tbody tr th {\n",
       "        vertical-align: top;\n",
       "    }\n",
       "\n",
       "    .dataframe thead th {\n",
       "        text-align: right;\n",
       "    }\n",
       "</style>\n",
       "<table border=\"1\" class=\"dataframe\">\n",
       "  <thead>\n",
       "    <tr style=\"text-align: right;\">\n",
       "      <th></th>\n",
       "      <th>country</th>\n",
       "      <th>year</th>\n",
       "      <th>pop</th>\n",
       "      <th>continent</th>\n",
       "      <th>lifeExp</th>\n",
       "      <th>gdpPercap</th>\n",
       "    </tr>\n",
       "  </thead>\n",
       "  <tbody>\n",
       "    <tr>\n",
       "      <th>0</th>\n",
       "      <td>Afghanistan</td>\n",
       "      <td>1952</td>\n",
       "      <td>8425333.0</td>\n",
       "      <td>Asia</td>\n",
       "      <td>28.801</td>\n",
       "      <td>779.445314</td>\n",
       "    </tr>\n",
       "    <tr>\n",
       "      <th>1</th>\n",
       "      <td>Afghanistan</td>\n",
       "      <td>1957</td>\n",
       "      <td>9240934.0</td>\n",
       "      <td>Asia</td>\n",
       "      <td>30.332</td>\n",
       "      <td>820.853030</td>\n",
       "    </tr>\n",
       "    <tr>\n",
       "      <th>2</th>\n",
       "      <td>Afghanistan</td>\n",
       "      <td>1962</td>\n",
       "      <td>10267083.0</td>\n",
       "      <td>Asia</td>\n",
       "      <td>31.997</td>\n",
       "      <td>853.100710</td>\n",
       "    </tr>\n",
       "    <tr>\n",
       "      <th>3</th>\n",
       "      <td>Afghanistan</td>\n",
       "      <td>1967</td>\n",
       "      <td>11537966.0</td>\n",
       "      <td>Asia</td>\n",
       "      <td>34.020</td>\n",
       "      <td>836.197138</td>\n",
       "    </tr>\n",
       "    <tr>\n",
       "      <th>4</th>\n",
       "      <td>Afghanistan</td>\n",
       "      <td>1972</td>\n",
       "      <td>13079460.0</td>\n",
       "      <td>Asia</td>\n",
       "      <td>36.088</td>\n",
       "      <td>739.981106</td>\n",
       "    </tr>\n",
       "    <tr>\n",
       "      <th>...</th>\n",
       "      <td>...</td>\n",
       "      <td>...</td>\n",
       "      <td>...</td>\n",
       "      <td>...</td>\n",
       "      <td>...</td>\n",
       "      <td>...</td>\n",
       "    </tr>\n",
       "    <tr>\n",
       "      <th>95</th>\n",
       "      <td>Bahrain</td>\n",
       "      <td>2007</td>\n",
       "      <td>708573.0</td>\n",
       "      <td>Asia</td>\n",
       "      <td>75.635</td>\n",
       "      <td>29796.048340</td>\n",
       "    </tr>\n",
       "    <tr>\n",
       "      <th>96</th>\n",
       "      <td>Bangladesh</td>\n",
       "      <td>1952</td>\n",
       "      <td>46886859.0</td>\n",
       "      <td>Asia</td>\n",
       "      <td>37.484</td>\n",
       "      <td>684.244172</td>\n",
       "    </tr>\n",
       "    <tr>\n",
       "      <th>97</th>\n",
       "      <td>Bangladesh</td>\n",
       "      <td>1957</td>\n",
       "      <td>51365468.0</td>\n",
       "      <td>Asia</td>\n",
       "      <td>39.348</td>\n",
       "      <td>661.637458</td>\n",
       "    </tr>\n",
       "    <tr>\n",
       "      <th>98</th>\n",
       "      <td>Bangladesh</td>\n",
       "      <td>1962</td>\n",
       "      <td>56839289.0</td>\n",
       "      <td>Asia</td>\n",
       "      <td>41.216</td>\n",
       "      <td>686.341554</td>\n",
       "    </tr>\n",
       "    <tr>\n",
       "      <th>99</th>\n",
       "      <td>Bangladesh</td>\n",
       "      <td>1967</td>\n",
       "      <td>62821884.0</td>\n",
       "      <td>Asia</td>\n",
       "      <td>43.453</td>\n",
       "      <td>721.186086</td>\n",
       "    </tr>\n",
       "  </tbody>\n",
       "</table>\n",
       "<p>100 rows × 6 columns</p>\n",
       "</div>"
      ],
      "text/plain": [
       "        country  year         pop continent  lifeExp     gdpPercap\n",
       "0   Afghanistan  1952   8425333.0      Asia   28.801    779.445314\n",
       "1   Afghanistan  1957   9240934.0      Asia   30.332    820.853030\n",
       "2   Afghanistan  1962  10267083.0      Asia   31.997    853.100710\n",
       "3   Afghanistan  1967  11537966.0      Asia   34.020    836.197138\n",
       "4   Afghanistan  1972  13079460.0      Asia   36.088    739.981106\n",
       "..          ...   ...         ...       ...      ...           ...\n",
       "95      Bahrain  2007    708573.0      Asia   75.635  29796.048340\n",
       "96   Bangladesh  1952  46886859.0      Asia   37.484    684.244172\n",
       "97   Bangladesh  1957  51365468.0      Asia   39.348    661.637458\n",
       "98   Bangladesh  1962  56839289.0      Asia   41.216    686.341554\n",
       "99   Bangladesh  1967  62821884.0      Asia   43.453    721.186086\n",
       "\n",
       "[100 rows x 6 columns]"
      ]
     },
     "execution_count": 12,
     "metadata": {},
     "output_type": "execute_result"
    }
   ],
   "source": [
    "# methods are accessed through dot notation\n",
    "df.head(100)"
   ]
  },
  {
   "cell_type": "markdown",
   "id": "75f8571d-6c48-4c18-a723-8ab226c5d7f2",
   "metadata": {},
   "source": [
    "`sort_values()` is also a method."
   ]
  },
  {
   "cell_type": "code",
   "execution_count": 9,
   "id": "a4482d20-b391-4a08-b83e-79e606ee38bb",
   "metadata": {},
   "outputs": [
    {
     "data": {
      "text/html": [
       "<div>\n",
       "<style scoped>\n",
       "    .dataframe tbody tr th:only-of-type {\n",
       "        vertical-align: middle;\n",
       "    }\n",
       "\n",
       "    .dataframe tbody tr th {\n",
       "        vertical-align: top;\n",
       "    }\n",
       "\n",
       "    .dataframe thead th {\n",
       "        text-align: right;\n",
       "    }\n",
       "</style>\n",
       "<table border=\"1\" class=\"dataframe\">\n",
       "  <thead>\n",
       "    <tr style=\"text-align: right;\">\n",
       "      <th></th>\n",
       "      <th>country</th>\n",
       "      <th>year</th>\n",
       "      <th>pop</th>\n",
       "      <th>continent</th>\n",
       "      <th>lifeExp</th>\n",
       "      <th>gdpPercap</th>\n",
       "    </tr>\n",
       "  </thead>\n",
       "  <tbody>\n",
       "    <tr>\n",
       "      <th>1292</th>\n",
       "      <td>Rwanda</td>\n",
       "      <td>1992</td>\n",
       "      <td>7290203.0</td>\n",
       "      <td>Africa</td>\n",
       "      <td>23.599</td>\n",
       "      <td>737.068595</td>\n",
       "    </tr>\n",
       "    <tr>\n",
       "      <th>0</th>\n",
       "      <td>Afghanistan</td>\n",
       "      <td>1952</td>\n",
       "      <td>8425333.0</td>\n",
       "      <td>Asia</td>\n",
       "      <td>28.801</td>\n",
       "      <td>779.445314</td>\n",
       "    </tr>\n",
       "    <tr>\n",
       "      <th>552</th>\n",
       "      <td>Gambia</td>\n",
       "      <td>1952</td>\n",
       "      <td>284320.0</td>\n",
       "      <td>Africa</td>\n",
       "      <td>30.000</td>\n",
       "      <td>485.230659</td>\n",
       "    </tr>\n",
       "    <tr>\n",
       "      <th>36</th>\n",
       "      <td>Angola</td>\n",
       "      <td>1952</td>\n",
       "      <td>4232095.0</td>\n",
       "      <td>Africa</td>\n",
       "      <td>30.015</td>\n",
       "      <td>3520.610273</td>\n",
       "    </tr>\n",
       "    <tr>\n",
       "      <th>1344</th>\n",
       "      <td>Sierra Leone</td>\n",
       "      <td>1952</td>\n",
       "      <td>2143249.0</td>\n",
       "      <td>Africa</td>\n",
       "      <td>30.331</td>\n",
       "      <td>879.787736</td>\n",
       "    </tr>\n",
       "    <tr>\n",
       "      <th>...</th>\n",
       "      <td>...</td>\n",
       "      <td>...</td>\n",
       "      <td>...</td>\n",
       "      <td>...</td>\n",
       "      <td>...</td>\n",
       "      <td>...</td>\n",
       "    </tr>\n",
       "    <tr>\n",
       "      <th>1487</th>\n",
       "      <td>Switzerland</td>\n",
       "      <td>2007</td>\n",
       "      <td>7554661.0</td>\n",
       "      <td>Europe</td>\n",
       "      <td>81.701</td>\n",
       "      <td>37506.419070</td>\n",
       "    </tr>\n",
       "    <tr>\n",
       "      <th>695</th>\n",
       "      <td>Iceland</td>\n",
       "      <td>2007</td>\n",
       "      <td>301931.0</td>\n",
       "      <td>Europe</td>\n",
       "      <td>81.757</td>\n",
       "      <td>36180.789190</td>\n",
       "    </tr>\n",
       "    <tr>\n",
       "      <th>802</th>\n",
       "      <td>Japan</td>\n",
       "      <td>2002</td>\n",
       "      <td>127065841.0</td>\n",
       "      <td>Asia</td>\n",
       "      <td>82.000</td>\n",
       "      <td>28604.591900</td>\n",
       "    </tr>\n",
       "    <tr>\n",
       "      <th>671</th>\n",
       "      <td>Hong Kong China</td>\n",
       "      <td>2007</td>\n",
       "      <td>6980412.0</td>\n",
       "      <td>Asia</td>\n",
       "      <td>82.208</td>\n",
       "      <td>39724.978670</td>\n",
       "    </tr>\n",
       "    <tr>\n",
       "      <th>803</th>\n",
       "      <td>Japan</td>\n",
       "      <td>2007</td>\n",
       "      <td>127467972.0</td>\n",
       "      <td>Asia</td>\n",
       "      <td>82.603</td>\n",
       "      <td>31656.068060</td>\n",
       "    </tr>\n",
       "  </tbody>\n",
       "</table>\n",
       "<p>1704 rows × 6 columns</p>\n",
       "</div>"
      ],
      "text/plain": [
       "              country  year          pop continent  lifeExp     gdpPercap\n",
       "1292           Rwanda  1992    7290203.0    Africa   23.599    737.068595\n",
       "0         Afghanistan  1952    8425333.0      Asia   28.801    779.445314\n",
       "552            Gambia  1952     284320.0    Africa   30.000    485.230659\n",
       "36             Angola  1952    4232095.0    Africa   30.015   3520.610273\n",
       "1344     Sierra Leone  1952    2143249.0    Africa   30.331    879.787736\n",
       "...               ...   ...          ...       ...      ...           ...\n",
       "1487      Switzerland  2007    7554661.0    Europe   81.701  37506.419070\n",
       "695           Iceland  2007     301931.0    Europe   81.757  36180.789190\n",
       "802             Japan  2002  127065841.0      Asia   82.000  28604.591900\n",
       "671   Hong Kong China  2007    6980412.0      Asia   82.208  39724.978670\n",
       "803             Japan  2007  127467972.0      Asia   82.603  31656.068060\n",
       "\n",
       "[1704 rows x 6 columns]"
      ]
     },
     "execution_count": 9,
     "metadata": {},
     "output_type": "execute_result"
    }
   ],
   "source": [
    "df.sort_values(by='lifeExp')"
   ]
  },
  {
   "cell_type": "markdown",
   "id": "d0306de9-0f57-44b1-81a2-27c0d47a4e44",
   "metadata": {},
   "source": [
    "An attribute does not **do** anything with an object. Instead, it gives you **information** about an object you run it on."
   ]
  },
  {
   "cell_type": "code",
   "execution_count": 4,
   "id": "3f9d2fa3-e570-4ca0-9f2f-5804a93a61c7",
   "metadata": {},
   "outputs": [
    {
     "data": {
      "text/plain": [
       "Index(['country', 'year', 'pop', 'continent', 'lifeExp', 'gdpPercap'], dtype='object')"
      ]
     },
     "execution_count": 4,
     "metadata": {},
     "output_type": "execute_result"
    }
   ],
   "source": [
    "# get the columns of a dataframe\n",
    "text.columns"
   ]
  },
  {
   "cell_type": "code",
   "execution_count": 5,
   "id": "a268c05f-ea81-437c-acaa-f2f81a34b753",
   "metadata": {},
   "outputs": [
    {
     "data": {
      "text/plain": [
       "(1704, 6)"
      ]
     },
     "execution_count": 5,
     "metadata": {},
     "output_type": "execute_result"
    }
   ],
   "source": [
    "# get the shape of a dataframe\n",
    "df.shape"
   ]
  }
 ],
 "metadata": {
  "kernelspec": {
   "display_name": "dlab",
   "language": "python",
   "name": "dlab"
  },
  "language_info": {
   "codemirror_mode": {
    "name": "ipython",
    "version": 3
   },
   "file_extension": ".py",
   "mimetype": "text/x-python",
   "name": "python",
   "nbconvert_exporter": "python",
   "pygments_lexer": "ipython3",
   "version": "3.10.12"
  }
 },
 "nbformat": 4,
 "nbformat_minor": 5
}

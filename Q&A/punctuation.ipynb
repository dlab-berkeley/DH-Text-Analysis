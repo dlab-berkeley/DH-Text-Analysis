{
 "cells": [
  {
   "cell_type": "code",
   "execution_count": 1,
   "id": "f89df496-ff44-4dcd-bbc3-d08dc3627fec",
   "metadata": {},
   "outputs": [
    {
     "name": "stdout",
     "output_type": "stream",
     "text": [
      "Punctuation usage by gender:\n",
      " - Male: {'.': 183, '?': 29}\n",
      " - Female: {'.': 266, '?': 32}\n"
     ]
    },
    {
     "name": "stderr",
     "output_type": "stream",
     "text": [
      "[nltk_data] Downloading package punkt to\n",
      "[nltk_data]     /Users/tomvannuenen/nltk_data...\n",
      "[nltk_data]   Package punkt is already up-to-date!\n",
      "[nltk_data] Downloading package stopwords to\n",
      "[nltk_data]     /Users/tomvannuenen/nltk_data...\n",
      "[nltk_data]   Package stopwords is already up-to-date!\n"
     ]
    }
   ],
   "source": [
    "import nltk\n",
    "from nltk.tokenize import word_tokenize, RegexpTokenizer\n",
    "from nltk.corpus import stopwords\n",
    "from collections import defaultdict, Counter\n",
    "import re\n",
    "\n",
    "nltk.download('punkt')\n",
    "nltk.download('stopwords')\n",
    "\n",
    "# Define characters and their associated genders\n",
    "genders = {\n",
    "    'ALGERNON': 'male',\n",
    "    'JACK': 'male',\n",
    "    'GWENDOLEN': 'female',\n",
    "    'CECILY': 'female',\n",
    "    'LADY BRACKNELL': 'female',\n",
    "    'MISS PRISM': 'female',\n",
    "    'LANE': 'male',\n",
    "    'MERRIMAN': 'male'\n",
    "}\n",
    "\n",
    "# Set of English stopwords\n",
    "stop_words = set(stopwords.words('english'))\n",
    "\n",
    "# Reading the play text\n",
    "file_path = '../data/1895_wilde-oscar_the-importance-of-being-earnest.txt'\n",
    "with open(file_path, 'r', encoding='utf-8') as file:\n",
    "    text = file.read()\n",
    "\n",
    "# Function to parse the play into dialogues by characters, tracking punctuation\n",
    "def parse_play(text):\n",
    "    pattern = r'^([A-Z ]+):\\s*(.*)$'\n",
    "    character_dialogue = defaultdict(list)\n",
    "    for line in text.split('\\n'):\n",
    "        match = re.match(pattern, line.strip())\n",
    "        if match:\n",
    "            character, dialogue = match.groups()\n",
    "            character = character.strip()\n",
    "            if character in genders:\n",
    "                character_dialogue[character].append(dialogue.strip())\n",
    "    return character_dialogue\n",
    "\n",
    "dialogues = parse_play(text)\n",
    "\n",
    "# Initialize counters\n",
    "gender_punctuation_usage = defaultdict(Counter)\n",
    "\n",
    "# Punctuation of interest\n",
    "punctuations = ['?', '.'] \n",
    "\n",
    "# Count punctuation by gender\n",
    "for character, speeches in dialogues.items():\n",
    "    gender = genders[character]\n",
    "    for speech in speeches:\n",
    "        # Using a simplistic method to count punctuations\n",
    "        punctuation_counts = {punct: speech.count(punct) for punct in punctuations}\n",
    "        gender_punctuation_usage[gender] += Counter(punctuation_counts)\n",
    "\n",
    "print(\"Punctuation usage by gender:\")\n",
    "for gender, counts in gender_punctuation_usage.items():\n",
    "    print(f\" - {gender.capitalize()}: {dict(counts)}\")\n"
   ]
  },
  {
   "cell_type": "code",
   "execution_count": null,
   "id": "b9e4f727-04bb-49b8-9011-ec37c48710e1",
   "metadata": {},
   "outputs": [],
   "source": []
  }
 ],
 "metadata": {
  "kernelspec": {
   "display_name": "Python 3 (ipykernel)",
   "language": "python",
   "name": "python3"
  },
  "language_info": {
   "codemirror_mode": {
    "name": "ipython",
    "version": 3
   },
   "file_extension": ".py",
   "mimetype": "text/x-python",
   "name": "python",
   "nbconvert_exporter": "python",
   "pygments_lexer": "ipython3",
   "version": "3.11.7"
  }
 },
 "nbformat": 4,
 "nbformat_minor": 5
}

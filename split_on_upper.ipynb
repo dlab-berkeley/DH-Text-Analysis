{
 "cells": [
  {
   "cell_type": "markdown",
   "id": "b8ef0431-8780-4a0c-8471-dde05f02cc38",
   "metadata": {},
   "source": [
    "Q: If we wanted to split a string every time there is an upper case letter, how could we do that?"
   ]
  },
  {
   "cell_type": "markdown",
   "id": "df3d7e80-cbf0-4259-9284-9b11d1ba2bf4",
   "metadata": {},
   "source": [
    "A: We need to break this up, and it's actually more complicated than you might think:\n",
    "\n",
    "- Initialize an empty list to hold the result.\n",
    "- Sets another variable to an empty string to start collecting characters of the current word.\n",
    "- Iterate through each character in the input string.\n",
    "- For each character, check if it is an uppercase letter using the isupper() method.\n",
    "- If the character is uppercase and there is already a word being formed (i.e., current_word is not empty), append the current word to the list split_strings and starts a new word with the current uppercase character.\n",
    "- If the character is not uppercase, add the character to the current_word.\n",
    "- After the loop finishes, there may be a current_word that has not been appended to the list if the last character(s) of the string are not uppercase. So check if there is a current_word and appends it to the list.\n",
    "- Print the list of split strings."
   ]
  },
  {
   "cell_type": "code",
   "execution_count": 18,
   "id": "054c1f35-d2f5-4767-94ea-22f5202d6332",
   "metadata": {},
   "outputs": [],
   "source": [
    "s = \"Here is a Sentence with Uppercase letters\""
   ]
  },
  {
   "cell_type": "code",
   "execution_count": 14,
   "id": "e8a4296d-701b-4b81-98f4-2247b09dde6a",
   "metadata": {},
   "outputs": [],
   "source": [
    "# we need something to contain the parts and the current word we're looking at\n",
    "split_strings = []\n",
    "current_word = \"\""
   ]
  },
  {
   "cell_type": "code",
   "execution_count": 15,
   "id": "c8e881fc-5e85-4e17-b9ea-b4305d152779",
   "metadata": {},
   "outputs": [
    {
     "data": {
      "text/plain": [
       "str"
      ]
     },
     "execution_count": 15,
     "metadata": {},
     "output_type": "execute_result"
    }
   ],
   "source": [
    "type(current_word)"
   ]
  },
  {
   "cell_type": "code",
   "execution_count": 16,
   "id": "0bb3ad19-eac5-43a0-b20f-c01ef179c989",
   "metadata": {},
   "outputs": [
    {
     "name": "stdout",
     "output_type": "stream",
     "text": [
      "['Here is a ', 'Sentence with ', 'Uppercase letters']\n"
     ]
    }
   ],
   "source": [
    "for char in s: # for each character\n",
    "    if char.isupper(): # if that character is uppercase\n",
    "        if current_word: # this means: if current_word is not empty\n",
    "            split_strings.append(current_word) # add whatever current word is to the list (up to but not including) \n",
    "            current_word = char # reset current_word to te current character\n",
    "        else: # but if we don't have a current_word yet\n",
    "            current_word += char # add all characters to the current word\n",
    "    else: # and if the character is not uppercase at all\n",
    "        current_word += char # just add the character to current_word\n",
    "\n",
    "if current_word: # if there's a last part of the string after the last uppercase, add it\n",
    "    split_strings.append(current_word)\n",
    "\n",
    "print(split_strings) # print what we have\n"
   ]
  },
  {
   "cell_type": "markdown",
   "id": "d420465e-6a3f-449e-8471-5a5c876a9db3",
   "metadata": {},
   "source": [
    "There's more (shorter) ways to do it by importing packages--e.g, by using regex."
   ]
  },
  {
   "cell_type": "code",
   "execution_count": 19,
   "id": "8939220a-b518-433a-9744-96b67afc0137",
   "metadata": {},
   "outputs": [
    {
     "name": "stdout",
     "output_type": "stream",
     "text": [
      "['Here is a ', 'Sentence with ', 'Uppercase letters']\n"
     ]
    }
   ],
   "source": [
    "import re\n",
    "\n",
    "parts = re.findall('[A-Z][^A-Z]*', s)\n",
    "print(parts)"
   ]
  },
  {
   "cell_type": "markdown",
   "id": "cb4c356f-ca64-4160-836d-99e162708b02",
   "metadata": {},
   "source": [
    "[A-Z]: This part of the regular expression matches any uppercase letter from A to Z. It specifies a character set containing all uppercase letters.\n",
    "\n",
    "[^A-Z]*: The ^ symbol inside the square brackets negates the character set, so [^A-Z] matches any character that is not an uppercase letter. The * quantifier means that it matches zero or more occurrences of the preceding character set.\n",
    "\n",
    "[A-Z][^A-Z]*: This regular expression pattern matches a sequence of characters that starts with an uppercase letter ([A-Z]) followed by zero or more characters that are not uppercase letters ([^A-Z]*). Essentially, it matches each word or sequence of characters starting with an uppercase letter."
   ]
  }
 ],
 "metadata": {
  "kernelspec": {
   "display_name": "dlab",
   "language": "python",
   "name": "dlab"
  },
  "language_info": {
   "codemirror_mode": {
    "name": "ipython",
    "version": 3
   },
   "file_extension": ".py",
   "mimetype": "text/x-python",
   "name": "python",
   "nbconvert_exporter": "python",
   "pygments_lexer": "ipython3",
   "version": "3.10.10"
  }
 },
 "nbformat": 4,
 "nbformat_minor": 5
}

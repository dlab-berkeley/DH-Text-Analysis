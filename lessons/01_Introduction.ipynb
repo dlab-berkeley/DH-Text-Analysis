{
 "cells": [
  {
   "cell_type": "markdown",
   "id": "1df78016-c1a0-405d-aff0-6ba75309aa5b",
   "metadata": {},
   "source": [
    "# Text Analysis for Digital Humanities: Introduction\n",
    "\n",
    "* * * \n",
    "\n",
    "<div class=\"alert alert-success\">  \n",
    "    \n",
    "### Learning Objectives \n",
    "    \n",
    "* Understand preprocessing and tokenization as preparatory steps in text analysis.\n",
    "* Use the NLTK library to analyze the characteristic speech patterns of narrators in a play.\n",
    "* Use TF-IDF to explore which plays are the most similar to each other.\n",
    "* Use the Scikit-Learn library to explore prevalent topics or motifs in a play across narrative time.\n",
    "* Use the Spacy library to do Named Entity Recognition, exploring how often certain times of day, places, or people are mentioned in a play.\n",
    "\n",
    "</div>\n",
    "\n",
    "### Icons Used in This Notebook\n",
    "🔔 **Question**: A quick question to help you understand what's going on.<br>\n",
    "🥊 **Challenge**: Interactive excersise. We'll work through these in the workshop!<br>\n",
    "💡 **Tip**: How to do something a bit more efficiently or effectively.<br>\n",
    "⚠️ **Warning:** Heads-up about tricky stuff or common mistakes.<br>\n",
    "📝 **Poll:** A Zoom poll to help you learn!<br>\n",
    "🎬 **Demo**: Showing off something more advanced – so you know what Python can be used for!<br> \n",
    "\n",
    "### Sections\n",
    "1. [Introduction to Text Analysis](#intro)\n",
    "2. [Tokenizing Text](#token)\n",
    "3. [NLTK - Natural Language Toolkit](#nltk)\n",
    "4. [Comparative Stylometry Using TF-IDF](#tfidf)\n",
    "5. [Topic Modeling Using Scikit-Learn](#topic)\n",
    "6. [Named Entity Recognition Using SpaCy](#ner)"
   ]
  },
  {
   "cell_type": "markdown",
   "id": "968278ca-fd8a-4ad3-99ec-87ecf83a8b53",
   "metadata": {},
   "source": [
    "<a id='intro'></a>\n",
    "# Introduction to Text Analysis\n",
    "\n",
    "Text analysis techniques lie in the domain of Natural Language Processing, where we apply computational techniques to human languages in order to explain underlying structures.\n",
    "\n",
    "Performing computational methods on natural language is a question of representations. Language is understandable to humans because it is a system of communication tailored to our cognitive abilities, enabling us to encode and decode complex information through shared symbols and rules.\n",
    "\n",
    "However, most machine learning and data science techniques utilize numerical methods to extract patterns from large datasets. This means we need to find a way to convert the language into a numerical representation. \n",
    "\n",
    "In this notebook, we will cover a variety of steps to \"preprocess\" and create numerical representations of text in order to do computational work."
   ]
  },
  {
   "cell_type": "markdown",
   "id": "35b2797f-af75-497e-ae20-1335639760fa",
   "metadata": {},
   "source": [
    "<a id='token'></a>\n",
    "# Tokenizing Text\n",
    "\n",
    "Tokenization involves breaking down text into smaller units, such as words or phrases, to facilitate further analysis or processing in natural language tasks.\n",
    "\n",
    "Recall a string in Python looks like this:"
   ]
  },
  {
   "cell_type": "code",
   "execution_count": 21,
   "id": "a1fcf075-7b79-4ba4-828a-b77668d366f5",
   "metadata": {},
   "outputs": [],
   "source": [
    "text = \"I'm not superstitious. I have read a heap of books in my time. I am a scholar in my own way.\""
   ]
  },
  {
   "cell_type": "markdown",
   "id": "4263dfd7-eded-4156-a89b-6a1d9661680f",
   "metadata": {},
   "source": [
    "We can use the `.split()` method on a string to split it on a particular text character. By default, this is a whitespace, but `.split()` can also take other characters like a period (`.`).\n",
    "\n",
    "Let's first split our string up in sentences."
   ]
  },
  {
   "cell_type": "code",
   "execution_count": 53,
   "id": "21792ac3-0c08-4d32-807b-462e37ed4dd5",
   "metadata": {},
   "outputs": [
    {
     "data": {
      "text/plain": [
       "[\"I'm not superstitious\",\n",
       " ' I have read a heap of books in my time',\n",
       " ' I am a scholar in my own way',\n",
       " '']"
      ]
     },
     "execution_count": 53,
     "metadata": {},
     "output_type": "execute_result"
    }
   ],
   "source": [
    "sents = text.split('.')\n",
    "sents"
   ]
  },
  {
   "cell_type": "markdown",
   "id": "734ee09f-135b-43fd-8e07-a4e96aee945e",
   "metadata": {},
   "source": [
    "Note that the output of `.split()` is a list.\n",
    "\n",
    "Now, let's split those sentences up into individual words. This means we have to apply `.split()` again to **each item in our list**. We are using a `for` loop here, written in what is called a [\"list comprehension\"](https://www.w3schools.com/python/python_lists_comprehension.asp). \n",
    "\n",
    "🔔 **Question**: Conceptually, can you explain how the list comprehension below comes to its output?"
   ]
  },
  {
   "cell_type": "code",
   "execution_count": 54,
   "id": "3f155b48-7b07-42a1-86d6-9dc208768047",
   "metadata": {},
   "outputs": [
    {
     "data": {
      "text/plain": [
       "[[\"I'm\", 'not', 'superstitious'],\n",
       " ['I', 'have', 'read', 'a', 'heap', 'of', 'books', 'in', 'my', 'time'],\n",
       " ['I', 'am', 'a', 'scholar', 'in', 'my', 'own', 'way'],\n",
       " []]"
      ]
     },
     "execution_count": 54,
     "metadata": {},
     "output_type": "execute_result"
    }
   ],
   "source": [
    "tokens = [sent.split() for sent in sents]\n",
    "tokens"
   ]
  },
  {
   "cell_type": "markdown",
   "id": "a8110502-5397-4e5b-8507-2151de781031",
   "metadata": {},
   "source": [
    "Because we are splitting up the items in our `sents` list further, we now have a **list of lists**. You can tell by the double `[[` and `]]` brackets at the start and end of `tokens`. \n",
    "\n",
    "Now we can access a token from this list of lists using indexing. "
   ]
  },
  {
   "cell_type": "code",
   "execution_count": 24,
   "id": "1c40ab34-b337-4630-bcbb-5c23126310e0",
   "metadata": {},
   "outputs": [
    {
     "data": {
      "text/plain": [
       "'I'"
      ]
     },
     "execution_count": 24,
     "metadata": {},
     "output_type": "execute_result"
    }
   ],
   "source": [
    "tokens[1][1]"
   ]
  },
  {
   "cell_type": "markdown",
   "id": "98d92482-218c-47e7-b735-176dae27cd99",
   "metadata": {},
   "source": [
    "<a id='nltk'></a>\n",
    "# NLTK - Natural Language Toolkit\n",
    "\n",
    "It is useful to know how splitting up words using `.split()` works--but in practice, we do not work like this. Python has access to many Natural Language Processing (NLP) packages that have built-in tokenization methods that are more sophisticated, and easier to use.\n",
    "\n",
    "Let's have a look at NLTK--the Natural Language Toolkit--which is a often-used package in the aacademic community for NLP work. First, we have to install it, as well as some dependencies."
   ]
  },
  {
   "cell_type": "code",
   "execution_count": 36,
   "id": "28ab158c-7a87-4cc8-8a75-d06c40748b43",
   "metadata": {},
   "outputs": [
    {
     "name": "stdout",
     "output_type": "stream",
     "text": [
      "Requirement already satisfied: nltk in /Users/tomvannuenen/anaconda3/envs/dlab/lib/python3.10/site-packages (3.7)\n",
      "Requirement already satisfied: click in /Users/tomvannuenen/anaconda3/envs/dlab/lib/python3.10/site-packages (from nltk) (8.0.4)\n",
      "Requirement already satisfied: regex>=2021.8.3 in /Users/tomvannuenen/anaconda3/envs/dlab/lib/python3.10/site-packages (from nltk) (2022.7.9)\n",
      "Requirement already satisfied: tqdm in /Users/tomvannuenen/anaconda3/envs/dlab/lib/python3.10/site-packages (from nltk) (4.65.0)\n",
      "Requirement already satisfied: joblib in /Users/tomvannuenen/anaconda3/envs/dlab/lib/python3.10/site-packages (from nltk) (1.2.0)\n",
      "Note: you may need to restart the kernel to use updated packages.\n"
     ]
    },
    {
     "name": "stderr",
     "output_type": "stream",
     "text": [
      "[nltk_data] Downloading package punkt to\n",
      "[nltk_data]     /Users/tomvannuenen/nltk_data...\n",
      "[nltk_data]   Package punkt is already up-to-date!\n",
      "[nltk_data] Downloading package wordnet to\n",
      "[nltk_data]     /Users/tomvannuenen/nltk_data...\n",
      "[nltk_data]   Package wordnet is already up-to-date!\n",
      "[nltk_data] Downloading package omw-1.4 to\n",
      "[nltk_data]     /Users/tomvannuenen/nltk_data...\n"
     ]
    },
    {
     "data": {
      "text/plain": [
       "True"
      ]
     },
     "execution_count": 36,
     "metadata": {},
     "output_type": "execute_result"
    }
   ],
   "source": [
    "%pip install nltk\n",
    "import nltk\n",
    "nltk.download('punkt')\n",
    "nltk.download('wordnet')\n",
    "nltk.download('omw-1.4')\n",
    "nltk.download('stopwords')"
   ]
  },
  {
   "cell_type": "markdown",
   "id": "f9d34562-997e-4856-881f-243d1e83c9af",
   "metadata": {},
   "source": [
    "Now, we can use the `.sent_tokenize()` method in NLTK to easily tokenize sentences:"
   ]
  },
  {
   "cell_type": "code",
   "execution_count": 27,
   "id": "31265ad8-6f16-4863-8e02-6fde8fb7b2b1",
   "metadata": {},
   "outputs": [
    {
     "data": {
      "text/plain": [
       "[\"I'm not superstitious.\",\n",
       " 'I have read a heap of books in my time.',\n",
       " 'I am a scholar in my own way.']"
      ]
     },
     "execution_count": 27,
     "metadata": {},
     "output_type": "execute_result"
    }
   ],
   "source": [
    "nltk.sent_tokenize(text)"
   ]
  },
  {
   "cell_type": "markdown",
   "id": "140f7814-26b8-4d7e-b3ac-664bff681c75",
   "metadata": {},
   "source": [
    "Or we can use `.word_tokenize()` to tokenize words."
   ]
  },
  {
   "cell_type": "code",
   "execution_count": 26,
   "id": "ad0a07d8-5fc8-4a03-86af-06bc01e6d318",
   "metadata": {},
   "outputs": [
    {
     "data": {
      "text/plain": [
       "['I',\n",
       " \"'m\",\n",
       " 'not',\n",
       " 'superstitious',\n",
       " '.',\n",
       " 'I',\n",
       " 'have',\n",
       " 'read',\n",
       " 'a',\n",
       " 'heap',\n",
       " 'of',\n",
       " 'books',\n",
       " 'in',\n",
       " 'my',\n",
       " 'time',\n",
       " '.',\n",
       " 'I',\n",
       " 'am',\n",
       " 'a',\n",
       " 'scholar',\n",
       " 'in',\n",
       " 'my',\n",
       " 'own',\n",
       " 'way',\n",
       " '.']"
      ]
     },
     "execution_count": 26,
     "metadata": {},
     "output_type": "execute_result"
    }
   ],
   "source": [
    "nltk.word_tokenize(text)"
   ]
  },
  {
   "cell_type": "markdown",
   "id": "e1f44905-c5ea-4978-82d3-f84c1b6ce908",
   "metadata": {},
   "source": [
    "Notice what happens there with \"I'm\"? What if our sentence contains a contraction? "
   ]
  },
  {
   "cell_type": "code",
   "execution_count": 28,
   "id": "dfd90d6d-e498-4b95-b2b8-423be05bc7c3",
   "metadata": {},
   "outputs": [
    {
     "data": {
      "text/plain": [
       "['I', 'ca', \"n't\", 'believe', 'this', '!']"
      ]
     },
     "execution_count": 28,
     "metadata": {},
     "output_type": "execute_result"
    }
   ],
   "source": [
    "nltk.word_tokenize(\"I can't believe this!\")"
   ]
  },
  {
   "cell_type": "markdown",
   "id": "c262bd43-6bba-4e8d-9ed9-4074fcfa6980",
   "metadata": {},
   "source": [
    "🔔 **Question**: Why do you think NLTK is splitting up \"ca\" and \"n't\"?"
   ]
  },
  {
   "cell_type": "markdown",
   "id": "74cfac92-a85c-44af-aec8-d0a7435977b0",
   "metadata": {},
   "source": [
    "## Stems and Stemming\n",
    "\n",
    "Stemming is a text preprocessing technique that reduces words to their root form by removing prefixes and suffixes, often resulting in a basic, but sometimes grammatically incorrect, word form.\n",
    "\n",
    "To stem a word, we first have to **instantiate**, or make a fresh copy of, our stemmer object: "
   ]
  },
  {
   "cell_type": "code",
   "execution_count": 37,
   "id": "e485f8f2-45f3-4862-84cd-4bf887254b18",
   "metadata": {},
   "outputs": [],
   "source": [
    "stemmer = nltk.stem.LancasterStemmer()"
   ]
  },
  {
   "cell_type": "markdown",
   "id": "50f84c2e-f97a-4ab4-a3b9-062868623e7d",
   "metadata": {},
   "source": [
    "Now let's test it on three different forms of the same stem: "
   ]
  },
  {
   "cell_type": "code",
   "execution_count": 38,
   "id": "70aebfaa-272f-4079-b0bf-7000dc15dad5",
   "metadata": {},
   "outputs": [
    {
     "name": "stdout",
     "output_type": "stream",
     "text": [
      "believ\n",
      "believ\n",
      "believ\n"
     ]
    }
   ],
   "source": [
    "for word in [\"believe\", \"belief\", \"believing\"]:\n",
    "    print(stemmer.stem(word))"
   ]
  },
  {
   "cell_type": "code",
   "execution_count": 39,
   "id": "295552be-79d8-4531-a0b8-ce85122c1309",
   "metadata": {},
   "outputs": [
    {
     "data": {
      "text/plain": [
       "'believ'"
      ]
     },
     "execution_count": 39,
     "metadata": {},
     "output_type": "execute_result"
    }
   ],
   "source": [
    "stemmer.stem(\"believe\")"
   ]
  },
  {
   "cell_type": "markdown",
   "id": "155a6422-f582-46dc-9ed2-316e37d1a39b",
   "metadata": {},
   "source": [
    "## Lemmas and Lemmatizers\n",
    "\n",
    "A lemma is the \"dictionary form\" of a word, so the lemma for \"jumps\" is \"jump.\" Lemmatizing often doesn't transform the text as much as stemming. First, instantiate the lemmatizer: "
   ]
  },
  {
   "cell_type": "code",
   "execution_count": 40,
   "id": "0298205a-557a-4c52-9a09-65a84eb6a38c",
   "metadata": {},
   "outputs": [],
   "source": [
    "lemmatizer = nltk.stem.WordNetLemmatizer()"
   ]
  },
  {
   "cell_type": "code",
   "execution_count": 41,
   "id": "173456c2-e75b-43ab-927c-74f93a3e23d1",
   "metadata": {},
   "outputs": [
    {
     "data": {
      "text/plain": [
       "'believe'"
      ]
     },
     "execution_count": 41,
     "metadata": {},
     "output_type": "execute_result"
    }
   ],
   "source": [
    "lemmatizer.lemmatize(\"believe\")"
   ]
  },
  {
   "cell_type": "code",
   "execution_count": 42,
   "id": "ae730e48-448f-41ed-83ac-c1d998e33535",
   "metadata": {},
   "outputs": [
    {
     "name": "stdout",
     "output_type": "stream",
     "text": [
      "believe\n",
      "belief\n",
      "believing\n"
     ]
    }
   ],
   "source": [
    "for word in [\"believe\", \"belief\", \"believing\"]:\n",
    "    print(lemmatizer.lemmatize(word))"
   ]
  },
  {
   "cell_type": "code",
   "execution_count": 43,
   "id": "5aaced28-bf20-4e90-b8d9-edae178ca5a6",
   "metadata": {},
   "outputs": [
    {
     "name": "stdout",
     "output_type": "stream",
     "text": [
      "happy\n",
      "happier\n",
      "happiest\n"
     ]
    }
   ],
   "source": [
    "for word in [\"happy\", \"happier\", \"happiest\"]:\n",
    "    print(lemmatizer.lemmatize(word))"
   ]
  },
  {
   "cell_type": "code",
   "execution_count": 44,
   "id": "13414182-7df2-4267-b46e-e8c862c4b1c1",
   "metadata": {},
   "outputs": [
    {
     "name": "stdout",
     "output_type": "stream",
     "text": [
      "jump\n",
      "jumping\n",
      "jump\n"
     ]
    }
   ],
   "source": [
    "for word in [\"jumps\", \"jumping\", \"jump\"]:\n",
    "    print(lemmatizer.lemmatize(word))"
   ]
  },
  {
   "cell_type": "code",
   "execution_count": 49,
   "id": "d98686d3-2aca-4a4c-8b34-0358986ecb3d",
   "metadata": {},
   "outputs": [
    {
     "name": "stdout",
     "output_type": "stream",
     "text": [
      "I'm\n",
      "not\n",
      "superstitious\n",
      "\n",
      "I\n",
      "have\n",
      "read\n",
      "a\n",
      "heap\n",
      "of\n",
      "book\n",
      "in\n",
      "my\n",
      "time\n",
      "\n",
      "I\n",
      "am\n",
      "a\n",
      "scholar\n",
      "in\n",
      "my\n",
      "own\n",
      "way\n",
      "\n"
     ]
    }
   ],
   "source": [
    "for sentence in tokens:\n",
    "    for token in sentence:\n",
    "        print(lemmatizer.lemmatize(token))"
   ]
  },
  {
   "cell_type": "markdown",
   "id": "c8f3e122-e615-4865-93e3-7702571fd5ba",
   "metadata": {
    "tags": []
   },
   "source": [
    "## Things To Do With NLTK Text Objects\n",
    "\n",
    "The NLTK Text object provides a convenient interface for exploring and analyzing a text.\n",
    "\n",
    "Essentially, you feed it a text file (which takes the form of a string in Python), and it processes this text so that you can call a bunch of methods on that new object. It allows you to do things like concordancing, look for similar words to an input word, and show dispersion plots for given words. \n",
    "\n",
    "Let's have a look:"
   ]
  },
  {
   "cell_type": "code",
   "execution_count": 2,
   "id": "7d1ad91a-f77c-4c76-b842-6085436c2f12",
   "metadata": {},
   "outputs": [],
   "source": [
    "file_path = 'data/1895_wilde-oscar_the-importance-of-being-earnest.txt'\n",
    "\n",
    "with open(file_path, 'r', encoding='utf-8') as file:\n",
    "    text = file.read()"
   ]
  },
  {
   "cell_type": "code",
   "execution_count": 3,
   "id": "e12c0030-2644-4787-8bce-b3e4d704b4a0",
   "metadata": {},
   "outputs": [
    {
     "name": "stdout",
     "output_type": "stream",
     "text": [
      "Concordance for the word 'brother':\n",
      "Displaying 25 of 51 matches:\n",
      " always pretended to have a younger brother of the name of Ernest , who lives i\n",
      "have invented a very useful younger brother called Ernest , in order that you m\n",
      " accepts me , I am going to kill my brother , indeed I think I 'll kill him in \n",
      "en propose for practice . I know my brother Gerald does . All my girl-friends t\n",
      "nsense . Algernon : What about your brother ? What about the profligate Ernest \n",
      "! Jack : Very well , then . My poor brother Ernest was carried off suddenly , i\n",
      "le too much interested in your poor brother Ernest ? Wo n't she feel his loss a\n",
      "ts , that unfortunate young man his brother seems to be . But I must not distur\n",
      "4 , The Albany , W. ' Uncle Jack 's brother ! Did you tell him Mr. Worthing was\n",
      " from your card , are Uncle Jack 's brother , my cousin Ernest , my wicked cous\n",
      " some terrible calamity ? Jack : My brother . Miss Prism : More shameful debts \n",
      "ack : [ -- ] Dead ! Chasuble : Your brother Ernest dead ? Jack : Quite dead . M\n",
      "re interested , Mr. Worthing ? Your brother was , I believe , unmarried , was h\n",
      " think is in the dining-room ? Your brother ! Jack : Who ? Cecily : Your brothe\n",
      "rother ! Jack : Who ? Cecily : Your brother Ernest . He arrived about half an h\n",
      " : What nonsense ! I have n't got a brother . Cecily : Oh , do n't say that . H\n",
      " you in the past , he is still your brother . You could n't be so heartless as \n",
      " peculiarly distressing . Jack . My brother is in the dining-room ? I do n't kn\n",
      "otions Algernon away . ] Algernon . Brother John , I have come down from town t\n",
      "ou are not going to refuse your own brother 's hand ? Jack . Nothing will induc\n",
      " . But I must say that I think that Brother John 's coldness to me is peculiarl\n",
      "nfessed to us that he had a younger brother who was very wicked and bad , you o\n",
      "hing who is my guardian . It is his brother -- his elder brother . GWENDOLEN : \n",
      "an . It is his brother -- his elder brother . GWENDOLEN : [ Sitting down again \n",
      "never mentioned to me that he had a brother . CECILY : I am sorry to say they h\n",
      "\n",
      "Words similar to 'brother':\n",
      "name case man moment room music for but two way little pleasure county\n",
      "aunt well being doubt matter place hard\n",
      "\n",
      "Common contexts for words 'brother' and 'Ernest':\n",
      "No common contexts were found\n",
      "\n",
      "Collocations in the text:\n",
      "Lady Bracknell; Miss Prism; Mr. Worthing; Aunt Augusta; Miss Fairfax;\n",
      "Miss Cardew; Uncle Jack; cigarette case; Dr. Chasuble; dear fellow;\n",
      "Good heavens; LADY BRACKNELL; n't think; severe chill; cucumber\n",
      "sandwiches; MISS PRISM; Lord Bracknell; need hardly; Mr. Bunbury;\n",
      "three months\n",
      "\n",
      "Dispersion plot for words 'brother', 'Gerald', and 'Ernest':\n"
     ]
    },
    {
     "data": {
      "image/png": "[encoded data removed]",
      "text/plain": [
       "<Figure size 432x288 with 1 Axes>"
      ]
     },
     "metadata": {
      "needs_background": "light"
     },
     "output_type": "display_data"
    }
   ],
   "source": [
    "from nltk.text import Text\n",
    "from nltk.tokenize import word_tokenize\n",
    "\n",
    "# Assuming 'text' is your corpus as a single string\n",
    "# Tokenize the corpus\n",
    "tokens = word_tokenize(text)\n",
    "# Create an NLTK Text object\n",
    "nltk_text = Text(tokens)\n",
    "\n",
    "# Example operations:\n",
    "# 1. Concordance\n",
    "print(\"Concordance for the word 'brother':\")\n",
    "nltk_text.concordance('brother')\n",
    "\n",
    "# 2. Similar\n",
    "print(\"\\nWords similar to 'brother':\")\n",
    "nltk_text.similar('brother')\n",
    "\n",
    "# 3. Common Contexts\n",
    "print(\"\\nCommon contexts for words 'brother' and 'Ernest':\")\n",
    "nltk_text.common_contexts(['brother', 'Ernest'])\n",
    "\n",
    "# 4. Collocations\n",
    "print(\"\\nCollocations in the text:\")\n",
    "nltk_text.collocations()\n",
    "\n",
    "# 5. Dispersion Plot\n",
    "print(\"\\nDispersion plot for words 'brother', 'Gerald', and 'Ernest':\")\n",
    "nltk_text.dispersion_plot(['brother', 'Gerald', 'Ernest'])\n"
   ]
  },
  {
   "cell_type": "markdown",
   "id": "076778c7-5e78-4e7e-815b-d0934226113a",
   "metadata": {},
   "source": [
    "<a id='tfidf'></a>\n",
    "\n",
    "# Comparative stylometry using TF-IDF"
   ]
  },
  {
   "cell_type": "code",
   "execution_count": 10,
   "id": "5a89cdf6-6570-442d-b634-abda13166233",
   "metadata": {},
   "outputs": [],
   "source": [
    "from nltk.corpus import gutenberg\n",
    "from sklearn.feature_extraction.text import TfidfVectorizer\n",
    "import pandas as pd\n",
    "from sklearn.decomposition import PCA\n",
    "from matplotlib import pyplot as plt\n",
    "%matplotlib inline\n",
    "import matplotlib.pyplot as plt\n",
    "plt.rcParams['figure.figsize'] = [10, 10]"
   ]
  },
  {
   "cell_type": "markdown",
   "id": "8d6ced51-98aa-47d9-a5b5-f9a528878901",
   "metadata": {},
   "source": [
    "**TF-IDF**: Term frequency, adjusted for inverse document frequency. \n",
    " - Term frequency: the frequency with which words occur in your text\n",
    " - Inverse document frequency: the freq. with which words occur in your corpus. \n",
    " \n",
    "Or, a fancy way of getting distinguishing words of a document. At the moment, we'll be using the TfidfVectorizer, but we'll be turning off IDF, and just using it to make tables of word frequencies. \n",
    "\n",
    "Let's test it out on some of our plays."
   ]
  },
  {
   "cell_type": "code",
   "execution_count": 40,
   "id": "64dd760c-7b81-4336-871a-83732812c1e4",
   "metadata": {},
   "outputs": [],
   "source": [
    "def read_file(file_path):\n",
    "    with open(file_path, 'r', encoding='utf-8') as file:\n",
    "        return file.read()\n",
    "\n",
    "boucicault_grimaldi = read_file('data/1853_boucicault-dion_grimaldi.txt')\n",
    "boucicault_phantom = read_file('data/1856_boucicault-dion_the-phantom.txt')\n",
    "yeats = read_file('data/1919_yeats-wb_the-only-jealousy-of-emer.txt')\n",
    "wilde = read_file('data/1895_wilde-oscar_the-importance-of-being-earnest.txt')\n",
    "shaw = read_file('data/1895_shaw-george-bernard_you-never-can-tell.txt')"
   ]
  },
  {
   "cell_type": "code",
   "execution_count": 41,
   "id": "89dcb2ec-67a1-45f4-a6f4-891d00e0389e",
   "metadata": {},
   "outputs": [],
   "source": [
    "tfidf = TfidfVectorizer(use_idf=False, max_features=800)"
   ]
  },
  {
   "cell_type": "code",
   "execution_count": 42,
   "id": "e13dcb74-1078-4006-a0b8-02569c8862d1",
   "metadata": {},
   "outputs": [],
   "source": [
    "tf = tfidf.fit_transform([boucicault_grimaldi, boucicault_phantom, yeats, wilde, shaw])"
   ]
  },
  {
   "cell_type": "code",
   "execution_count": 43,
   "id": "0009ce6f-fc32-4a4e-a77c-3f68fdeeed4d",
   "metadata": {},
   "outputs": [
    {
     "data": {
      "text/plain": [
       "<5x800 sparse matrix of type '<class 'numpy.float64'>'\n",
       "\twith 2936 stored elements in Compressed Sparse Row format>"
      ]
     },
     "execution_count": 43,
     "metadata": {},
     "output_type": "execute_result"
    }
   ],
   "source": [
    "tf"
   ]
  },
  {
   "cell_type": "markdown",
   "id": "2b0a4aa9-493d-4615-a427-0d3be0175b45",
   "metadata": {},
   "source": [
    "**Sparse matrix**: Matrix (table) with some values missing    \n",
    "**Dense matrix**: That matrix filled in (think: fillna(0)). "
   ]
  },
  {
   "cell_type": "code",
   "execution_count": 44,
   "id": "8e42a1e1-4bbb-4730-8def-fad541237a22",
   "metadata": {},
   "outputs": [],
   "source": [
    "tfDense = tf.todense()"
   ]
  },
  {
   "cell_type": "code",
   "execution_count": 45,
   "id": "ef7815a9-05ee-4f4f-afe3-98eadfab267b",
   "metadata": {},
   "outputs": [],
   "source": [
    "labels = tfidf.get_feature_names_out()"
   ]
  },
  {
   "cell_type": "code",
   "execution_count": 46,
   "id": "929e2e6f-109a-4883-81e0-228b6a4ed8d0",
   "metadata": {},
   "outputs": [
    {
     "data": {
      "text/plain": [
       "array(['subject', 'success', 'such', 'suddenly', 'suppose', 'sure',\n",
       "       'surely', 'sweet', 'table', 'take', 'taken', 'takes'], dtype=object)"
      ]
     },
     "execution_count": 46,
     "metadata": {},
     "output_type": "execute_result"
    }
   ],
   "source": [
    "labels[658:670]"
   ]
  },
  {
   "cell_type": "code",
   "execution_count": 49,
   "id": "6a83d717-1ea1-4a8e-8282-3239c2482ff4",
   "metadata": {},
   "outputs": [],
   "source": [
    "df = pd.DataFrame(tfDense, index=['Boucicault_Grimaldi', 'Boucicault_Phantom', 'Yeats', 'Wilde', 'Shaw'], columns=labels)"
   ]
  },
  {
   "cell_type": "code",
   "execution_count": 50,
   "id": "b1bc8c3b-fe89-4435-b4af-e66bc7877be3",
   "metadata": {},
   "outputs": [
    {
     "data": {
      "text/html": [
       "<div>\n",
       "<style scoped>\n",
       "    .dataframe tbody tr th:only-of-type {\n",
       "        vertical-align: middle;\n",
       "    }\n",
       "\n",
       "    .dataframe tbody tr th {\n",
       "        vertical-align: top;\n",
       "    }\n",
       "\n",
       "    .dataframe thead th {\n",
       "        text-align: right;\n",
       "    }\n",
       "</style>\n",
       "<table border=\"1\" class=\"dataframe\">\n",
       "  <thead>\n",
       "    <tr style=\"text-align: right;\">\n",
       "      <th></th>\n",
       "      <th>able</th>\n",
       "      <th>about</th>\n",
       "      <th>absurd</th>\n",
       "      <th>accept</th>\n",
       "      <th>across</th>\n",
       "      <th>act</th>\n",
       "      <th>ada</th>\n",
       "      <th>afraid</th>\n",
       "      <th>after</th>\n",
       "      <th>afternoon</th>\n",
       "      <th>...</th>\n",
       "      <th>years</th>\n",
       "      <th>yes</th>\n",
       "      <th>yet</th>\n",
       "      <th>yonder</th>\n",
       "      <th>you</th>\n",
       "      <th>young</th>\n",
       "      <th>younger</th>\n",
       "      <th>your</th>\n",
       "      <th>yours</th>\n",
       "      <th>yourself</th>\n",
       "    </tr>\n",
       "  </thead>\n",
       "  <tbody>\n",
       "    <tr>\n",
       "      <th>Boucicault_Grimaldi</th>\n",
       "      <td>0.001797</td>\n",
       "      <td>0.008983</td>\n",
       "      <td>0.000898</td>\n",
       "      <td>0.003593</td>\n",
       "      <td>0.001797</td>\n",
       "      <td>0.019762</td>\n",
       "      <td>0.000000</td>\n",
       "      <td>0.002695</td>\n",
       "      <td>0.003593</td>\n",
       "      <td>0.000000</td>\n",
       "      <td>...</td>\n",
       "      <td>0.005390</td>\n",
       "      <td>0.028745</td>\n",
       "      <td>0.007186</td>\n",
       "      <td>0.000000</td>\n",
       "      <td>0.377273</td>\n",
       "      <td>0.010779</td>\n",
       "      <td>0.000000</td>\n",
       "      <td>0.127554</td>\n",
       "      <td>0.008084</td>\n",
       "      <td>0.008084</td>\n",
       "    </tr>\n",
       "    <tr>\n",
       "      <th>Boucicault_Phantom</th>\n",
       "      <td>0.000000</td>\n",
       "      <td>0.005125</td>\n",
       "      <td>0.000000</td>\n",
       "      <td>0.001281</td>\n",
       "      <td>0.001281</td>\n",
       "      <td>0.006406</td>\n",
       "      <td>0.089681</td>\n",
       "      <td>0.000000</td>\n",
       "      <td>0.012812</td>\n",
       "      <td>0.000000</td>\n",
       "      <td>...</td>\n",
       "      <td>0.010249</td>\n",
       "      <td>0.021780</td>\n",
       "      <td>0.007687</td>\n",
       "      <td>0.019217</td>\n",
       "      <td>0.237014</td>\n",
       "      <td>0.008968</td>\n",
       "      <td>0.002562</td>\n",
       "      <td>0.071745</td>\n",
       "      <td>0.003843</td>\n",
       "      <td>0.001281</td>\n",
       "    </tr>\n",
       "    <tr>\n",
       "      <th>Yeats</th>\n",
       "      <td>0.000000</td>\n",
       "      <td>0.012317</td>\n",
       "      <td>0.000000</td>\n",
       "      <td>0.000000</td>\n",
       "      <td>0.000000</td>\n",
       "      <td>0.000000</td>\n",
       "      <td>0.000000</td>\n",
       "      <td>0.012317</td>\n",
       "      <td>0.012317</td>\n",
       "      <td>0.000000</td>\n",
       "      <td>...</td>\n",
       "      <td>0.003079</td>\n",
       "      <td>0.000000</td>\n",
       "      <td>0.015397</td>\n",
       "      <td>0.000000</td>\n",
       "      <td>0.203238</td>\n",
       "      <td>0.009238</td>\n",
       "      <td>0.000000</td>\n",
       "      <td>0.110857</td>\n",
       "      <td>0.000000</td>\n",
       "      <td>0.003079</td>\n",
       "    </tr>\n",
       "    <tr>\n",
       "      <th>Wilde</th>\n",
       "      <td>0.004682</td>\n",
       "      <td>0.041471</td>\n",
       "      <td>0.007358</td>\n",
       "      <td>0.000669</td>\n",
       "      <td>0.002676</td>\n",
       "      <td>0.004013</td>\n",
       "      <td>0.000000</td>\n",
       "      <td>0.010033</td>\n",
       "      <td>0.018060</td>\n",
       "      <td>0.010702</td>\n",
       "      <td>...</td>\n",
       "      <td>0.008027</td>\n",
       "      <td>0.040133</td>\n",
       "      <td>0.003344</td>\n",
       "      <td>0.000000</td>\n",
       "      <td>0.341129</td>\n",
       "      <td>0.012040</td>\n",
       "      <td>0.003344</td>\n",
       "      <td>0.084279</td>\n",
       "      <td>0.002676</td>\n",
       "      <td>0.001338</td>\n",
       "    </tr>\n",
       "    <tr>\n",
       "      <th>Shaw</th>\n",
       "      <td>0.002119</td>\n",
       "      <td>0.020839</td>\n",
       "      <td>0.000000</td>\n",
       "      <td>0.001766</td>\n",
       "      <td>0.002472</td>\n",
       "      <td>0.003885</td>\n",
       "      <td>0.000000</td>\n",
       "      <td>0.005298</td>\n",
       "      <td>0.013422</td>\n",
       "      <td>0.002119</td>\n",
       "      <td>...</td>\n",
       "      <td>0.005651</td>\n",
       "      <td>0.036733</td>\n",
       "      <td>0.007064</td>\n",
       "      <td>0.000000</td>\n",
       "      <td>0.328833</td>\n",
       "      <td>0.026490</td>\n",
       "      <td>0.002119</td>\n",
       "      <td>0.070288</td>\n",
       "      <td>0.003532</td>\n",
       "      <td>0.005651</td>\n",
       "    </tr>\n",
       "  </tbody>\n",
       "</table>\n",
       "<p>5 rows × 800 columns</p>\n",
       "</div>"
      ],
      "text/plain": [
       "                         able     about    absurd    accept    across  \\\n",
       "Boucicault_Grimaldi  0.001797  0.008983  0.000898  0.003593  0.001797   \n",
       "Boucicault_Phantom   0.000000  0.005125  0.000000  0.001281  0.001281   \n",
       "Yeats                0.000000  0.012317  0.000000  0.000000  0.000000   \n",
       "Wilde                0.004682  0.041471  0.007358  0.000669  0.002676   \n",
       "Shaw                 0.002119  0.020839  0.000000  0.001766  0.002472   \n",
       "\n",
       "                          act       ada    afraid     after  afternoon  ...  \\\n",
       "Boucicault_Grimaldi  0.019762  0.000000  0.002695  0.003593   0.000000  ...   \n",
       "Boucicault_Phantom   0.006406  0.089681  0.000000  0.012812   0.000000  ...   \n",
       "Yeats                0.000000  0.000000  0.012317  0.012317   0.000000  ...   \n",
       "Wilde                0.004013  0.000000  0.010033  0.018060   0.010702  ...   \n",
       "Shaw                 0.003885  0.000000  0.005298  0.013422   0.002119  ...   \n",
       "\n",
       "                        years       yes       yet    yonder       you  \\\n",
       "Boucicault_Grimaldi  0.005390  0.028745  0.007186  0.000000  0.377273   \n",
       "Boucicault_Phantom   0.010249  0.021780  0.007687  0.019217  0.237014   \n",
       "Yeats                0.003079  0.000000  0.015397  0.000000  0.203238   \n",
       "Wilde                0.008027  0.040133  0.003344  0.000000  0.341129   \n",
       "Shaw                 0.005651  0.036733  0.007064  0.000000  0.328833   \n",
       "\n",
       "                        young   younger      your     yours  yourself  \n",
       "Boucicault_Grimaldi  0.010779  0.000000  0.127554  0.008084  0.008084  \n",
       "Boucicault_Phantom   0.008968  0.002562  0.071745  0.003843  0.001281  \n",
       "Yeats                0.009238  0.000000  0.110857  0.000000  0.003079  \n",
       "Wilde                0.012040  0.003344  0.084279  0.002676  0.001338  \n",
       "Shaw                 0.026490  0.002119  0.070288  0.003532  0.005651  \n",
       "\n",
       "[5 rows x 800 columns]"
      ]
     },
     "execution_count": 50,
     "metadata": {},
     "output_type": "execute_result"
    }
   ],
   "source": [
    "df"
   ]
  },
  {
   "cell_type": "markdown",
   "id": "fb52d176-4924-459d-a40a-231bce1a3528",
   "metadata": {},
   "source": [
    "## Stylometry?\n",
    "\n",
    "Stylometry is the \"measurement of style.\" It's a way to show how the style of writers is similar or different. Style, in this case, deals with the 800 most frequent words, which are function words, rather than content words—they show not what \n",
    "\n",
    "Or, comparison of most frequent words. "
   ]
  },
  {
   "cell_type": "code",
   "execution_count": 51,
   "id": "56efcd58-6213-4115-ac7c-b008d9c743e3",
   "metadata": {},
   "outputs": [
    {
     "data": {
      "text/plain": [
       "(5, 800)"
      ]
     },
     "execution_count": 51,
     "metadata": {},
     "output_type": "execute_result"
    }
   ],
   "source": [
    "tf.shape"
   ]
  },
  {
   "cell_type": "code",
   "execution_count": 52,
   "id": "6591cfbd-f353-41e9-9f4d-444c44857aa1",
   "metadata": {},
   "outputs": [],
   "source": [
    "pca = PCA(2)"
   ]
  },
  {
   "cell_type": "code",
   "execution_count": 53,
   "id": "df00e310-7ff9-44f9-815c-172491944357",
   "metadata": {},
   "outputs": [],
   "source": [
    "import numpy as np\n",
    "tfArray = np.asarray(tfDense)"
   ]
  },
  {
   "cell_type": "code",
   "execution_count": 54,
   "id": "1b79eb64-704d-47ce-94fc-245e5872aa2e",
   "metadata": {},
   "outputs": [],
   "source": [
    "pcaOut = pca.fit_transform(tfArray)"
   ]
  },
  {
   "cell_type": "code",
   "execution_count": 55,
   "id": "39b57e6a-ad70-43ed-850a-5cbd2007fec6",
   "metadata": {},
   "outputs": [
    {
     "data": {
      "text/plain": [
       "array([[-0.13769126,  0.24636385],\n",
       "       [ 0.11067257,  0.16625915],\n",
       "       [ 0.36102033, -0.16687097],\n",
       "       [-0.31862956, -0.23738216],\n",
       "       [-0.01537207, -0.00836987]])"
      ]
     },
     "execution_count": 55,
     "metadata": {},
     "output_type": "execute_result"
    }
   ],
   "source": [
    "pcaOut"
   ]
  },
  {
   "cell_type": "code",
   "execution_count": 56,
   "id": "85d5392b-1328-461c-9cc1-8f79b2dbe8ea",
   "metadata": {},
   "outputs": [
    {
     "data": {
      "image/png": "[encoded data removed]",
      "text/plain": [
       "<Figure size 720x720 with 1 Axes>"
      ]
     },
     "metadata": {
      "needs_background": "light"
     },
     "output_type": "display_data"
    }
   ],
   "source": [
    "xs, ys = pcaOut[:,0], pcaOut[:,1]\n",
    "for i in range(len(xs)): \n",
    "    plt.scatter(xs[i], ys[i])\n",
    "    plt.annotate(['Boucicault_Grimaldi','Boucicault_Phantom', 'Yeats', 'Wilde', 'Shaw'][i], (xs[i], ys[i]))"
   ]
  },
  {
   "cell_type": "markdown",
   "id": "21947116-104b-4001-85ef-3c18b1e8bf8a",
   "metadata": {},
   "source": [
    "<a id='topic'></a>\n",
    "# Topic Modeling using Scikit-Learn\n",
    "\n",
    "Topic modeling is the umbrella term for several statistical methods that show coocurrences of groups of words irrespective of their positions in the text. These groups, or \"topics,\" are computationally inferred probabilistically, not semantically, and so even though they are called topics, they don't always correspond to what we would consider a topic. \n",
    "\n",
    "A good, general-purpose introduction to topic modeling [can be found here](http://www.cs.columbia.edu/~blei/papers/Blei2012.pdf) via David Blei's website.\n",
    "\n",
    "We will use Scikit-Learn, a machine learning package in Python, to do the topic modeling.\n",
    "\n",
    "Topic modeling is very sensitive to lots of factors. First, it works best on many documents rather than just a few, since a topic is defined as that which is distributed across documents. So it's a good idea to break a text into equal-sized chunks, first. \n",
    "\n",
    "I'll start by defining a `split_text_into_chunks()` function to do that, to break up a text into chunks of about 2000 words each. "
   ]
  },
  {
   "cell_type": "code",
   "execution_count": 202,
   "id": "4b2cb14e-e666-4062-a41b-8215bb2631f1",
   "metadata": {},
   "outputs": [],
   "source": [
    "from sklearn.feature_extraction.text import CountVectorizer\n",
    "import pandas as pd\n",
    "from nltk import word_tokenize\n",
    "%matplotlib inline\n",
    "from matplotlib import pyplot as plt\n",
    "plt.rcParams['figure.figsize'] = [10, 5]"
   ]
  },
  {
   "cell_type": "code",
   "execution_count": 203,
   "id": "41ffbe06-7d3b-432b-908f-cb22960691d3",
   "metadata": {},
   "outputs": [],
   "source": [
    "def split_text_into_chunks(text, chunk_size=2000):\n",
    "    # Split the text into words\n",
    "    words = text.split()\n",
    "    \n",
    "    # Calculate the number of chunks\n",
    "    num_chunks = len(words) // chunk_size + (1 if len(words) % chunk_size > 0 else 0)\n",
    "    \n",
    "    # Split the words into chunks of the specified size\n",
    "    chunks = [\" \".join(words[i*chunk_size:(i+1)*chunk_size]) for i in range(num_chunks)]\n",
    "    \n",
    "    return chunks\n",
    "\n",
    "shaw_chunks = split_text_into_chunks(shaw)"
   ]
  },
  {
   "cell_type": "code",
   "execution_count": 204,
   "id": "29ac13b9-ecae-4377-9585-9b7e98a68df8",
   "metadata": {},
   "outputs": [
    {
     "data": {
      "text/plain": [
       "17"
      ]
     },
     "execution_count": 204,
     "metadata": {},
     "output_type": "execute_result"
    }
   ],
   "source": [
    "len(shaw_chunks)"
   ]
  },
  {
   "cell_type": "code",
   "execution_count": 221,
   "id": "93948da7-acf2-4cd1-8e89-0e2ac5c12639",
   "metadata": {},
   "outputs": [],
   "source": [
    "from gensim.parsing.preprocessing import STOPWORDS\n",
    "from gensim import corpora\n",
    "from gensim.utils import simple_preprocess\n",
    "\n",
    "# Tokenize and preprocess documents\n",
    "def preprocess(text):\n",
    "    return [word for word in simple_preprocess(text) if word not in STOPWORDS]\n",
    "\n",
    "# Preprocess the documents\n",
    "processed_docs = [preprocess(doc) for doc in shaw_chunks]\n",
    "\n",
    "# Create a dictionary representation of the documents\n",
    "dictionary = corpora.Dictionary(processed_docs)\n",
    "\n",
    "# Create a bag-of-words model for each document\n",
    "bow_corpus = [dictionary.doc2bow(doc) for doc in processed_docs]\n"
   ]
  },
  {
   "cell_type": "code",
   "execution_count": 222,
   "id": "640186ba-26a4-416b-a92d-8d2237094399",
   "metadata": {},
   "outputs": [],
   "source": [
    "from gensim.models import LdaModel\n",
    "\n",
    "# Number of topics\n",
    "num_topics = 3\n",
    "\n",
    "# Train the model on the bag-of-words corpus\n",
    "lda_model = LdaModel(bow_corpus, num_topics=num_topics, id2word=dictionary, passes=20)"
   ]
  },
  {
   "cell_type": "code",
   "execution_count": 223,
   "id": "3a2cc89f-8347-4dac-91d2-26f56078fa06",
   "metadata": {},
   "outputs": [],
   "source": [
    "import pandas as pd\n",
    "\n",
    "# Initialize an empty list to hold the topic distribution for each document\n",
    "topics_over_time = []\n",
    "\n",
    "for document_bow in bow_corpus:\n",
    "    # Get the topic distribution for the document\n",
    "    document_topics = lda_model.get_document_topics(document_bow, minimum_probability=0)\n",
    "    # Convert the topic distribution to a dictionary with topic ID as keys and probability as values\n",
    "    topic_prob_dict = {topic: prob for topic, prob in document_topics}\n",
    "    # Append the topic distribution dictionary to the list\n",
    "    topics_over_time.append(topic_prob_dict)\n",
    "\n",
    "# Create a DataFrame from the list of topic distribution dictionaries\n",
    "df_topics_over_time = pd.DataFrame(topics_over_time).fillna(0)  # Fill missing values with 0s"
   ]
  },
  {
   "cell_type": "code",
   "execution_count": 224,
   "id": "f9ab0bf0-f542-48ac-bf0f-10c0af5af997",
   "metadata": {},
   "outputs": [
    {
     "data": {
      "text/plain": [
       "<Axes: >"
      ]
     },
     "execution_count": 224,
     "metadata": {},
     "output_type": "execute_result"
    },
    {
     "data": {
      "image/png": "[encoded data removed]",
      "text/plain": [
       "<Figure size 720x360 with 1 Axes>"
      ]
     },
     "metadata": {
      "needs_background": "light"
     },
     "output_type": "display_data"
    }
   ],
   "source": [
    "df_topics_over_time.plot()"
   ]
  },
  {
   "cell_type": "code",
   "execution_count": 226,
   "id": "aa7631ca-7f23-4960-8971-1cd66ee27c7f",
   "metadata": {},
   "outputs": [
    {
     "name": "stderr",
     "output_type": "stream",
     "text": [
      "python(19655) MallocStackLogging: can't turn off malloc stack logging because it was not enabled.\n",
      "python(19656) MallocStackLogging: can't turn off malloc stack logging because it was not enabled.\n",
      "python(19657) MallocStackLogging: can't turn off malloc stack logging because it was not enabled.\n",
      "python(19658) MallocStackLogging: can't turn off malloc stack logging because it was not enabled.\n",
      "python(19659) MallocStackLogging: can't turn off malloc stack logging because it was not enabled.\n",
      "python(19660) MallocStackLogging: can't turn off malloc stack logging because it was not enabled.\n",
      "python(19661) MallocStackLogging: can't turn off malloc stack logging because it was not enabled.\n",
      "python(19662) MallocStackLogging: can't turn off malloc stack logging because it was not enabled.\n",
      "python(19663) MallocStackLogging: can't turn off malloc stack logging because it was not enabled.\n",
      "python(19664) MallocStackLogging: can't turn off malloc stack logging because it was not enabled.\n"
     ]
    },
    {
     "data": {
      "text/html": [
       "\n",
       "<link rel=\"stylesheet\" type=\"text/css\" href=\"https://cdn.jsdelivr.net/gh/bmabey/pyLDAvis@3.4.0/pyLDAvis/js/ldavis.v1.0.0.css\">\n",
       "\n",
       "\n",
       "<div id=\"ldavis_el1290113092565928686695382\" style=\"background-color:white;\"></div>\n",
       "<script type=\"text/javascript\">\n",
       "\n",
       "var ldavis_el1290113092565928686695382_data = {\"mdsDat\": {\"x\": [0.08000536950636233, -0.012069473165404373, -0.06793589634095794], \"y\": [0.029041711161747846, -0.07690607823844549, 0.04786436707669762], \"topics\": [1, 2, 3], \"cluster\": [1, 1, 1], \"Freq\": [42.20369633340063, 33.806880924525316, 23.98942274207405]}, \"tinfo\": {\"Term\": [\"sir\", \"waiter\", \"crampton\", \"dolly\", \"bohun\", \"philip\", \"gloria\", \"mrs\", \"dentist\", \"clandon\", \"valentine\", \"young\", \"lady\", \"speaker\", \"parlor\", \"tea\", \"maid\", \"old\", \"manners\", \"lunch\", \"william\", \"father\", \"england\", \"love\", \"oh\", \"steps\", \"away\", \"woman\", \"operating\", \"century\", \"speaker\", \"stick\", \"claret\", \"society\", \"irish\", \"domino\", \"ball\", \"passes\", \"columbine\", \"bohun\", \"hot\", \"parapet\", \"sophronia\", \"firmly\", \"umbrella\", \"entrance\", \"dressing\", \"evening\", \"party\", \"stranger\", \"boon\", \"coolly\", \"sir\", \"aside\", \"cucumber\", \"syphon\", \"tumbler\", \"wine\", \"ginger\", \"warningly\", \"waiter\", \"steps\", \"crampton\", \"william\", \"garden\", \"stops\", \"yes\", \"table\", \"hotel\", \"mccomas\", \"ma\", \"miss\", \"ll\", \"nose\", \"head\", \"father\", \"terrace\", \"gentleman\", \"valentine\", \"takes\", \"mr\", \"hands\", \"clandon\", \"like\", \"think\", \"mrs\", \"goes\", \"dolly\", \"gloria\", \"come\", \"chair\", \"right\", \"oh\", \"philip\", \"young\", \"tea\", \"sensible\", \"sentimental\", \"advice\", \"unwise\", \"chapter\", \"duel\", \"experience\", \"idiot\", \"depths\", \"frightened\", \"stupid\", \"weak\", \"prig\", \"scientific\", \"returning\", \"proofs\", \"gun\", \"counsel\", \"unhappy\", \"mere\", \"need\", \"women\", \"chemical\", \"fool\", \"unsympathetic\", \"accepted\", \"scorn\", \"terror\", \"dread\", \"fashioned\", \"reason\", \"love\", \"opinion\", \"gloria\", \"sex\", \"ask\", \"mrs\", \"clandon\", \"valentine\", \"woman\", \"oh\", \"away\", \"turns\", \"know\", \"ah\", \"weakness\", \"believe\", \"course\", \"dolly\", \"care\", \"mother\", \"think\", \"mr\", \"man\", \"old\", \"phil\", \"right\", \"better\", \"makes\", \"philip\", \"tell\", \"dear\", \"sits\", \"mccomas\", \"good\", \"looks\", \"like\", \"want\", \"yes\", \"table\", \"let\", \"way\", \"crampton\", \"soap\", \"chalkstones\", \"nervously\", \"toothache\", \"brown\", \"spoiled\", \"bow\", \"minds\", \"alive\", \"socialism\", \"dentist\", \"operating\", \"probe\", \"memory\", \"nuts\", \"mirror\", \"celebrated\", \"biscuit\", \"search\", \"instruments\", \"miniature\", \"secretly\", \"fingers\", \"began\", \"resort\", \"cut\", \"proceed\", \"howled\", \"town\", \"communication\", \"parlor\", \"maid\", \"teeth\", \"manners\", \"england\", \"philip\", \"dolly\", \"complexion\", \"lunch\", \"lady\", \"young\", \"weeks\", \"landlord\", \"cabinet\", \"sister\", \"mr\", \"old\", \"good\", \"valentine\", \"mccomas\", \"father\", \"chair\", \"crampton\", \"clandon\", \"twentieth\", \"man\", \"shillings\", \"mrs\", \"come\", \"door\", \"oh\", \"look\", \"gloria\", \"mother\", \"phil\", \"like\", \"ve\", \"yes\", \"know\", \"thank\", \"sir\"], \"Freq\": [205.0, 141.0, 238.0, 228.0, 77.0, 134.0, 243.0, 225.0, 23.0, 259.0, 315.0, 59.0, 39.0, 18.0, 13.0, 13.0, 14.0, 42.0, 12.0, 19.0, 27.0, 64.0, 12.0, 23.0, 100.0, 20.0, 41.0, 18.0, 7.0, 13.0, 17.878047025641326, 7.821436519444868, 6.145522923610319, 6.145362464450752, 5.307249971600738, 5.307124196012479, 5.307071598948299, 5.307038821067722, 5.3069603066095965, 69.95621143972744, 4.469090979896883, 4.4690715418514255, 4.469045624457481, 4.469042194214165, 4.469018563649098, 4.46899912560364, 4.468994170807739, 4.468931283013609, 4.468902316514495, 4.468781495722137, 4.468682780942261, 4.468639712331736, 182.7514967672914, 9.49863188286522, 3.631354670397208, 3.6311816336788154, 3.6310867302804017, 3.6310775829648922, 3.631050141018363, 3.6310505221565093, 123.70901454254894, 17.66551524798285, 184.0341455444879, 22.39710597878646, 13.529823336956104, 8.659709471454448, 54.03494900061427, 45.45118435390315, 20.88337009442, 79.89871528315024, 25.75000416864649, 35.94084238263288, 26.426024324973174, 9.513436813017735, 13.848985371511626, 35.88273558540984, 7.822741536457591, 22.48330418193991, 107.61881338239155, 20.035595368424673, 55.808180505018804, 12.850243350343547, 87.94723086101924, 29.87641917719377, 30.75227768635658, 71.12850090440408, 24.04475856221552, 70.0787305836649, 71.27550436285594, 25.839602124064395, 22.135076552352192, 23.364491002387147, 30.97618872450918, 35.29395947530989, 22.214827422623863, 13.115736751043261, 5.888449999376044, 5.085108013820916, 5.084781640435045, 5.082971168799674, 4.282313444057056, 4.282179719507934, 4.282154073703993, 4.281925703926041, 4.281610016291813, 4.2813590537818165, 3.479674580959982, 3.4795448254043273, 3.479550931548123, 3.4795161265284884, 3.4794617818487086, 3.47926913301196, 3.4791607489595893, 3.478734845429852, 3.4786908811945243, 3.478602952723869, 7.495185872708561, 10.708021969804483, 2.676470594254633, 2.6764266300193054, 2.6763848029343063, 2.67636556858135, 2.6763527456793796, 2.676345723614015, 2.6763206884244535, 8.298475345427047, 5.889144267925594, 17.134389043160255, 7.494672956629737, 144.8354935385593, 5.085537275729741, 13.118991325686272, 123.95233521044254, 133.58265210982862, 148.02791252264612, 12.316415661177482, 50.85833545826699, 24.360663396186176, 20.343982167286377, 31.589470577658478, 6.692762861794658, 6.691485456512636, 10.708218587634697, 10.708258888183748, 68.53499647716194, 9.901110943200875, 23.554398399596135, 27.56502355507954, 43.62762560238801, 22.754642552292115, 18.73995436872717, 17.937925814702457, 21.145446513624382, 12.313523791475925, 9.904769133948768, 34.80738637577789, 16.331475098285193, 16.327872473445836, 14.7248399763253, 30.775511839886086, 17.12693344158593, 14.724876613188073, 18.730331086105437, 14.721744161420974, 20.339848307936812, 18.736602095783432, 15.522821378242345, 14.721938336793672, 16.238377166292473, 4.687770190223704, 3.946030119805725, 3.2072323258310518, 3.2070670245331914, 3.2069223046551167, 3.2066935259257057, 3.2065891023011073, 3.206432250217685, 3.2062522169561882, 3.2050080159684917, 19.493251091309585, 6.168369365582667, 2.4671019390868643, 2.467074641624832, 2.467056226670287, 2.4670191801146717, 2.4669739009911424, 2.4669665350093246, 2.4669223391184154, 2.4668982913542443, 2.466883559390608, 2.46683568050879, 2.4667217244371327, 2.466440300602374, 2.466406720391144, 2.466402387460663, 2.4649467394654807, 2.46489604417885, 2.464854014753181, 2.4648310502216306, 10.609594511542978, 10.610072000482013, 6.169633281404053, 8.388298635425926, 8.358342487250619, 64.09005245914314, 89.64496930341754, 3.9403032855886306, 11.272440150464949, 20.187168174712742, 26.78791287374645, 4.688223414752045, 6.1697030415848015, 5.42908779991976, 6.149495120406256, 36.35962321538896, 15.63897944030571, 16.426765129655095, 59.475599352299945, 32.85111768361822, 19.14950065133634, 15.746477712373819, 38.67794553718699, 38.3375123887902, 6.168775794461809, 15.437789345855009, 6.1694989605591335, 30.2322910343944, 13.951926093254352, 9.114652036411869, 18.309641803463055, 11.176497803990387, 27.142131673762446, 12.570482132321814, 11.249405425440424, 13.355851779634843, 9.775601584955236, 11.265247485866041, 10.181605836911174, 9.671255953105298, 10.234588044250044], \"Total\": [205.0, 141.0, 238.0, 228.0, 77.0, 134.0, 243.0, 225.0, 23.0, 259.0, 315.0, 59.0, 39.0, 18.0, 13.0, 13.0, 14.0, 42.0, 12.0, 19.0, 27.0, 64.0, 12.0, 23.0, 100.0, 20.0, 41.0, 18.0, 7.0, 13.0, 18.396336522048554, 8.33738932156811, 6.660941342555618, 6.660911465237159, 5.822661629698959, 5.8226621142395345, 5.822666753929083, 5.82263237813681, 5.8226515156305565, 77.60145162954474, 4.9844040765528925, 4.984409587951951, 4.9844035014847785, 4.984399919386925, 4.9844022181761005, 4.984387363112107, 4.9844038565752475, 4.984403963731907, 4.984389753039655, 4.984393699943666, 4.984378982519996, 4.98436210970689, 205.96815563244334, 10.816483382105021, 4.1461822035750995, 4.146172611618832, 4.14615745987495, 4.1461536337111875, 4.146152893630913, 4.146154656609761, 141.3324114682554, 20.780205313412186, 238.95046824796736, 27.12729075454485, 17.272853341901236, 10.781454066243803, 85.64004479441712, 71.92568015618836, 29.425869721418735, 143.52534480665454, 38.64115601649794, 57.85154120298334, 40.751814498128596, 12.297484781310528, 19.59411792953129, 64.13141327115117, 9.87992913720072, 36.401190519839375, 315.1223252573376, 34.20883723823291, 135.79542932279577, 18.988979627316027, 259.86739535963807, 61.96260204293405, 65.7177029927518, 225.313127149241, 46.83777184806767, 228.25869636424437, 243.25312957517767, 53.71088844714611, 47.78108188484071, 53.98733295986825, 100.14416598623922, 134.1913983102309, 59.6992326454601, 13.645346611714848, 6.416115878993699, 5.612869739728927, 5.612868109615544, 5.612954583260916, 4.809570639755168, 4.80961596646886, 4.8095893992614815, 4.80960846727197, 4.809627470426528, 4.8096358041912435, 4.006330810953821, 4.006324304278209, 4.006338547431831, 4.006339922951084, 4.006330742726589, 4.006319506336393, 4.006354014172762, 4.0063360706152755, 4.006370155174941, 4.0063631813004985, 8.859946874654788, 12.812955052620131, 3.2030719479533487, 3.203073145313627, 3.203065450518795, 3.203065721661241, 3.2030698120592227, 3.203070806194919, 3.2030753120273494, 10.306476270646954, 7.253449994877449, 23.332513933535186, 9.698243568723104, 243.25312957517767, 6.450231651519774, 18.282279294564965, 225.313127149241, 259.86739535963807, 315.1223252573376, 18.121610180176383, 100.14416598623922, 41.42627867806474, 33.924207924511556, 58.46865322636347, 8.89498649039026, 8.895013525959065, 15.970424961024337, 16.808699550225395, 228.25869636424437, 15.461225129866829, 52.63529412106698, 65.7177029927518, 135.79542932279577, 56.48249688263593, 42.380444381602494, 40.48076475966089, 53.98733295986825, 23.542629476674467, 16.648040225052913, 134.1913983102309, 39.105308069419664, 39.22609548479805, 33.11817008786354, 143.52534480665454, 46.5379272255135, 34.69573017923941, 61.96260204293405, 36.2848549154407, 85.64004479441712, 71.92568015618836, 41.76490985961729, 36.4900088092398, 238.95046824796736, 5.236054642479241, 4.495800249679765, 3.7552051900785166, 3.7552249944753653, 3.755233934327861, 3.755265985676526, 3.755272077126451, 3.7552689571222797, 3.755305524676526, 3.755460189696605, 23.29098750276082, 7.5194469541338815, 3.0147653744181913, 3.014770995850656, 3.0147722157168326, 3.0147755531896356, 3.014780561298285, 3.014782582934286, 3.0147894688645795, 3.0147895236664812, 3.014791148458772, 3.0147888031509966, 3.0147988091617552, 3.0148387672493535, 3.01482117017145, 3.0148430299400406, 3.0150067863978904, 3.015010088828797, 3.015014861931909, 3.015019303427362, 13.673341675288883, 14.47585594749707, 8.356668359234739, 12.150654693885986, 12.258751211473273, 134.1913983102309, 228.25869636424437, 5.333946809461922, 19.312995160630535, 39.86007865647923, 59.6992326454601, 6.911659821875498, 9.963203305163482, 8.454576978422468, 10.8741624233935, 135.79542932279577, 42.380444381602494, 46.5379272255135, 315.1223252573376, 143.52534480665454, 64.13141327115117, 47.78108188484071, 238.95046824796736, 259.86739535963807, 11.535766892497337, 56.48249688263593, 11.639921363535672, 225.313127149241, 53.71088844714611, 24.312827872418676, 100.14416598623922, 36.61411523186396, 243.25312957517767, 52.63529412106698, 40.48076475966089, 61.96260204293405, 36.69424741255173, 85.64004479441712, 58.46865322636347, 41.77255706434954, 205.96815563244334], \"Category\": [\"Default\", \"Default\", \"Default\", \"Default\", \"Default\", \"Default\", \"Default\", \"Default\", \"Default\", \"Default\", \"Default\", \"Default\", \"Default\", \"Default\", \"Default\", \"Default\", \"Default\", \"Default\", \"Default\", \"Default\", \"Default\", \"Default\", \"Default\", \"Default\", \"Default\", \"Default\", \"Default\", \"Default\", \"Default\", \"Default\", \"Topic1\", \"Topic1\", \"Topic1\", \"Topic1\", \"Topic1\", \"Topic1\", \"Topic1\", \"Topic1\", \"Topic1\", \"Topic1\", \"Topic1\", \"Topic1\", \"Topic1\", \"Topic1\", \"Topic1\", \"Topic1\", \"Topic1\", \"Topic1\", \"Topic1\", \"Topic1\", \"Topic1\", \"Topic1\", \"Topic1\", \"Topic1\", \"Topic1\", \"Topic1\", \"Topic1\", \"Topic1\", \"Topic1\", \"Topic1\", \"Topic1\", \"Topic1\", \"Topic1\", \"Topic1\", \"Topic1\", \"Topic1\", \"Topic1\", \"Topic1\", \"Topic1\", \"Topic1\", \"Topic1\", \"Topic1\", \"Topic1\", \"Topic1\", \"Topic1\", \"Topic1\", \"Topic1\", \"Topic1\", \"Topic1\", \"Topic1\", \"Topic1\", \"Topic1\", \"Topic1\", \"Topic1\", \"Topic1\", \"Topic1\", \"Topic1\", \"Topic1\", \"Topic1\", \"Topic1\", \"Topic1\", \"Topic1\", \"Topic1\", \"Topic1\", \"Topic1\", \"Topic2\", \"Topic2\", \"Topic2\", \"Topic2\", \"Topic2\", \"Topic2\", \"Topic2\", \"Topic2\", \"Topic2\", \"Topic2\", \"Topic2\", \"Topic2\", \"Topic2\", \"Topic2\", \"Topic2\", \"Topic2\", \"Topic2\", \"Topic2\", \"Topic2\", \"Topic2\", \"Topic2\", \"Topic2\", \"Topic2\", \"Topic2\", \"Topic2\", \"Topic2\", \"Topic2\", \"Topic2\", \"Topic2\", \"Topic2\", \"Topic2\", \"Topic2\", \"Topic2\", \"Topic2\", \"Topic2\", \"Topic2\", \"Topic2\", \"Topic2\", \"Topic2\", \"Topic2\", \"Topic2\", \"Topic2\", \"Topic2\", \"Topic2\", \"Topic2\", \"Topic2\", \"Topic2\", \"Topic2\", \"Topic2\", \"Topic2\", \"Topic2\", \"Topic2\", \"Topic2\", \"Topic2\", \"Topic2\", \"Topic2\", \"Topic2\", \"Topic2\", \"Topic2\", \"Topic2\", \"Topic2\", \"Topic2\", \"Topic2\", \"Topic2\", \"Topic2\", \"Topic2\", \"Topic2\", \"Topic2\", \"Topic2\", \"Topic2\", \"Topic2\", \"Topic2\", \"Topic2\", \"Topic2\", \"Topic3\", \"Topic3\", \"Topic3\", \"Topic3\", \"Topic3\", \"Topic3\", \"Topic3\", \"Topic3\", \"Topic3\", \"Topic3\", \"Topic3\", \"Topic3\", \"Topic3\", \"Topic3\", \"Topic3\", \"Topic3\", \"Topic3\", \"Topic3\", \"Topic3\", \"Topic3\", \"Topic3\", \"Topic3\", \"Topic3\", \"Topic3\", \"Topic3\", \"Topic3\", \"Topic3\", \"Topic3\", \"Topic3\", \"Topic3\", \"Topic3\", \"Topic3\", \"Topic3\", \"Topic3\", \"Topic3\", \"Topic3\", \"Topic3\", \"Topic3\", \"Topic3\", \"Topic3\", \"Topic3\", \"Topic3\", \"Topic3\", \"Topic3\", \"Topic3\", \"Topic3\", \"Topic3\", \"Topic3\", \"Topic3\", \"Topic3\", \"Topic3\", \"Topic3\", \"Topic3\", \"Topic3\", \"Topic3\", \"Topic3\", \"Topic3\", \"Topic3\", \"Topic3\", \"Topic3\", \"Topic3\", \"Topic3\", \"Topic3\", \"Topic3\", \"Topic3\", \"Topic3\", \"Topic3\", \"Topic3\", \"Topic3\", \"Topic3\", \"Topic3\"], \"logprob\": [30.0, 29.0, 28.0, 27.0, 26.0, 25.0, 24.0, 23.0, 22.0, 21.0, 20.0, 19.0, 18.0, 17.0, 16.0, 15.0, 14.0, 13.0, 12.0, 11.0, 10.0, 9.0, 8.0, 7.0, 6.0, 5.0, 4.0, 3.0, 2.0, 1.0, -5.9033, -6.73, -6.9712, -6.9712, -7.1178, -7.1179, -7.1179, -7.1179, -7.1179, -4.539, -7.2897, -7.2897, -7.2897, -7.2897, -7.2897, -7.2897, -7.2897, -7.2898, -7.2898, -7.2898, -7.2898, -7.2898, -3.5788, -6.5358, -7.4973, -7.4973, -7.4974, -7.4974, -7.4974, -7.4974, -3.969, -5.9153, -3.5718, -5.678, -6.182, -6.6282, -4.7973, -4.9703, -5.7479, -4.4061, -5.5385, -5.205, -5.5126, -6.5342, -6.1587, -5.2066, -6.7299, -5.6741, -4.1083, -5.7894, -4.765, -6.2335, -4.3102, -5.3898, -5.3609, -4.5224, -5.607, -4.5373, -4.5203, -5.535, -5.6897, -5.6357, -5.3537, -5.2232, -5.6861, -5.9912, -6.7921, -6.9387, -6.9388, -6.9392, -7.1106, -7.1106, -7.1106, -7.1107, -7.1107, -7.1108, -7.3181, -7.3182, -7.3182, -7.3182, -7.3182, -7.3182, -7.3183, -7.3184, -7.3184, -7.3184, -6.5508, -6.1941, -7.5806, -7.5806, -7.5806, -7.5806, -7.5806, -7.5806, -7.5806, -6.449, -6.7919, -5.724, -6.5509, -3.5895, -6.9387, -5.991, -3.7452, -3.6703, -3.5677, -6.0541, -4.636, -5.3721, -5.5523, -5.1122, -6.664, -6.6642, -6.194, -6.194, -4.3377, -6.2724, -5.4057, -5.2485, -4.7894, -5.4403, -5.6344, -5.6781, -5.5136, -6.0544, -6.272, -5.0152, -5.772, -5.7722, -5.8755, -5.1383, -5.7244, -5.8755, -5.6349, -5.8757, -5.5525, -5.6346, -5.8227, -5.8757, -5.7777, -6.677, -6.8493, -7.0566, -7.0566, -7.0567, -7.0568, -7.0568, -7.0568, -7.0569, -7.0573, -5.2519, -6.4026, -7.319, -7.319, -7.319, -7.319, -7.319, -7.319, -7.319, -7.319, -7.319, -7.3191, -7.3191, -7.3192, -7.3192, -7.3192, -7.3198, -7.3199, -7.3199, -7.3199, -5.8602, -5.8602, -6.4024, -6.0952, -6.0987, -4.0617, -3.7261, -6.8507, -5.7996, -5.217, -4.9341, -6.677, -6.4024, -6.5302, -6.4056, -4.6285, -5.4722, -5.4231, -4.1364, -4.73, -5.2697, -5.4654, -4.5667, -4.5756, -6.4025, -5.4852, -6.4024, -4.8131, -5.5864, -6.0121, -5.3146, -5.8082, -4.9209, -5.6907, -5.8017, -5.6301, -5.9421, -5.8003, -5.9014, -5.9528, -5.8962], \"loglift\": [30.0, 29.0, 28.0, 27.0, 26.0, 25.0, 24.0, 23.0, 22.0, 21.0, 20.0, 19.0, 18.0, 17.0, 16.0, 15.0, 14.0, 13.0, 12.0, 11.0, 10.0, 9.0, 8.0, 7.0, 6.0, 5.0, 4.0, 3.0, 2.0, 1.0, 0.8341, 0.7988, 0.7821, 0.7821, 0.77, 0.77, 0.7699, 0.7699, 0.7699, 0.7589, 0.7535, 0.7535, 0.7535, 0.7535, 0.7535, 0.7535, 0.7535, 0.7535, 0.7535, 0.7535, 0.7534, 0.7534, 0.7431, 0.7327, 0.7301, 0.73, 0.73, 0.73, 0.73, 0.73, 0.7295, 0.7003, 0.6015, 0.6711, 0.6184, 0.6435, 0.4021, 0.4037, 0.5197, 0.2769, 0.4568, 0.3867, 0.4295, 0.606, 0.5156, 0.282, 0.6292, 0.3808, -0.2117, 0.3277, -0.0266, 0.4722, -0.2208, 0.1332, 0.1033, -0.2903, 0.1959, -0.3182, -0.3649, 0.131, 0.0932, 0.0251, -0.3107, -0.4729, -0.1259, 1.0449, 0.9987, 0.9858, 0.9857, 0.9853, 0.9684, 0.9684, 0.9684, 0.9683, 0.9682, 0.9682, 0.9436, 0.9435, 0.9435, 0.9435, 0.9435, 0.9435, 0.9434, 0.9433, 0.9433, 0.9433, 0.9172, 0.905, 0.9049, 0.9049, 0.9049, 0.9049, 0.9049, 0.9048, 0.9048, 0.8678, 0.8761, 0.7757, 0.8268, 0.566, 0.8468, 0.7526, 0.4869, 0.4191, 0.3289, 0.6983, 0.4069, 0.5536, 0.5732, 0.4688, 0.8, 0.7999, 0.6848, 0.6336, -0.1186, 0.6388, 0.2804, 0.2157, -0.051, 0.1753, 0.2685, 0.2706, 0.1472, 0.4364, 0.5652, -0.2649, 0.2113, 0.208, 0.274, -0.4553, 0.0849, 0.2274, -0.1119, 0.1824, -0.3531, -0.2606, 0.0948, 0.1768, -1.6044, 1.3169, 1.2971, 1.2698, 1.2698, 1.2697, 1.2696, 1.2696, 1.2696, 1.2695, 1.2691, 1.2496, 1.2295, 1.2271, 1.2271, 1.2271, 1.227, 1.227, 1.227, 1.227, 1.227, 1.227, 1.227, 1.2269, 1.2268, 1.2268, 1.2268, 1.2261, 1.2261, 1.2261, 1.2261, 1.1739, 1.1169, 1.1241, 1.057, 1.0446, 0.6886, 0.4929, 1.1247, 0.8891, 0.7472, 0.6262, 1.0394, 0.9483, 0.9846, 0.8575, 0.1099, 0.4306, 0.3862, -0.2398, -0.047, 0.2189, 0.3175, -0.3934, -0.4862, 0.8016, 0.1304, 0.7927, -0.581, 0.0796, 0.4464, -0.2716, 0.2409, -0.7655, -0.0045, 0.147, -0.107, 0.1048, -0.6009, -0.3204, -0.0355, -1.5744]}, \"token.table\": {\"Topic\": [2, 2, 1, 2, 3, 1, 2, 1, 2, 3, 1, 2, 3, 1, 3, 1, 2, 3, 1, 2, 3, 3, 1, 2, 1, 3, 3, 1, 2, 3, 1, 2, 3, 2, 3, 1, 2, 3, 3, 2, 2, 1, 2, 3, 1, 1, 1, 2, 3, 3, 1, 3, 1, 2, 1, 2, 3, 1, 2, 3, 1, 3, 1, 2, 3, 1, 2, 3, 2, 1, 2, 3, 1, 1, 2, 3, 2, 1, 2, 1, 2, 3, 1, 1, 2, 2, 3, 1, 2, 3, 3, 1, 2, 2, 1, 2, 3, 1, 2, 3, 1, 1, 2, 3, 1, 2, 3, 1, 2, 3, 2, 1, 2, 1, 2, 3, 1, 1, 2, 3, 3, 2, 3, 1, 1, 2, 3, 1, 2, 3, 1, 2, 3, 1, 2, 3, 1, 2, 3, 1, 2, 3, 1, 2, 3, 1, 2, 3, 1, 2, 3, 1, 2, 3, 1, 2, 3, 1, 2, 3, 1, 2, 3, 1, 2, 3, 2, 3, 1, 2, 3, 3, 2, 3, 3, 3, 1, 2, 3, 1, 2, 3, 1, 2, 3, 1, 2, 3, 1, 2, 3, 1, 2, 3, 3, 1, 2, 3, 1, 2, 3, 2, 3, 1, 2, 1, 1, 3, 1, 1, 1, 2, 3, 1, 2, 3, 2, 3, 3, 2, 1, 2, 3, 2, 1, 2, 3, 2, 2, 3, 3, 2, 2, 1, 2, 1, 2, 3, 1, 2, 3, 1, 2, 3, 1, 2, 3, 3, 3, 1, 1, 1, 3, 1, 2, 1, 1, 2, 1, 2, 1, 1, 2, 3, 1, 2, 3, 2, 1, 2, 3, 1, 2, 3, 1, 2, 3, 2, 1, 2, 3, 1, 2, 3, 3, 3, 1, 1, 2, 3, 2, 3, 1, 2, 2, 2, 1, 2, 3, 1, 2, 3, 1, 2, 3, 1, 2, 3, 1, 1, 2, 3, 2, 1, 2, 1, 3, 1, 2, 3, 1, 1, 2, 3, 1, 2, 3, 1, 2, 3, 1, 2, 3], \"Freq\": [0.9366026990055256, 0.8908101709060963, 0.2248457602673944, 0.7869601609358804, 0.7988697538154138, 0.8320634056434421, 0.092451489515938, 0.10939555007206178, 0.7110710754684015, 0.16409332510809269, 0.21725340260324927, 0.579342406941998, 0.19311413564733268, 0.8587130624685064, 0.6633853928529447, 0.18784722431127976, 0.6887731558080258, 0.1252314828741865, 0.42476138911788874, 0.5097136669414665, 0.08495227782357774, 0.6633977558850699, 0.9020449815058526, 0.09020449815058526, 0.8025071957866425, 0.7988768692082656, 0.7988849835894343, 0.2365582577465843, 0.11827912887329214, 0.5913956443664607, 0.32338963814331745, 0.6467792762866349, 0.6633982007429158, 0.532633340725571, 0.4565428634790609, 0.4604332746802002, 0.20928785212736373, 0.33486056340378195, 0.8897192441512319, 0.8316750703143058, 0.9366008783901639, 0.33863424797179437, 0.5156476048661414, 0.14622842526054755, 0.9007735831070939, 0.8587153097824594, 0.48407316936462796, 0.26065478350403043, 0.26065478350403043, 0.66334567003484, 0.18747843496041125, 0.749913739841645, 0.8025099123938296, 0.7488138656174376, 0.23797200896165477, 0.6544230246445506, 0.11898600448082738, 0.7700340633317223, 0.06695948376797585, 0.16321374168444114, 0.9647429378648502, 0.6633844548914296, 0.35690526490013913, 0.4078917313144447, 0.22943909886437516, 0.042935062323203946, 0.12880518696961182, 0.8157661841408749, 0.8316652432221059, 0.3066695863727239, 0.302288592281685, 0.3942894681935022, 0.8587137467194458, 0.16452220288770852, 0.4524360579411984, 0.37017495649734417, 0.9365998947121804, 0.8025031909730475, 0.8316672324540568, 0.2447231327439148, 0.08157437758130492, 0.6525950206504394, 0.8025058464762891, 0.8025031737205209, 0.8316718264170753, 0.7762109754993719, 0.19405274387484298, 0.5613473672845787, 0.14033684182114467, 0.296266666066861, 0.6633941853506592, 0.8025038248720611, 0.9366005282736859, 0.8316638021769329, 0.8105204000104715, 0.1157886285729245, 0.1157886285729245, 0.6043758373234953, 0.1648297738154987, 0.2197730317539983, 0.9647497578163543, 0.2918770258947783, 0.5960868838696177, 0.11099548872054951, 0.5124069538971918, 0.2989040564400286, 0.19215260771144693, 0.2793420501305225, 0.36529345017068326, 0.3438056001606431, 0.74881051184875, 0.6846076121593833, 0.31597274407356146, 0.7145001398047058, 0.1531071728152941, 0.1531071728152941, 0.8025031555560228, 0.7136577507754802, 0.13593480967152002, 0.13593480967152002, 0.6633476973793195, 0.8316685291991796, 0.6633962285923265, 0.8587138181784587, 0.290754088933499, 0.547301814463057, 0.17103181701970532, 0.37631636729251056, 0.12543878909750353, 0.5017551563900141, 0.10036932594577738, 0.3011079778373321, 0.6022159556746642, 0.43098381058411656, 0.38309672051921473, 0.21549190529205828, 0.4841630114115111, 0.30663657389395704, 0.20980397161165482, 0.6380084008576838, 0.19631027718697963, 0.14723270789023474, 0.4096780682807824, 0.3004305834059071, 0.3004305834059071, 0.43232985507177546, 0.43232985507177546, 0.14410995169059182, 0.17143459172013648, 0.72859701481058, 0.08571729586006824, 0.2588930385170126, 0.15533582311020758, 0.5695646847374278, 0.6728577164953149, 0.28467057236340243, 0.05175828588425499, 0.2072416312293237, 0.0690805437431079, 0.7598859811741869, 0.1802013906408894, 0.6006713021362979, 0.2402685208545192, 0.31868279544018585, 0.4072057941735708, 0.2655689962001549, 0.24690027620565597, 0.6584007365484159, 0.5573928431091343, 0.21598972670478955, 0.2299245477825179, 0.663400305612823, 0.7488087984639913, 0.7988775329421267, 0.6633958710613981, 0.6633993027719751, 0.6222824708107089, 0.241998738648609, 0.13828499351349086, 0.3229772015883131, 0.45596781400703024, 0.2469825659204747, 0.41238501383491977, 0.3240167965845798, 0.2651046517510198, 0.31511701470004283, 0.5503452087719058, 0.1331480343802998, 0.11286749391925255, 0.7900724574347678, 0.7988910986611822, 0.8131744155681169, 0.08131744155681168, 0.16263488311362337, 0.6634000371814005, 0.30955372881391513, 0.5092658119196669, 0.17974087479517653, 0.188766307591452, 0.4483199805296985, 0.377532615182904, 0.13298850382211172, 0.7979310229326703, 0.2062229089038362, 0.7217801811634267, 0.8025022682061655, 0.21940503435394607, 0.804485125964469, 0.8025054616887976, 0.8587181321586294, 0.2717339967589127, 0.4446556310600389, 0.2717339967589127, 0.26082148662826443, 0.26082148662826443, 0.4769307184059693, 0.7488134026823767, 0.6634015426112464, 0.663348423964728, 0.7488169616165664, 0.13786542965157583, 0.827192577909455, 0.6633892649381462, 0.7488148614405933, 0.42602586086438393, 0.3889801338326984, 0.16670577164258502, 0.7488131455880532, 0.9366015029411204, 0.663396240651336, 0.6633963871398355, 0.9351452051612631, 0.8908099121932366, 0.15503319167837712, 0.7751659583918855, 0.257733699937019, 0.257733699937019, 0.515467399874038, 0.8884868606901023, 0.06311655294519852, 0.048551194573229636, 0.3678444227938725, 0.09196110569846813, 0.5517666341908087, 0.42272867017886445, 0.45292357519164045, 0.15097452506388015, 0.9549174600730541, 0.7988368531320693, 0.9007776234999654, 0.8025032481436265, 0.9784556821096672, 0.7988781650734491, 0.8662089584063082, 0.1443681597343847, 0.9595329774639031, 0.8347668083267685, 0.18550373518372634, 0.8025048262229382, 0.748814848688385, 0.9647451697478266, 0.625645804145076, 0.26416156175014316, 0.11122592073690239, 0.5846442502771579, 0.29232212513857897, 0.11692885005543158, 0.9527057369755048, 0.11966491393605752, 0.11966491393605752, 0.7179894836163451, 0.33243568819154745, 0.4091516162357507, 0.2557197601473442, 0.8097224068012535, 0.10121530085015669, 0.10121530085015669, 0.9366012122485182, 0.478783234868541, 0.2872699409211246, 0.2393916174342705, 0.4717146003021299, 0.4260648002728915, 0.10651620006822288, 0.7988868854498887, 0.6633466472263008, 0.9647486953186388, 0.3242522279216451, 0.589549505312082, 0.0884324257968123, 0.4334345558986558, 0.5201214670783869, 0.8025034547600546, 0.7488074950151486, 0.9366027782898083, 0.8907964470104776, 0.3427240514038611, 0.46965888525714294, 0.18722887993359077, 0.38153119323033513, 0.35427896514245405, 0.2725222808788108, 0.8773642132884117, 0.09198173203830123, 0.035377589245500475, 0.44095532522554864, 0.41339561739895186, 0.16535824695958073, 0.9647493475968719, 0.46588095083428305, 0.4110714272067203, 0.10961904725512542, 0.7488160648393861, 0.2248450768695553, 0.7869577690434435, 0.2893660931734477, 0.7234152329336192, 0.8109914181649034, 0.03686324628022288, 0.14745298512089153, 0.9647495856104187, 0.05518273431871531, 0.6621928118245837, 0.27591367159357655, 0.07804600858218957, 0.8585060944040853, 0.07804600858218957, 0.6305461438002454, 0.23353560881490573, 0.12844458484819815, 0.3685139494280085, 0.18425697471400426, 0.45226711975255596], \"Term\": [\"accepted\", \"advice\", \"ah\", \"ah\", \"alive\", \"aside\", \"aside\", \"ask\", \"ask\", \"ask\", \"away\", \"away\", \"away\", \"ball\", \"began\", \"believe\", \"believe\", \"believe\", \"better\", \"better\", \"better\", \"biscuit\", \"bohun\", \"bohun\", \"boon\", \"bow\", \"brown\", \"cabinet\", \"cabinet\", \"cabinet\", \"care\", \"care\", \"celebrated\", \"century\", \"century\", \"chair\", \"chair\", \"chair\", \"chalkstones\", \"chapter\", \"chemical\", \"clandon\", \"clandon\", \"clandon\", \"claret\", \"columbine\", \"come\", \"come\", \"come\", \"communication\", \"complexion\", \"complexion\", \"coolly\", \"counsel\", \"course\", \"course\", \"course\", \"crampton\", \"crampton\", \"crampton\", \"cucumber\", \"cut\", \"dear\", \"dear\", \"dear\", \"dentist\", \"dentist\", \"dentist\", \"depths\", \"dolly\", \"dolly\", \"dolly\", \"domino\", \"door\", \"door\", \"door\", \"dread\", \"dressing\", \"duel\", \"england\", \"england\", \"england\", \"entrance\", \"evening\", \"experience\", \"fashioned\", \"fashioned\", \"father\", \"father\", \"father\", \"fingers\", \"firmly\", \"fool\", \"frightened\", \"garden\", \"garden\", \"garden\", \"gentleman\", \"gentleman\", \"gentleman\", \"ginger\", \"gloria\", \"gloria\", \"gloria\", \"goes\", \"goes\", \"goes\", \"good\", \"good\", \"good\", \"gun\", \"hands\", \"hands\", \"head\", \"head\", \"head\", \"hot\", \"hotel\", \"hotel\", \"hotel\", \"howled\", \"idiot\", \"instruments\", \"irish\", \"know\", \"know\", \"know\", \"lady\", \"lady\", \"lady\", \"landlord\", \"landlord\", \"landlord\", \"let\", \"let\", \"let\", \"like\", \"like\", \"like\", \"ll\", \"ll\", \"ll\", \"look\", \"look\", \"look\", \"looks\", \"looks\", \"looks\", \"love\", \"love\", \"love\", \"lunch\", \"lunch\", \"lunch\", \"ma\", \"ma\", \"ma\", \"maid\", \"maid\", \"maid\", \"makes\", \"makes\", \"makes\", \"man\", \"man\", \"man\", \"manners\", \"manners\", \"mccomas\", \"mccomas\", \"mccomas\", \"memory\", \"mere\", \"minds\", \"miniature\", \"mirror\", \"miss\", \"miss\", \"miss\", \"mother\", \"mother\", \"mother\", \"mr\", \"mr\", \"mr\", \"mrs\", \"mrs\", \"mrs\", \"need\", \"need\", \"nervously\", \"nose\", \"nose\", \"nose\", \"nuts\", \"oh\", \"oh\", \"oh\", \"old\", \"old\", \"old\", \"operating\", \"operating\", \"opinion\", \"opinion\", \"parapet\", \"parlor\", \"parlor\", \"party\", \"passes\", \"phil\", \"phil\", \"phil\", \"philip\", \"philip\", \"philip\", \"prig\", \"probe\", \"proceed\", \"proofs\", \"reason\", \"reason\", \"resort\", \"returning\", \"right\", \"right\", \"right\", \"scientific\", \"scorn\", \"search\", \"secretly\", \"sensible\", \"sentimental\", \"sex\", \"sex\", \"shillings\", \"shillings\", \"shillings\", \"sir\", \"sir\", \"sir\", \"sister\", \"sister\", \"sister\", \"sits\", \"sits\", \"sits\", \"soap\", \"socialism\", \"society\", \"sophronia\", \"speaker\", \"spoiled\", \"steps\", \"steps\", \"stick\", \"stops\", \"stops\", \"stranger\", \"stupid\", \"syphon\", \"table\", \"table\", \"table\", \"takes\", \"takes\", \"takes\", \"tea\", \"teeth\", \"teeth\", \"teeth\", \"tell\", \"tell\", \"tell\", \"terrace\", \"terrace\", \"terrace\", \"terror\", \"thank\", \"thank\", \"thank\", \"think\", \"think\", \"think\", \"toothache\", \"town\", \"tumbler\", \"turns\", \"turns\", \"turns\", \"twentieth\", \"twentieth\", \"umbrella\", \"unhappy\", \"unsympathetic\", \"unwise\", \"valentine\", \"valentine\", \"valentine\", \"ve\", \"ve\", \"ve\", \"waiter\", \"waiter\", \"waiter\", \"want\", \"want\", \"want\", \"warningly\", \"way\", \"way\", \"way\", \"weak\", \"weakness\", \"weakness\", \"weeks\", \"weeks\", \"william\", \"william\", \"william\", \"wine\", \"woman\", \"woman\", \"woman\", \"women\", \"women\", \"women\", \"yes\", \"yes\", \"yes\", \"young\", \"young\", \"young\"]}, \"R\": 30, \"lambda.step\": 0.01, \"plot.opts\": {\"xlab\": \"PC1\", \"ylab\": \"PC2\"}, \"topic.order\": [1, 2, 3]};\n",
       "\n",
       "function LDAvis_load_lib(url, callback){\n",
       "  var s = document.createElement('script');\n",
       "  s.src = url;\n",
       "  s.async = true;\n",
       "  s.onreadystatechange = s.onload = callback;\n",
       "  s.onerror = function(){console.warn(\"failed to load library \" + url);};\n",
       "  document.getElementsByTagName(\"head\")[0].appendChild(s);\n",
       "}\n",
       "\n",
       "if(typeof(LDAvis) !== \"undefined\"){\n",
       "   // already loaded: just create the visualization\n",
       "   !function(LDAvis){\n",
       "       new LDAvis(\"#\" + \"ldavis_el1290113092565928686695382\", ldavis_el1290113092565928686695382_data);\n",
       "   }(LDAvis);\n",
       "}else if(typeof define === \"function\" && define.amd){\n",
       "   // require.js is available: use it to load d3/LDAvis\n",
       "   require.config({paths: {d3: \"https://d3js.org/d3.v5\"}});\n",
       "   require([\"d3\"], function(d3){\n",
       "      window.d3 = d3;\n",
       "      LDAvis_load_lib(\"https://cdn.jsdelivr.net/gh/bmabey/pyLDAvis@3.4.0/pyLDAvis/js/ldavis.v3.0.0.js\", function(){\n",
       "        new LDAvis(\"#\" + \"ldavis_el1290113092565928686695382\", ldavis_el1290113092565928686695382_data);\n",
       "      });\n",
       "    });\n",
       "}else{\n",
       "    // require.js not available: dynamically load d3 & LDAvis\n",
       "    LDAvis_load_lib(\"https://d3js.org/d3.v5.js\", function(){\n",
       "         LDAvis_load_lib(\"https://cdn.jsdelivr.net/gh/bmabey/pyLDAvis@3.4.0/pyLDAvis/js/ldavis.v3.0.0.js\", function(){\n",
       "                 new LDAvis(\"#\" + \"ldavis_el1290113092565928686695382\", ldavis_el1290113092565928686695382_data);\n",
       "            })\n",
       "         });\n",
       "}\n",
       "</script>"
      ],
      "text/plain": [
       "PreparedData(topic_coordinates=              x         y  topics  cluster       Freq\n",
       "topic                                                \n",
       "0      0.080005  0.029042       1        1  42.203696\n",
       "1     -0.012069 -0.076906       2        1  33.806881\n",
       "2     -0.067936  0.047864       3        1  23.989423, topic_info=          Term        Freq       Total Category  logprob  loglift\n",
       "490        sir  205.000000  205.000000  Default  30.0000  30.0000\n",
       "1915    waiter  141.000000  141.000000  Default  29.0000  29.0000\n",
       "1408  crampton  238.000000  238.000000  Default  28.0000  28.0000\n",
       "148      dolly  228.000000  228.000000  Default  27.0000  27.0000\n",
       "3504     bohun   77.000000   77.000000  Default  26.0000  26.0000\n",
       "...        ...         ...         ...      ...      ...      ...\n",
       "579         ve    9.775602   36.694247   Topic3  -5.9421   0.1048\n",
       "603        yes   11.265247   85.640045   Topic3  -5.8003  -0.6009\n",
       "282       know   10.181606   58.468653   Topic3  -5.9014  -0.3204\n",
       "541      thank    9.671256   41.772557   Topic3  -5.9528  -0.0355\n",
       "490        sir   10.234588  205.968156   Topic3  -5.8962  -1.5744\n",
       "\n",
       "[240 rows x 6 columns], token_table=      Topic      Freq      Term\n",
       "term                           \n",
       "1060      2  0.936603  accepted\n",
       "1066      2  0.890810    advice\n",
       "1071      1  0.224846        ah\n",
       "1071      2  0.786960        ah\n",
       "617       3  0.798870     alive\n",
       "...     ...       ...       ...\n",
       "603       2  0.233536       yes\n",
       "603       3  0.128445       yes\n",
       "604       1  0.368514     young\n",
       "604       2  0.184257     young\n",
       "604       3  0.452267     young\n",
       "\n",
       "[333 rows x 3 columns], R=30, lambda_step=0.01, plot_opts={'xlab': 'PC1', 'ylab': 'PC2'}, topic_order=[1, 2, 3])"
      ]
     },
     "execution_count": 226,
     "metadata": {},
     "output_type": "execute_result"
    }
   ],
   "source": [
    "import pyLDAvis.gensim_models as gensimvis\n",
    "import pyLDAvis\n",
    "\n",
    "# Prepare visualization\n",
    "pyLDAvis.enable_notebook()\n",
    "vis = gensimvis.prepare(lda_model, bow_corpus, dictionary)\n",
    "\n",
    "# Display the visualization\n",
    "vis"
   ]
  },
  {
   "cell_type": "markdown",
   "id": "941f206c-b4de-47e0-9bed-d85a2abb3d83",
   "metadata": {},
   "source": [
    "<a id='ner'></a>\n",
    "# Named Entity Recognition Using SpaCy\n",
    "\n",
    "SpaCy is a natural language processing library, similar to the NLTK in some respects, but with many notable differences. \n",
    " - Where the NLTK is meant for teaching and learning natural language processing, SpaCy is designed for industrial applications (i.e. designed for speed and accuracy, not necessarily ease-of-use). \n",
    " - Instead of performing each function separately (`word_tokenize`, `pos_tag`, `lemmatize`), SpaCy does everything all at once. This has advantages and disadvantages. For example, processing with SpaCy takes a long time. But once a text is processed, no further processing is necessary—it just becomes a matter of accessing the data that's already there. \n",
    " - Because SpaCy stores a *lot* of data about each text, this can easily lead to memory overflow errors. An easy way around this is to break the text up into individual parts, and to use functions wherever possible, to limit the amount of data stored in memory. It helps if you have a computer with a lot of RAM. You can also randomly sample chunks of text (like 1000-word chunks) at a time, and then take the average of all your random trials at the end. \n",
    " - While the NLTK's natural language processing is deterministic (built on human understanding of how language works), it's not quite as accurate as SpaCy's probabilistic (built on machine understanding of language) approach. \n",
    " \n",
    "At the moment, SpaCy is the fastest, and almost the most accurate parser available. \n",
    "\n",
    "First, load your language model, and store it as the variable `nlp`, which can then be run as a function: \n",
    "   "
   ]
  },
  {
   "cell_type": "code",
   "execution_count": 230,
   "id": "7b950222-d995-47cb-a2b4-33ba163d7003",
   "metadata": {},
   "outputs": [
    {
     "name": "stderr",
     "output_type": "stream",
     "text": [
      "python(19988) MallocStackLogging: can't turn off malloc stack logging because it was not enabled.\n"
     ]
    },
    {
     "name": "stdout",
     "output_type": "stream",
     "text": [
      "Collecting en-core-web-sm==3.6.0\n",
      "  Downloading https://github.com/explosion/spacy-models/releases/download/en_core_web_sm-3.6.0/en_core_web_sm-3.6.0-py3-none-any.whl (12.8 MB)\n",
      "\u001b[2K     \u001b[38;2;114;156;31m━━━━━━━━━━━━━━━━━━━━━━━━━━━━━━━━━━━━━━━━\u001b[0m \u001b[32m12.8/12.8 MB\u001b[0m \u001b[31m33.1 MB/s\u001b[0m eta \u001b[36m0:00:00\u001b[0m31m29.4 MB/s\u001b[0m eta \u001b[36m0:00:01\u001b[0m\n",
      "\u001b[?25hRequirement already satisfied: spacy<3.7.0,>=3.6.0 in /Users/tomvannuenen/anaconda3/envs/dlab/lib/python3.10/site-packages (from en-core-web-sm==3.6.0) (3.6.0)\n",
      "Requirement already satisfied: spacy-legacy<3.1.0,>=3.0.11 in /Users/tomvannuenen/anaconda3/envs/dlab/lib/python3.10/site-packages (from spacy<3.7.0,>=3.6.0->en-core-web-sm==3.6.0) (3.0.12)\n",
      "Requirement already satisfied: spacy-loggers<2.0.0,>=1.0.0 in /Users/tomvannuenen/anaconda3/envs/dlab/lib/python3.10/site-packages (from spacy<3.7.0,>=3.6.0->en-core-web-sm==3.6.0) (1.0.4)\n",
      "Requirement already satisfied: murmurhash<1.1.0,>=0.28.0 in /Users/tomvannuenen/anaconda3/envs/dlab/lib/python3.10/site-packages (from spacy<3.7.0,>=3.6.0->en-core-web-sm==3.6.0) (1.0.9)\n",
      "Requirement already satisfied: cymem<2.1.0,>=2.0.2 in /Users/tomvannuenen/anaconda3/envs/dlab/lib/python3.10/site-packages (from spacy<3.7.0,>=3.6.0->en-core-web-sm==3.6.0) (2.0.7)\n",
      "Requirement already satisfied: preshed<3.1.0,>=3.0.2 in /Users/tomvannuenen/anaconda3/envs/dlab/lib/python3.10/site-packages (from spacy<3.7.0,>=3.6.0->en-core-web-sm==3.6.0) (3.0.8)\n",
      "Requirement already satisfied: thinc<8.2.0,>=8.1.8 in /Users/tomvannuenen/anaconda3/envs/dlab/lib/python3.10/site-packages (from spacy<3.7.0,>=3.6.0->en-core-web-sm==3.6.0) (8.1.10)\n",
      "Requirement already satisfied: wasabi<1.2.0,>=0.9.1 in /Users/tomvannuenen/anaconda3/envs/dlab/lib/python3.10/site-packages (from spacy<3.7.0,>=3.6.0->en-core-web-sm==3.6.0) (1.1.2)\n",
      "Requirement already satisfied: srsly<3.0.0,>=2.4.3 in /Users/tomvannuenen/anaconda3/envs/dlab/lib/python3.10/site-packages (from spacy<3.7.0,>=3.6.0->en-core-web-sm==3.6.0) (2.4.7)\n",
      "Requirement already satisfied: catalogue<2.1.0,>=2.0.6 in /Users/tomvannuenen/anaconda3/envs/dlab/lib/python3.10/site-packages (from spacy<3.7.0,>=3.6.0->en-core-web-sm==3.6.0) (2.0.9)\n",
      "Requirement already satisfied: typer<0.10.0,>=0.3.0 in /Users/tomvannuenen/anaconda3/envs/dlab/lib/python3.10/site-packages (from spacy<3.7.0,>=3.6.0->en-core-web-sm==3.6.0) (0.9.0)\n",
      "Requirement already satisfied: pathy>=0.10.0 in /Users/tomvannuenen/anaconda3/envs/dlab/lib/python3.10/site-packages (from spacy<3.7.0,>=3.6.0->en-core-web-sm==3.6.0) (0.10.2)\n",
      "Requirement already satisfied: smart-open<7.0.0,>=5.2.1 in /Users/tomvannuenen/anaconda3/envs/dlab/lib/python3.10/site-packages (from spacy<3.7.0,>=3.6.0->en-core-web-sm==3.6.0) (6.3.0)\n",
      "Requirement already satisfied: tqdm<5.0.0,>=4.38.0 in /Users/tomvannuenen/anaconda3/envs/dlab/lib/python3.10/site-packages (from spacy<3.7.0,>=3.6.0->en-core-web-sm==3.6.0) (4.65.0)\n",
      "Requirement already satisfied: numpy>=1.15.0 in /Users/tomvannuenen/anaconda3/envs/dlab/lib/python3.10/site-packages (from spacy<3.7.0,>=3.6.0->en-core-web-sm==3.6.0) (1.25.0)\n",
      "Requirement already satisfied: requests<3.0.0,>=2.13.0 in /Users/tomvannuenen/anaconda3/envs/dlab/lib/python3.10/site-packages (from spacy<3.7.0,>=3.6.0->en-core-web-sm==3.6.0) (2.31.0)\n",
      "Requirement already satisfied: pydantic!=1.8,!=1.8.1,<1.11.0,>=1.7.4 in /Users/tomvannuenen/anaconda3/envs/dlab/lib/python3.10/site-packages (from spacy<3.7.0,>=3.6.0->en-core-web-sm==3.6.0) (1.10.12)\n",
      "Requirement already satisfied: jinja2 in /Users/tomvannuenen/anaconda3/envs/dlab/lib/python3.10/site-packages (from spacy<3.7.0,>=3.6.0->en-core-web-sm==3.6.0) (3.1.2)\n",
      "Requirement already satisfied: setuptools in /Users/tomvannuenen/anaconda3/envs/dlab/lib/python3.10/site-packages (from spacy<3.7.0,>=3.6.0->en-core-web-sm==3.6.0) (68.0.0)\n",
      "Requirement already satisfied: packaging>=20.0 in /Users/tomvannuenen/anaconda3/envs/dlab/lib/python3.10/site-packages (from spacy<3.7.0,>=3.6.0->en-core-web-sm==3.6.0) (23.1)\n",
      "Requirement already satisfied: langcodes<4.0.0,>=3.2.0 in /Users/tomvannuenen/anaconda3/envs/dlab/lib/python3.10/site-packages (from spacy<3.7.0,>=3.6.0->en-core-web-sm==3.6.0) (3.3.0)\n",
      "Requirement already satisfied: typing-extensions>=4.2.0 in /Users/tomvannuenen/anaconda3/envs/dlab/lib/python3.10/site-packages (from pydantic!=1.8,!=1.8.1,<1.11.0,>=1.7.4->spacy<3.7.0,>=3.6.0->en-core-web-sm==3.6.0) (4.9.0)\n",
      "Requirement already satisfied: charset-normalizer<4,>=2 in /Users/tomvannuenen/anaconda3/envs/dlab/lib/python3.10/site-packages (from requests<3.0.0,>=2.13.0->spacy<3.7.0,>=3.6.0->en-core-web-sm==3.6.0) (3.2.0)\n",
      "Requirement already satisfied: idna<4,>=2.5 in /Users/tomvannuenen/anaconda3/envs/dlab/lib/python3.10/site-packages (from requests<3.0.0,>=2.13.0->spacy<3.7.0,>=3.6.0->en-core-web-sm==3.6.0) (3.4)\n",
      "Requirement already satisfied: urllib3<3,>=1.21.1 in /Users/tomvannuenen/anaconda3/envs/dlab/lib/python3.10/site-packages (from requests<3.0.0,>=2.13.0->spacy<3.7.0,>=3.6.0->en-core-web-sm==3.6.0) (2.0.4)\n",
      "Requirement already satisfied: certifi>=2017.4.17 in /Users/tomvannuenen/anaconda3/envs/dlab/lib/python3.10/site-packages (from requests<3.0.0,>=2.13.0->spacy<3.7.0,>=3.6.0->en-core-web-sm==3.6.0) (2023.7.22)\n",
      "Requirement already satisfied: blis<0.8.0,>=0.7.8 in /Users/tomvannuenen/anaconda3/envs/dlab/lib/python3.10/site-packages (from thinc<8.2.0,>=8.1.8->spacy<3.7.0,>=3.6.0->en-core-web-sm==3.6.0) (0.7.10)\n",
      "Requirement already satisfied: confection<1.0.0,>=0.0.1 in /Users/tomvannuenen/anaconda3/envs/dlab/lib/python3.10/site-packages (from thinc<8.2.0,>=8.1.8->spacy<3.7.0,>=3.6.0->en-core-web-sm==3.6.0) (0.1.0)\n",
      "Requirement already satisfied: click<9.0.0,>=7.1.1 in /Users/tomvannuenen/anaconda3/envs/dlab/lib/python3.10/site-packages (from typer<0.10.0,>=0.3.0->spacy<3.7.0,>=3.6.0->en-core-web-sm==3.6.0) (8.1.6)\n",
      "Requirement already satisfied: MarkupSafe>=2.0 in /Users/tomvannuenen/anaconda3/envs/dlab/lib/python3.10/site-packages (from jinja2->spacy<3.7.0,>=3.6.0->en-core-web-sm==3.6.0) (2.1.3)\n",
      "\u001b[38;5;2m✔ Download and installation successful\u001b[0m\n",
      "You can now load the package via spacy.load('en_core_web_sm')\n"
     ]
    }
   ],
   "source": [
    "import spacy\n",
    "spacy.cli.download('en_core_web_sm')\n",
    "nlp = spacy.load('en_core_web_sm')"
   ]
  },
  {
   "cell_type": "markdown",
   "id": "1be9925a-a8d6-4e8b-b4a0-0641e58a1c78",
   "metadata": {},
   "source": [
    "Now let's get a text to play around with."
   ]
  },
  {
   "cell_type": "markdown",
   "id": "fad286a5-aee9-4fb9-9f42-9cd9ac2a050f",
   "metadata": {},
   "source": [
    "Process it using SpaCy: "
   ]
  },
  {
   "cell_type": "code",
   "execution_count": 231,
   "id": "921f47db-abc9-4d79-aa4b-8475df5f1a44",
   "metadata": {},
   "outputs": [],
   "source": [
    "doc = nlp(wilde)"
   ]
  },
  {
   "cell_type": "markdown",
   "id": "0c2c381b-88c1-4391-b2be-43e264646f0e",
   "metadata": {},
   "source": [
    "### Exploring our SpaCy Doc\n",
    "\n",
    "Now we can start to explore what we can do with the resulting Doc object: "
   ]
  },
  {
   "cell_type": "code",
   "execution_count": 232,
   "id": "7152e297-481d-44e8-a232-7e1f1a5e1b12",
   "metadata": {},
   "outputs": [
    {
     "data": {
      "text/plain": [
       "spacy.tokens.doc.Doc"
      ]
     },
     "execution_count": 232,
     "metadata": {},
     "output_type": "execute_result"
    }
   ],
   "source": [
    "type(doc)"
   ]
  },
  {
   "cell_type": "markdown",
   "id": "e4ebb455-fe32-4cd7-9c6e-1afbcbf0f8f9",
   "metadata": {},
   "source": [
    "Here are some things that we can do with this object: "
   ]
  },
  {
   "cell_type": "code",
   "execution_count": 234,
   "id": "9401593c-64de-47de-aa7d-ac70beecb2fe",
   "metadata": {},
   "outputs": [
    {
     "data": {
      "text/plain": [
       "['cats',\n",
       " 'char_span',\n",
       " 'copy',\n",
       " 'count_by',\n",
       " 'doc',\n",
       " 'ents',\n",
       " 'extend_tensor',\n",
       " 'from_array',\n",
       " 'from_bytes',\n",
       " 'from_dict',\n",
       " 'from_disk',\n",
       " 'from_docs',\n",
       " 'from_json',\n",
       " 'get_extension',\n",
       " 'get_lca_matrix',\n",
       " 'has_annotation',\n",
       " 'has_extension',\n",
       " 'has_unknown_spaces',\n",
       " 'has_vector',\n",
       " 'is_nered',\n",
       " 'is_parsed',\n",
       " 'is_sentenced',\n",
       " 'is_tagged',\n",
       " 'lang',\n",
       " 'lang_',\n",
       " 'mem',\n",
       " 'noun_chunks',\n",
       " 'noun_chunks_iterator',\n",
       " 'remove_extension',\n",
       " 'retokenize',\n",
       " 'sentiment',\n",
       " 'sents',\n",
       " 'set_ents',\n",
       " 'set_extension',\n",
       " 'similarity',\n",
       " 'spans',\n",
       " 'tensor',\n",
       " 'text',\n",
       " 'text_with_ws',\n",
       " 'to_array',\n",
       " 'to_bytes',\n",
       " 'to_dict',\n",
       " 'to_disk',\n",
       " 'to_json',\n",
       " 'to_utf8_array',\n",
       " 'user_data',\n",
       " 'user_hooks',\n",
       " 'user_span_hooks',\n",
       " 'user_token_hooks',\n",
       " 'vector',\n",
       " 'vector_norm',\n",
       " 'vocab']"
      ]
     },
     "execution_count": 234,
     "metadata": {},
     "output_type": "execute_result"
    }
   ],
   "source": [
    "[method for method in dir(doc) if not method.startswith('_')]"
   ]
  },
  {
   "cell_type": "markdown",
   "id": "befef10b-1cea-4f6c-a6cf-fd97dd3d65b6",
   "metadata": {},
   "source": [
    "We can also get the length (in tokens) of the text: "
   ]
  },
  {
   "cell_type": "code",
   "execution_count": 235,
   "id": "1fa36d31-904c-4c1c-8798-1c9b74891682",
   "metadata": {},
   "outputs": [
    {
     "data": {
      "text/plain": [
       "24782"
      ]
     },
     "execution_count": 235,
     "metadata": {},
     "output_type": "execute_result"
    }
   ],
   "source": [
    "len(doc)"
   ]
  },
  {
   "cell_type": "markdown",
   "id": "bab801d7-f838-47bf-8503-ddd58daf5876",
   "metadata": {},
   "source": [
    "SpaCy allows us to iterate over the text's words, as if the Doc were a list of tokens: "
   ]
  },
  {
   "cell_type": "code",
   "execution_count": 236,
   "id": "e1408fa7-bb46-420b-bc37-557b6228d17a",
   "metadata": {},
   "outputs": [
    {
     "name": "stdout",
     "output_type": "stream",
     "text": [
      "Lane\n",
      "is\n",
      "arranging\n",
      "afternoon\n",
      "tea\n",
      "on\n",
      "the\n",
      "table\n",
      ",\n",
      "and\n"
     ]
    }
   ],
   "source": [
    "for word in doc[40:50]:\n",
    "    print(word)"
   ]
  },
  {
   "cell_type": "markdown",
   "id": "ccdff891-1739-47b3-a3ff-ad363f3393b1",
   "metadata": {},
   "source": [
    "We can get a single word, too, so that we can do things with that individual word (token): "
   ]
  },
  {
   "cell_type": "code",
   "execution_count": 245,
   "id": "0f90f156-9b51-40f8-9339-4f9d03349814",
   "metadata": {
    "scrolled": true
   },
   "outputs": [
    {
     "data": {
      "text/plain": [
       "arranging"
      ]
     },
     "execution_count": 245,
     "metadata": {},
     "output_type": "execute_result"
    }
   ],
   "source": [
    "arranging = doc[42]\n",
    "arranging"
   ]
  },
  {
   "cell_type": "markdown",
   "id": "ddf6bd74-af03-419e-8424-c6f29f560181",
   "metadata": {},
   "source": [
    "### Exploring SpaCy Words\n",
    "\n",
    "SpaCy words are *objects*, rather than strings, and so they contain a lot of information that can be accessed via their many methods. Here are a few things you can do with them: "
   ]
  },
  {
   "cell_type": "code",
   "execution_count": 247,
   "id": "606fd46e-c1fa-4c16-9952-27dbf452fe0d",
   "metadata": {},
   "outputs": [
    {
     "data": {
      "text/plain": [
       "['ancestors',\n",
       " 'check_flag',\n",
       " 'children',\n",
       " 'cluster',\n",
       " 'conjuncts',\n",
       " 'dep',\n",
       " 'dep_',\n",
       " 'doc',\n",
       " 'ent_id',\n",
       " 'ent_id_',\n",
       " 'ent_iob',\n",
       " 'ent_iob_',\n",
       " 'ent_kb_id',\n",
       " 'ent_kb_id_',\n",
       " 'ent_type',\n",
       " 'ent_type_',\n",
       " 'get_extension',\n",
       " 'has_dep',\n",
       " 'has_extension',\n",
       " 'has_head',\n",
       " 'has_morph',\n",
       " 'has_vector',\n",
       " 'head',\n",
       " 'i',\n",
       " 'idx',\n",
       " 'iob_strings',\n",
       " 'is_alpha',\n",
       " 'is_ancestor',\n",
       " 'is_ascii',\n",
       " 'is_bracket',\n",
       " 'is_currency',\n",
       " 'is_digit',\n",
       " 'is_left_punct',\n",
       " 'is_lower',\n",
       " 'is_oov',\n",
       " 'is_punct',\n",
       " 'is_quote',\n",
       " 'is_right_punct',\n",
       " 'is_sent_end',\n",
       " 'is_sent_start',\n",
       " 'is_space',\n",
       " 'is_stop',\n",
       " 'is_title',\n",
       " 'is_upper',\n",
       " 'lang',\n",
       " 'lang_',\n",
       " 'left_edge',\n",
       " 'lefts',\n",
       " 'lemma',\n",
       " 'lemma_',\n",
       " 'lex',\n",
       " 'lex_id',\n",
       " 'like_email',\n",
       " 'like_num',\n",
       " 'like_url',\n",
       " 'lower',\n",
       " 'lower_',\n",
       " 'morph',\n",
       " 'n_lefts',\n",
       " 'n_rights',\n",
       " 'nbor',\n",
       " 'norm',\n",
       " 'norm_',\n",
       " 'orth',\n",
       " 'orth_',\n",
       " 'pos',\n",
       " 'pos_',\n",
       " 'prefix',\n",
       " 'prefix_',\n",
       " 'prob',\n",
       " 'rank',\n",
       " 'remove_extension',\n",
       " 'right_edge',\n",
       " 'rights',\n",
       " 'sent',\n",
       " 'sent_start',\n",
       " 'sentiment',\n",
       " 'set_extension',\n",
       " 'set_morph',\n",
       " 'shape',\n",
       " 'shape_',\n",
       " 'similarity',\n",
       " 'subtree',\n",
       " 'suffix',\n",
       " 'suffix_',\n",
       " 'tag',\n",
       " 'tag_',\n",
       " 'tensor',\n",
       " 'text',\n",
       " 'text_with_ws',\n",
       " 'vector',\n",
       " 'vector_norm',\n",
       " 'vocab',\n",
       " 'whitespace_']"
      ]
     },
     "execution_count": 247,
     "metadata": {},
     "output_type": "execute_result"
    }
   ],
   "source": [
    "[method for method in dir(arranging) if not method.startswith('_')]"
   ]
  },
  {
   "cell_type": "markdown",
   "id": "ebefc055-2a33-49fb-9811-d68512f058be",
   "metadata": {},
   "source": [
    "You can get the word's POS (as in the NLTK's `pos_tag()` function), like this: "
   ]
  },
  {
   "cell_type": "code",
   "execution_count": 248,
   "id": "5562eab7-484c-45d9-94b2-fbfef6a3e29b",
   "metadata": {},
   "outputs": [
    {
     "data": {
      "text/plain": [
       "'VBG'"
      ]
     },
     "execution_count": 248,
     "metadata": {},
     "output_type": "execute_result"
    }
   ],
   "source": [
    "arranging.tag_"
   ]
  },
  {
   "cell_type": "markdown",
   "id": "fc59b626-40a9-4f50-a08b-2216d4ca4886",
   "metadata": {},
   "source": [
    "Or a less specific tag (`VERB`, `NOUN`, `PUNCT`, etc.), like this: "
   ]
  },
  {
   "cell_type": "code",
   "execution_count": 249,
   "id": "c9da8ff7-ede5-4fd3-9f9e-549cf1a2568b",
   "metadata": {},
   "outputs": [
    {
     "data": {
      "text/plain": [
       "'VERB'"
      ]
     },
     "execution_count": 249,
     "metadata": {},
     "output_type": "execute_result"
    }
   ],
   "source": [
    "arranging.pos_"
   ]
  },
  {
   "cell_type": "markdown",
   "id": "ebdf44df-2123-4e85-9961-69bc29240b6a",
   "metadata": {},
   "source": [
    "(`.tag` and `.pos`, without the underscores, are numeric representations of these. You can use those if you don't care about human readability, and want your code to be a little faster.)\n",
    "\n",
    "You can also get the lemma for the word, which is its \"dictionary form\": "
   ]
  },
  {
   "cell_type": "code",
   "execution_count": 250,
   "id": "b6c8b111-2327-4350-a003-b80452fb768c",
   "metadata": {},
   "outputs": [
    {
     "data": {
      "text/plain": [
       "'arrange'"
      ]
     },
     "execution_count": 250,
     "metadata": {},
     "output_type": "execute_result"
    }
   ],
   "source": [
    "arranging.lemma_"
   ]
  },
  {
   "cell_type": "markdown",
   "id": "e8e39318-6a51-4982-a288-d10d20979720",
   "metadata": {},
   "source": [
    "With punctuation, like this comma, you can see how the `.tag` and the `.pos` properties differ: "
   ]
  },
  {
   "cell_type": "markdown",
   "id": "b7a0c2de-2422-4a0c-873b-8a5cb81e750b",
   "metadata": {},
   "source": [
    "One caveat: the word *object* is distinct from the word's string, so to count these, or otherwise treat them as strings, we first have to extract their text: "
   ]
  },
  {
   "cell_type": "markdown",
   "id": "b9b1207b-24a1-4a80-bdcd-205f382e00e8",
   "metadata": {},
   "source": [
    "## Named Entity Recognition\n",
    "\n",
    "Named entity recognition, or NER, is a subfield of natual language processing that deals with the automatic identification of people, places, things, and other related \"names.\" This sometimes includes numbers, dates, and other things. You can tell whether a word is a named entity, and if so, what type of entity it is, like this: "
   ]
  },
  {
   "cell_type": "code",
   "execution_count": 252,
   "id": "529cb0d0-f8f4-446f-9120-286f1e35432b",
   "metadata": {},
   "outputs": [
    {
     "data": {
      "text/plain": [
       "''"
      ]
     },
     "execution_count": 252,
     "metadata": {},
     "output_type": "execute_result"
    }
   ],
   "source": [
    "arranging.ent_type_"
   ]
  },
  {
   "cell_type": "markdown",
   "id": "abb51d4e-bacc-4763-8f3e-6a1b1ecd4a57",
   "metadata": {},
   "source": [
    "Explore the types of entities in a subset of words of our text: "
   ]
  },
  {
   "cell_type": "code",
   "execution_count": 254,
   "id": "a720f187-ac05-47b4-86d6-b1a5f29b6699",
   "metadata": {},
   "outputs": [
    {
     "name": "stdout",
     "output_type": "stream",
     "text": [
      "Lane : PERSON\n",
      "Lane : PERSON\n",
      "Lane : PERSON\n",
      "Lady : PERSON\n",
      "Bracknell : PERSON\n",
      "Lane : PERSON\n",
      "two : CARDINAL\n",
      "Lane : PERSON\n",
      "Thursday : DATE\n",
      "night : TIME\n",
      "eight : CARDINAL\n",
      "Lane : PERSON\n",
      "eight : CARDINAL\n"
     ]
    }
   ],
   "source": [
    "for word in doc[50:250]: \n",
    "    if len(word.text.strip()) > 0 and len(word.ent_type_) > 0: \n",
    "        print(word.text.strip(), ':', word.ent_type_)"
   ]
  },
  {
   "cell_type": "markdown",
   "id": "6030cf0c-d69c-4669-9764-5db4ace233e9",
   "metadata": {},
   "source": [
    "We can extract places like this: "
   ]
  },
  {
   "cell_type": "code",
   "execution_count": 255,
   "id": "cc662feb-7ae0-467e-96af-40fbfed392dc",
   "metadata": {},
   "outputs": [
    {
     "name": "stdout",
     "output_type": "stream",
     "text": [
      "Shropshire\n",
      "Shropshire\n",
      "Gwendolen\n",
      "Gwendolen\n",
      "Gwendolen\n",
      "Cecily\n",
      "Cecily\n"
     ]
    }
   ],
   "source": [
    "for word in doc[:2000]: \n",
    "    if len(word.ent_type_) > 0: \n",
    "        if word.ent_type_ == 'GPE': \n",
    "            print(word)"
   ]
  },
  {
   "cell_type": "markdown",
   "id": "4d7319a4-f9e2-40c6-a74a-bec446a8d1d1",
   "metadata": {},
   "source": [
    "And times like this: "
   ]
  },
  {
   "cell_type": "code",
   "execution_count": 265,
   "id": "045a4759-fb21-4b00-a73d-eb54c84e4be0",
   "metadata": {},
   "outputs": [
    {
     "name": "stdout",
     "output_type": "stream",
     "text": [
      "Morning\n",
      "afternoon\n",
      "night\n",
      "five\n",
      "o'clock\n",
      "tonight\n",
      "tonight\n",
      "ten\n",
      "minutes\n",
      "afternoon\n"
     ]
    }
   ],
   "source": [
    "for word in doc[:4000]: \n",
    "    if len(word.ent_type_) > 0: \n",
    "        if word.ent_type_ == 'TIME': \n",
    "            print(word)"
   ]
  },
  {
   "cell_type": "markdown",
   "id": "3335da94-af1c-40fa-929f-bbc4d0813ced",
   "metadata": {},
   "source": [
    "Alternatively, we can write this as a list comprehension: "
   ]
  },
  {
   "cell_type": "code",
   "execution_count": 257,
   "id": "c81be40a-614c-41da-9714-bba563f6d162",
   "metadata": {},
   "outputs": [],
   "source": [
    "times = [word.text for word in doc if word.ent_type_ == 'TIME']"
   ]
  },
  {
   "cell_type": "code",
   "execution_count": 258,
   "id": "5878227c-8404-48e9-aaf9-db43ed60681f",
   "metadata": {},
   "outputs": [
    {
     "data": {
      "text/plain": [
       "list"
      ]
     },
     "execution_count": 258,
     "metadata": {},
     "output_type": "execute_result"
    }
   ],
   "source": [
    "type(times)"
   ]
  },
  {
   "cell_type": "markdown",
   "id": "4d48b151-2a03-4357-b2fb-0939c48b87ca",
   "metadata": {},
   "source": [
    "We can count our list of times, put this into a Pandas Series, and plot them, to try to show what kinds of times occur most often in Betteredge's narrative: "
   ]
  },
  {
   "cell_type": "code",
   "execution_count": 266,
   "id": "f111c0d5-99c4-4a55-834b-fcbcf58b57c1",
   "metadata": {
    "scrolled": true
   },
   "outputs": [
    {
     "data": {
      "text/plain": [
       "<Axes: >"
      ]
     },
     "execution_count": 266,
     "metadata": {},
     "output_type": "execute_result"
    },
    {
     "data": {
      "image/png": "[encoded data removed]",
      "text/plain": [
       "<Figure size 720x360 with 1 Axes>"
      ]
     },
     "metadata": {
      "needs_background": "light"
     },
     "output_type": "display_data"
    }
   ],
   "source": [
    "from collections import Counter\n",
    "\n",
    "pd.Series(Counter(times))[['morning', 'afternoon',\n",
    "                           'evening', 'night']].plot(kind='bar')"
   ]
  },
  {
   "cell_type": "markdown",
   "id": "d4adefc4-e092-47b2-8fd7-ef17fed5d47d",
   "metadata": {},
   "source": [
    "And we can also see how frequently times and dates occur in narrative time. "
   ]
  },
  {
   "cell_type": "code",
   "execution_count": 269,
   "id": "53dd2157-f6c1-4c7a-823a-411e7dd91fac",
   "metadata": {
    "scrolled": true
   },
   "outputs": [
    {
     "data": {
      "text/plain": [
       "<Axes: >"
      ]
     },
     "execution_count": 269,
     "metadata": {},
     "output_type": "execute_result"
    },
    {
     "data": {
      "image/png": "[encoded data removed]",
      "text/plain": [
       "<Figure size 720x360 with 1 Axes>"
      ]
     },
     "metadata": {
      "needs_background": "light"
     },
     "output_type": "display_data"
    }
   ],
   "source": [
    "times = pd.Series(np.histogram([word.i for word in doc if word.ent_type_ == 'TIME'], bins=50)[0])\n",
    "times.plot()"
   ]
  }
 ],
 "metadata": {
  "kernelspec": {
   "display_name": "dlab",
   "language": "python",
   "name": "dlab"
  },
  "language_info": {
   "codemirror_mode": {
    "name": "ipython",
    "version": 3
   },
   "file_extension": ".py",
   "mimetype": "text/x-python",
   "name": "python",
   "nbconvert_exporter": "python",
   "pygments_lexer": "ipython3",
   "version": "3.10.12"
  }
 },
 "nbformat": 4,
 "nbformat_minor": 5
}

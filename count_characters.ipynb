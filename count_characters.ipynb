{
 "cells": [
  {
   "cell_type": "markdown",
   "id": "154cfa6d-9da6-4e1c-ae2e-d2af8a67e870",
   "metadata": {},
   "source": [
    "Q: What would be a practical approach to see how many times a character talks in a play (given that their line starts with their name)?"
   ]
  },
  {
   "cell_type": "markdown",
   "id": "4a7845a0-74cb-459a-99ad-afc7e1a4bd7e",
   "metadata": {},
   "source": [
    "A: Let's break this up. To do this, we need to:\n",
    "\n",
    "1. Split up some string (text) into the character name and what they say (which text method could help with this?)\n",
    "2. Save the characters and the amount of times they talk in some kind of variable (what kind of variable would help with this?)\n",
    "3. Iterate through the text such that every time we run into a character, we add +1 to the amount of lines they have spoken\n"
   ]
  },
  {
   "cell_type": "code",
   "execution_count": 18,
   "id": "c5868299-09e4-40fe-aa87-bf64edef51df",
   "metadata": {
    "scrolled": true
   },
   "outputs": [
    {
     "data": {
      "text/plain": [
       "['HAMLET:',\n",
       " 'To',\n",
       " 'be,',\n",
       " 'or',\n",
       " 'not',\n",
       " 'to',\n",
       " 'be,',\n",
       " 'that',\n",
       " 'is',\n",
       " 'the',\n",
       " 'question:',\n",
       " 'OPHELIA:',\n",
       " 'Oh,',\n",
       " 'what',\n",
       " 'a',\n",
       " 'noble',\n",
       " 'mind',\n",
       " 'is',\n",
       " 'here',\n",
       " \"o'erthrown!\"]"
      ]
     },
     "execution_count": 18,
     "metadata": {},
     "output_type": "execute_result"
    }
   ],
   "source": [
    "# Starting small\n",
    "ex_text = \"\"\"\n",
    "HAMLET: To be, or not to be, that is the question:\n",
    "OPHELIA: Oh, what a noble mind is here o'erthrown!\n",
    "\"\"\"\n",
    "\n",
    "ex_text.split()"
   ]
  },
  {
   "cell_type": "code",
   "execution_count": 19,
   "id": "b29ffb11-2602-44d0-b531-f9854ebfa478",
   "metadata": {},
   "outputs": [
    {
     "data": {
      "text/plain": [
       "['\\nHAMLET',\n",
       " ' To be, or not to be, that is the question',\n",
       " '\\nOPHELIA',\n",
       " \" Oh, what a noble mind is here o'erthrown!\\n\"]"
      ]
     },
     "execution_count": 19,
     "metadata": {},
     "output_type": "execute_result"
    }
   ],
   "source": [
    "# this will split on the first : we encounter\n",
    "ex_text.split(':')"
   ]
  },
  {
   "cell_type": "code",
   "execution_count": 20,
   "id": "6f035439-5ef9-4da4-8e7c-62d15b5256ad",
   "metadata": {},
   "outputs": [
    {
     "data": {
      "text/plain": [
       "['',\n",
       " 'HAMLET: To be, or not to be, that is the question:',\n",
       " \"OPHELIA: Oh, what a noble mind is here o'erthrown!\",\n",
       " '']"
      ]
     },
     "execution_count": 20,
     "metadata": {},
     "output_type": "execute_result"
    }
   ],
   "source": [
    "ex_text.split(\"\\n\")"
   ]
  },
  {
   "cell_type": "code",
   "execution_count": 21,
   "id": "a785e596-6307-4545-8bb3-5dd84e5677ad",
   "metadata": {},
   "outputs": [],
   "source": [
    "lines = ex_text.split(\"\\n\")"
   ]
  },
  {
   "cell_type": "code",
   "execution_count": 22,
   "id": "9813423e-6c02-49c3-a7b2-68d030435110",
   "metadata": {},
   "outputs": [
    {
     "name": "stdout",
     "output_type": "stream",
     "text": [
      "['']\n",
      "['HAMLET', ' To be, or not to be, that is the question', '']\n",
      "['OPHELIA', \" Oh, what a noble mind is here o'erthrown!\"]\n",
      "['']\n"
     ]
    }
   ],
   "source": [
    "for line in lines:\n",
    "    print(line.split(':'))"
   ]
  },
  {
   "cell_type": "code",
   "execution_count": 26,
   "id": "fedc38ae-648f-4985-b1e7-09c16278e3bf",
   "metadata": {},
   "outputs": [
    {
     "name": "stdout",
     "output_type": "stream",
     "text": [
      "['HAMLET', ' To be, or not to be, that is the question', '']\n",
      "['OPHELIA', \" Oh, what a noble mind is here o'erthrown!\"]\n"
     ]
    }
   ],
   "source": [
    "lines = ex_text.strip().split(\"\\n\")\n",
    "\n",
    "for line in lines:\n",
    "    print(line.split(':'))"
   ]
  },
  {
   "cell_type": "code",
   "execution_count": 46,
   "id": "56eb3213-5114-4500-ae15-85eadbdeb5d4",
   "metadata": {},
   "outputs": [],
   "source": [
    "char_count = {}"
   ]
  },
  {
   "cell_type": "code",
   "execution_count": 47,
   "id": "d90da281-4f59-454f-9da1-b8fc12054b8b",
   "metadata": {},
   "outputs": [
    {
     "name": "stdout",
     "output_type": "stream",
     "text": [
      "HAMLET\n",
      "OPHELIA\n"
     ]
    }
   ],
   "source": [
    "for line in lines:\n",
    "    parts = line.split(':')\n",
    "    character = parts[0].strip()\n",
    "    print(character)"
   ]
  },
  {
   "cell_type": "code",
   "execution_count": 48,
   "id": "62c0e72a-553e-4b12-85ce-60597f5d08c7",
   "metadata": {},
   "outputs": [
    {
     "data": {
      "text/plain": [
       "{'HAMLET': 1, 'OPHELIA': 1}"
      ]
     },
     "execution_count": 48,
     "metadata": {},
     "output_type": "execute_result"
    }
   ],
   "source": [
    "char_count = {}\n",
    "\n",
    "for line in lines:\n",
    "    parts = line.split(':')\n",
    "    character = parts[0].strip()\n",
    "    if character in char_count:\n",
    "        char_count[character] += 1\n",
    "    else:\n",
    "        char_count[character] = 1\n",
    "        \n",
    "char_count"
   ]
  },
  {
   "cell_type": "code",
   "execution_count": 49,
   "id": "9fbdae82-9717-4edc-9f11-c4f56a15c9dd",
   "metadata": {},
   "outputs": [
    {
     "name": "stdout",
     "output_type": "stream",
     "text": [
      "HAMLET: 3\n",
      "OPHELIA: 2\n",
      "HORATIO: 1\n"
     ]
    }
   ],
   "source": [
    "# Put it in a function\n",
    "play_text = \"\"\"\n",
    "HAMLET: To be, or not to be, that is the question:\n",
    "OPHELIA: Oh, what a noble mind is here o'erthrown!\n",
    "HAMLET: Whether 'tis nobler in the mind to suffer\n",
    "OPHELIA: The slings and arrows of outrageous fortune,\n",
    "HAMLET: Or to take arms against a sea of troubles\n",
    "HORATIO: That is the question:\n",
    "\"\"\"\n",
    "\n",
    "# Function to count the number of lines spoken by each character\n",
    "def count_lines(play_text):\n",
    "    # Split the text into lines\n",
    "    lines = play_text.strip().split(\"\\n\")\n",
    "    # Initialize a dictionary to hold the count of lines per character\n",
    "    line_count = {}\n",
    "    # Iterate through each line\n",
    "    for line in lines:\n",
    "        # Split each line by the colon to separate the character's name from their dialogue\n",
    "        parts = line.split(\":\")\n",
    "        character = parts[0].strip()\n",
    "        # Increment the character's line count\n",
    "        if character in line_count:\n",
    "            line_count[character] += 1\n",
    "        else:\n",
    "            line_count[character] = 1\n",
    "    return line_count\n",
    "\n",
    "# Count the lines and print the result\n",
    "line_counts = count_lines(play_text)\n",
    "for character, count in line_counts.items():\n",
    "    print(f\"{character}: {count}\")"
   ]
  }
 ],
 "metadata": {
  "kernelspec": {
   "display_name": "dlab",
   "language": "python",
   "name": "dlab"
  },
  "language_info": {
   "codemirror_mode": {
    "name": "ipython",
    "version": 3
   },
   "file_extension": ".py",
   "mimetype": "text/x-python",
   "name": "python",
   "nbconvert_exporter": "python",
   "pygments_lexer": "ipython3",
   "version": "3.10.10"
  }
 },
 "nbformat": 4,
 "nbformat_minor": 5
}
